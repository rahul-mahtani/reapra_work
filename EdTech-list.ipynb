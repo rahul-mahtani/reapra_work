{
 "cells": [
  {
   "cell_type": "code",
   "execution_count": 34,
   "metadata": {
    "collapsed": true,
    "extensions": {
     "jupyter_dashboards": {
      "version": 1,
      "views": {
       "grid_default": {
        "hidden": true
       },
       "report_default": {
        "hidden": true
       }
      }
     }
    }
   },
   "outputs": [],
   "source": [
    "import numpy as np\n",
    "import pandas as pd\n",
    "from selenium import webdriver\n",
    "import time\n",
    "from datetime import datetime\n",
    "import matplotlib.pyplot as plt\n",
    "%matplotlib inline"
   ]
  },
  {
   "cell_type": "markdown",
   "metadata": {
    "extensions": {
     "jupyter_dashboards": {
      "version": 1,
      "views": {
       "grid_default": {
        "col": 0,
        "height": 4,
        "hidden": false,
        "row": 0,
        "width": 4
       },
       "report_default": {
        "hidden": true
       }
      }
     }
    }
   },
   "source": [
    "## Scraping tech in Asia Ed-tech firms"
   ]
  },
  {
   "cell_type": "code",
   "execution_count": 37,
   "metadata": {
    "collapsed": true,
    "extensions": {
     "jupyter_dashboards": {
      "version": 1,
      "views": {
       "grid_default": {
        "hidden": true
       },
       "report_default": {
        "hidden": true
       }
      }
     }
    }
   },
   "outputs": [],
   "source": [
    "url = 'https://www.techinasia.com/startups?country_name%5B%5D=Singapore&country_name%5B%5D=Indonesia&country_name%5B%5D=Vietnam&country_name%5B%5D=Malaysia&industry_name%5B%5D=Education%20Tech'\n",
    "browser = webdriver.Chrome()\n",
    "browser.get(url)"
   ]
  },
  {
   "cell_type": "code",
   "execution_count": 29,
   "metadata": {
    "collapsed": true,
    "extensions": {
     "jupyter_dashboards": {
      "version": 1,
      "views": {
       "grid_default": {
        "hidden": true
       },
       "report_default": {
        "hidden": true
       }
      }
     }
    }
   },
   "outputs": [],
   "source": [
    "results_xpath = '//*[@id=\"app\"]/div/div/div/div/div/div[2]/div[2]'"
   ]
  },
  {
   "cell_type": "code",
   "execution_count": 38,
   "metadata": {
    "extensions": {
     "jupyter_dashboards": {
      "version": 1,
      "views": {
       "grid_default": {
        "col": 4,
        "height": 9,
        "hidden": false,
        "row": 0,
        "width": 4
       },
       "report_default": {
        "hidden": true
       }
      }
     }
    }
   },
   "outputs": [
    {
     "name": "stdout",
     "output_type": "stream",
     "text": [
      "Scraping from page 1 ...\n",
      "Scraping from page 2 ...\n",
      "Scraping from page 3 ...\n",
      "Scraping from page 4 ...\n",
      "Scraping from page 5 ...\n",
      "Scraping from page 6 ...\n",
      "Scraping from page 7 ...\n",
      "Scraping from page 8 ...\n",
      "Scraping from page 9 ...\n",
      "Scraping from page 10 ...\n",
      "Scraping from page 11 ...\n",
      "Last page scraped: 12\n",
      "Total Companies: 321, Descriptions: 321, Funding information: 321, Tags: 321\n"
     ]
    }
   ],
   "source": [
    "startups = []\n",
    "description = []\n",
    "funding = []\n",
    "tags = []\n",
    "\n",
    "scraping = True\n",
    "page = 1\n",
    "while (scraping == True):\n",
    "    print 'Scraping from page %d ...' % page\n",
    "    get_data()\n",
    "    try:\n",
    "        page += 1\n",
    "        turn_page(page)\n",
    "        \n",
    "    except:\n",
    "        print 'Last page scraped: %d' % page\n",
    "        browser.close()\n",
    "        scraping = False\n",
    "        \n",
    "print 'Total Companies: %d, Descriptions: %d, Funding information: %d, Tags: %d' % (len(startups), len(description), len(funding), len(tags))    "
   ]
  },
  {
   "cell_type": "code",
   "execution_count": 36,
   "metadata": {
    "collapsed": true,
    "extensions": {
     "jupyter_dashboards": {
      "version": 1,
      "views": {
       "grid_default": {
        "hidden": true
       },
       "report_default": {
        "hidden": true
       }
      }
     }
    },
    "scrolled": true
   },
   "outputs": [],
   "source": [
    "def get_data():\n",
    "    companies = browser.find_elements_by_class_name(\"search-results\")\n",
    "    names = companies[0].find_elements_by_class_name(\"media-body\")\n",
    "    for n in names:\n",
    "        title = n.find_element_by_css_selector('a').text\n",
    "        startups.append(title)\n",
    "        des_fund_tag = n.find_elements_by_class_name('search-results__item-meta')\n",
    "        des = des_fund_tag[0].text\n",
    "        description.append(des)\n",
    "        if (len(des_fund_tag) == 3):\n",
    "            funds = des_fund_tag[1].text\n",
    "            industry = des_fund_tag[2].text\n",
    "        else:\n",
    "            funds = np.nan\n",
    "            industry = des_fund_tag[1].text\n",
    "        funding.append(funds)\n",
    "        tags.append(industry)\n",
    "        \n",
    "def turn_page(p):\n",
    "    page_num = str(p)\n",
    "    browser.find_element_by_link_text(page_num).click()"
   ]
  },
  {
   "cell_type": "code",
   "execution_count": 39,
   "metadata": {
    "extensions": {
     "jupyter_dashboards": {
      "version": 1,
      "views": {
       "grid_default": {
        "col": 8,
        "height": 16,
        "hidden": false,
        "row": 0,
        "width": 4
       },
       "report_default": {
        "hidden": true
       }
      }
     }
    }
   },
   "outputs": [
    {
     "data": {
      "text/html": [
       "<div>\n",
       "<table border=\"1\" class=\"dataframe\">\n",
       "  <thead>\n",
       "    <tr style=\"text-align: right;\">\n",
       "      <th></th>\n",
       "      <th>company</th>\n",
       "      <th>descriptions</th>\n",
       "      <th>funding</th>\n",
       "      <th>tags</th>\n",
       "    </tr>\n",
       "  </thead>\n",
       "  <tbody>\n",
       "    <tr>\n",
       "      <th>0</th>\n",
       "      <td>Gnowbe</td>\n",
       "      <td>Gnowbe is a disruptive mobile learning solutio...</td>\n",
       "      <td>Latest Funding: Seed / $1,700,000 / May '17</td>\n",
       "      <td>Industries: Education Tech, Enterprise Applica...</td>\n",
       "    </tr>\n",
       "    <tr>\n",
       "      <th>1</th>\n",
       "      <td>DANAdidik</td>\n",
       "      <td>DANAdidik is a Peer-to-Peer Lending (P2PL) for...</td>\n",
       "      <td>Latest Funding: Seed / $50,000 / May '17</td>\n",
       "      <td>Industries: Education Tech, Crowdfunding</td>\n",
       "    </tr>\n",
       "    <tr>\n",
       "      <th>2</th>\n",
       "      <td>HarukaEdu</td>\n",
       "      <td>HarukaEdu is education portal where users can ...</td>\n",
       "      <td>Latest Funding: Series B / $2,200,000 / Nov '16</td>\n",
       "      <td>Industries: Education Tech, Adaptive Learning</td>\n",
       "    </tr>\n",
       "    <tr>\n",
       "      <th>3</th>\n",
       "      <td>Nhance App</td>\n",
       "      <td>Nhance is a mobile learning platform which tra...</td>\n",
       "      <td>Latest Funding: Seed / $300,000 / Aug '16</td>\n",
       "      <td>Industries: Education Tech, Educational Games</td>\n",
       "    </tr>\n",
       "    <tr>\n",
       "      <th>4</th>\n",
       "      <td>Tueetor</td>\n",
       "      <td>Tueetor is a free, online marketplace that con...</td>\n",
       "      <td>Latest Funding: Undisclosed / $1,480,000 / Aug...</td>\n",
       "      <td>Industries: Education Tech, Tutor Services</td>\n",
       "    </tr>\n",
       "  </tbody>\n",
       "</table>\n",
       "</div>"
      ],
      "text/plain": [
       "      company                                       descriptions  \\\n",
       "0      Gnowbe  Gnowbe is a disruptive mobile learning solutio...   \n",
       "1   DANAdidik  DANAdidik is a Peer-to-Peer Lending (P2PL) for...   \n",
       "2   HarukaEdu  HarukaEdu is education portal where users can ...   \n",
       "3  Nhance App  Nhance is a mobile learning platform which tra...   \n",
       "4     Tueetor  Tueetor is a free, online marketplace that con...   \n",
       "\n",
       "                                             funding  \\\n",
       "0        Latest Funding: Seed / $1,700,000 / May '17   \n",
       "1           Latest Funding: Seed / $50,000 / May '17   \n",
       "2    Latest Funding: Series B / $2,200,000 / Nov '16   \n",
       "3          Latest Funding: Seed / $300,000 / Aug '16   \n",
       "4  Latest Funding: Undisclosed / $1,480,000 / Aug...   \n",
       "\n",
       "                                                tags  \n",
       "0  Industries: Education Tech, Enterprise Applica...  \n",
       "1           Industries: Education Tech, Crowdfunding  \n",
       "2      Industries: Education Tech, Adaptive Learning  \n",
       "3      Industries: Education Tech, Educational Games  \n",
       "4         Industries: Education Tech, Tutor Services  "
      ]
     },
     "execution_count": 39,
     "metadata": {},
     "output_type": "execute_result"
    }
   ],
   "source": [
    "df = pd.DataFrame()\n",
    "df['company'] = startups\n",
    "df['descriptions'] = description\n",
    "df['funding'] = funding\n",
    "df['tags'] = tags\n",
    "df.head()"
   ]
  },
  {
   "cell_type": "code",
   "execution_count": 46,
   "metadata": {
    "collapsed": true,
    "extensions": {
     "jupyter_dashboards": {
      "version": 1,
      "views": {
       "grid_default": {
        "hidden": true
       },
       "report_default": {
        "hidden": true
       }
      }
     }
    }
   },
   "outputs": [],
   "source": [
    "for col in df.columns:\n",
    "    df[col] = df[col].str.encode('utf-8')"
   ]
  },
  {
   "cell_type": "code",
   "execution_count": 47,
   "metadata": {
    "collapsed": true,
    "extensions": {
     "jupyter_dashboards": {
      "version": 1,
      "views": {
       "grid_default": {
        "hidden": true
       },
       "report_default": {
        "hidden": true
       }
      }
     }
    }
   },
   "outputs": [],
   "source": [
    "df.to_csv('edtech_tia.csv')"
   ]
  },
  {
   "cell_type": "markdown",
   "metadata": {
    "extensions": {
     "jupyter_dashboards": {
      "version": 1,
      "views": {
       "grid_default": {
        "col": 0,
        "height": 4,
        "hidden": false,
        "row": 4,
        "width": 4
       },
       "report_default": {
        "hidden": true
       }
      }
     }
    }
   },
   "source": [
    "## Pre-processing and LDA"
   ]
  },
  {
   "cell_type": "code",
   "execution_count": 1,
   "metadata": {
    "extensions": {
     "jupyter_dashboards": {
      "version": 1,
      "views": {
       "grid_default": {
        "col": 0,
        "height": 9,
        "hidden": false,
        "row": 8,
        "width": 4
       },
       "report_default": {
        "hidden": true
       }
      }
     }
    }
   },
   "outputs": [
    {
     "name": "stdout",
     "output_type": "stream",
     "text": [
      "[nltk_data] Downloading package stopwords to\n",
      "[nltk_data]     /Users/rahulmahtani/nltk_data...\n",
      "[nltk_data]   Package stopwords is already up-to-date!\n",
      "[nltk_data] Downloading package wordnet to\n",
      "[nltk_data]     /Users/rahulmahtani/nltk_data...\n",
      "[nltk_data]   Package wordnet is already up-to-date!\n"
     ]
    },
    {
     "data": {
      "text/plain": [
       "True"
      ]
     },
     "execution_count": 1,
     "metadata": {},
     "output_type": "execute_result"
    }
   ],
   "source": [
    "import nltk\n",
    "import string\n",
    "nltk.download('stopwords')\n",
    "nltk.download('wordnet')"
   ]
  },
  {
   "cell_type": "code",
   "execution_count": 2,
   "metadata": {
    "extensions": {
     "jupyter_dashboards": {
      "version": 1,
      "views": {
       "grid_default": {
        "col": 4,
        "height": 9,
        "hidden": false,
        "row": 9,
        "width": 4
       },
       "report_default": {
        "hidden": true
       }
      }
     }
    }
   },
   "outputs": [
    {
     "name": "stdout",
     "output_type": "stream",
     "text": [
      "[nltk_data] Downloading package punkt to\n",
      "[nltk_data]     /Users/rahulmahtani/nltk_data...\n",
      "[nltk_data]   Package punkt is already up-to-date!\n",
      "[nltk_data] Downloading package averaged_perceptron_tagger to\n",
      "[nltk_data]     /Users/rahulmahtani/nltk_data...\n",
      "[nltk_data]   Package averaged_perceptron_tagger is already up-to-\n",
      "[nltk_data]       date!\n"
     ]
    },
    {
     "data": {
      "text/plain": [
       "True"
      ]
     },
     "execution_count": 2,
     "metadata": {},
     "output_type": "execute_result"
    }
   ],
   "source": [
    "nltk.download('punkt')\n",
    "nltk.download('averaged_perceptron_tagger')"
   ]
  },
  {
   "cell_type": "code",
   "execution_count": 3,
   "metadata": {
    "collapsed": true,
    "extensions": {
     "jupyter_dashboards": {
      "version": 1,
      "views": {
       "grid_default": {
        "hidden": true
       },
       "report_default": {
        "hidden": true
       }
      }
     }
    }
   },
   "outputs": [],
   "source": [
    "import numpy as np\n",
    "import pandas as pd\n",
    "from selenium import webdriver\n",
    "import time\n",
    "from datetime import datetime\n",
    "import matplotlib.pyplot as plt\n",
    "%matplotlib inline"
   ]
  },
  {
   "cell_type": "code",
   "execution_count": 4,
   "metadata": {
    "extensions": {
     "jupyter_dashboards": {
      "version": 1,
      "views": {
       "grid_default": {
        "col": 8,
        "height": 16,
        "hidden": false,
        "row": 16,
        "width": 4
       },
       "report_default": {
        "hidden": true
       }
      }
     }
    }
   },
   "outputs": [
    {
     "data": {
      "text/html": [
       "<div>\n",
       "<table border=\"1\" class=\"dataframe\">\n",
       "  <thead>\n",
       "    <tr style=\"text-align: right;\">\n",
       "      <th></th>\n",
       "      <th>company</th>\n",
       "      <th>descriptions</th>\n",
       "      <th>funding</th>\n",
       "      <th>tags</th>\n",
       "    </tr>\n",
       "  </thead>\n",
       "  <tbody>\n",
       "    <tr>\n",
       "      <th>0</th>\n",
       "      <td>Gnowbe</td>\n",
       "      <td>Gnowbe is a disruptive mobile learning solutio...</td>\n",
       "      <td>Latest Funding: Seed / $1,700,000 / May '17</td>\n",
       "      <td>Industries: Education Tech, Enterprise Applica...</td>\n",
       "    </tr>\n",
       "    <tr>\n",
       "      <th>1</th>\n",
       "      <td>DANAdidik</td>\n",
       "      <td>DANAdidik is a Peer-to-Peer Lending (P2PL) for...</td>\n",
       "      <td>Latest Funding: Seed / $50,000 / May '17</td>\n",
       "      <td>Industries: Education Tech, Crowdfunding</td>\n",
       "    </tr>\n",
       "    <tr>\n",
       "      <th>2</th>\n",
       "      <td>HarukaEdu</td>\n",
       "      <td>HarukaEdu is education portal where users can ...</td>\n",
       "      <td>Latest Funding: Series B / $2,200,000 / Nov '16</td>\n",
       "      <td>Industries: Education Tech, Adaptive Learning</td>\n",
       "    </tr>\n",
       "    <tr>\n",
       "      <th>3</th>\n",
       "      <td>Nhance App</td>\n",
       "      <td>Nhance is a mobile learning platform which tra...</td>\n",
       "      <td>Latest Funding: Seed / $300,000 / Aug '16</td>\n",
       "      <td>Industries: Education Tech, Educational Games</td>\n",
       "    </tr>\n",
       "    <tr>\n",
       "      <th>4</th>\n",
       "      <td>Tueetor</td>\n",
       "      <td>Tueetor is a free, online marketplace that con...</td>\n",
       "      <td>Latest Funding: Undisclosed / $1,480,000 / Aug...</td>\n",
       "      <td>Industries: Education Tech, Tutor Services</td>\n",
       "    </tr>\n",
       "  </tbody>\n",
       "</table>\n",
       "</div>"
      ],
      "text/plain": [
       "      company                                       descriptions  \\\n",
       "0      Gnowbe  Gnowbe is a disruptive mobile learning solutio...   \n",
       "1   DANAdidik  DANAdidik is a Peer-to-Peer Lending (P2PL) for...   \n",
       "2   HarukaEdu  HarukaEdu is education portal where users can ...   \n",
       "3  Nhance App  Nhance is a mobile learning platform which tra...   \n",
       "4     Tueetor  Tueetor is a free, online marketplace that con...   \n",
       "\n",
       "                                             funding  \\\n",
       "0        Latest Funding: Seed / $1,700,000 / May '17   \n",
       "1           Latest Funding: Seed / $50,000 / May '17   \n",
       "2    Latest Funding: Series B / $2,200,000 / Nov '16   \n",
       "3          Latest Funding: Seed / $300,000 / Aug '16   \n",
       "4  Latest Funding: Undisclosed / $1,480,000 / Aug...   \n",
       "\n",
       "                                                tags  \n",
       "0  Industries: Education Tech, Enterprise Applica...  \n",
       "1           Industries: Education Tech, Crowdfunding  \n",
       "2      Industries: Education Tech, Adaptive Learning  \n",
       "3      Industries: Education Tech, Educational Games  \n",
       "4         Industries: Education Tech, Tutor Services  "
      ]
     },
     "execution_count": 4,
     "metadata": {},
     "output_type": "execute_result"
    }
   ],
   "source": [
    "df_in = pd.read_csv('edtech_tia.csv')\n",
    "df_in.drop(\"Unnamed: 0\", axis=1, inplace=True)\n",
    "df_in.head()"
   ]
  },
  {
   "cell_type": "code",
   "execution_count": 5,
   "metadata": {
    "collapsed": true,
    "extensions": {
     "jupyter_dashboards": {
      "version": 1,
      "views": {
       "grid_default": {
        "hidden": true
       },
       "report_default": {
        "hidden": true
       }
      }
     }
    }
   },
   "outputs": [],
   "source": [
    "df_in['cleaned'] = df_in['descriptions'].apply(lambda x:''.join([i for i in x \n",
    "                                                  if i not in string.punctuation]))"
   ]
  },
  {
   "cell_type": "code",
   "execution_count": 6,
   "metadata": {
    "collapsed": true,
    "extensions": {
     "jupyter_dashboards": {
      "version": 1,
      "views": {
       "grid_default": {
        "hidden": true
       },
       "report_default": {
        "hidden": true
       }
      }
     }
    }
   },
   "outputs": [],
   "source": [
    "import lda\n",
    "from sklearn.decomposition import NMF\n",
    "from sklearn.feature_extraction.text import TfidfVectorizer, CountVectorizer\n",
    "\n",
    "test = df_in['cleaned']\n",
    "tfidf_vectorizer = TfidfVectorizer(max_df=0.95, min_df=2, max_features=500, stop_words='english')\n",
    "tfidf = tfidf_vectorizer.fit_transform(test)\n",
    "tfidf_feature_names = tfidf_vectorizer.get_feature_names()"
   ]
  },
  {
   "cell_type": "code",
   "execution_count": 7,
   "metadata": {
    "collapsed": true,
    "extensions": {
     "jupyter_dashboards": {
      "version": 1,
      "views": {
       "grid_default": {
        "hidden": true
       },
       "report_default": {
        "hidden": true
       }
      }
     }
    }
   },
   "outputs": [],
   "source": [
    "from nltk.corpus import stopwords\n",
    "from nltk.stem.wordnet import WordNetLemmatizer\n",
    "\n",
    "stop = set(stopwords.words('english'))\n",
    "exclude = set(string.punctuation) \n",
    "lemma = WordNetLemmatizer()\n",
    "\n",
    "def clean(doc):\n",
    "    stop_free = \" \".join([i for i in doc.lower().split() if i not in stop])\n",
    "    punc_free = ''.join(ch for ch in stop_free if ch not in exclude)\n",
    "    normalized = \" \".join(lemma.lemmatize(word) for word in punc_free.split())\n",
    "    return normalized"
   ]
  },
  {
   "cell_type": "code",
   "execution_count": 8,
   "metadata": {
    "collapsed": true,
    "extensions": {
     "jupyter_dashboards": {
      "version": 1,
      "views": {
       "grid_default": {
        "hidden": true
       },
       "report_default": {
        "hidden": true
       }
      }
     }
    }
   },
   "outputs": [],
   "source": [
    "# encoding: utf-8\n",
    "test2 = [clean(doc).split() for doc in df_in['descriptions'].str.decode(\"utf8\")]"
   ]
  },
  {
   "cell_type": "code",
   "execution_count": 9,
   "metadata": {
    "extensions": {
     "jupyter_dashboards": {
      "version": 1,
      "views": {
       "grid_default": {
        "col": 0,
        "height": 12,
        "hidden": false,
        "row": 17,
        "width": 4
       },
       "report_default": {
        "hidden": true
       }
      }
     }
    }
   },
   "outputs": [
    {
     "name": "stdout",
     "output_type": "stream",
     "text": [
      "(321, 471)\n"
     ]
    },
    {
     "data": {
      "text/html": [
       "<div>\n",
       "<table border=\"1\" class=\"dataframe\">\n",
       "  <thead>\n",
       "    <tr style=\"text-align: right;\">\n",
       "      <th></th>\n",
       "      <th>word</th>\n",
       "      <th>score</th>\n",
       "    </tr>\n",
       "  </thead>\n",
       "  <tbody>\n",
       "    <tr>\n",
       "      <th>292</th>\n",
       "      <td>online</td>\n",
       "      <td>2.470486</td>\n",
       "    </tr>\n",
       "    <tr>\n",
       "      <th>133</th>\n",
       "      <td>education</td>\n",
       "      <td>2.484092</td>\n",
       "    </tr>\n",
       "    <tr>\n",
       "      <th>313</th>\n",
       "      <td>platform</td>\n",
       "      <td>2.569859</td>\n",
       "    </tr>\n",
       "    <tr>\n",
       "      <th>246</th>\n",
       "      <td>learning</td>\n",
       "      <td>2.584897</td>\n",
       "    </tr>\n",
       "    <tr>\n",
       "      <th>410</th>\n",
       "      <td>students</td>\n",
       "      <td>2.785567</td>\n",
       "    </tr>\n",
       "    <tr>\n",
       "      <th>440</th>\n",
       "      <td>training</td>\n",
       "      <td>3.248191</td>\n",
       "    </tr>\n",
       "    <tr>\n",
       "      <th>244</th>\n",
       "      <td>learn</td>\n",
       "      <td>3.442347</td>\n",
       "    </tr>\n",
       "    <tr>\n",
       "      <th>211</th>\n",
       "      <td>indonesia</td>\n",
       "      <td>3.555676</td>\n",
       "    </tr>\n",
       "    <tr>\n",
       "      <th>301</th>\n",
       "      <td>parents</td>\n",
       "      <td>3.596498</td>\n",
       "    </tr>\n",
       "    <tr>\n",
       "      <th>82</th>\n",
       "      <td>company</td>\n",
       "      <td>3.596498</td>\n",
       "    </tr>\n",
       "  </tbody>\n",
       "</table>\n",
       "</div>"
      ],
      "text/plain": [
       "          word     score\n",
       "292     online  2.470486\n",
       "133  education  2.484092\n",
       "313   platform  2.569859\n",
       "246   learning  2.584897\n",
       "410   students  2.785567\n",
       "440   training  3.248191\n",
       "244      learn  3.442347\n",
       "211  indonesia  3.555676\n",
       "301    parents  3.596498\n",
       "82     company  3.596498"
      ]
     },
     "execution_count": 9,
     "metadata": {},
     "output_type": "execute_result"
    }
   ],
   "source": [
    "tfidf_result = pd.DataFrame()\n",
    "tfidf_result['word'] = tfidf_feature_names \n",
    "tfidf_result['score'] = tfidf_vectorizer.idf_\n",
    "# most generic words\n",
    "print tfidf.shape\n",
    "tfidf_result.sort_values(by=['score'], ascending=True).head(10)"
   ]
  },
  {
   "cell_type": "code",
   "execution_count": 10,
   "metadata": {
    "collapsed": true,
    "extensions": {
     "jupyter_dashboards": {
      "version": 1,
      "views": {
       "grid_default": {
        "hidden": true
       },
       "report_default": {
        "hidden": true
       }
      }
     }
    }
   },
   "outputs": [],
   "source": [
    "low_scores = tfidf_result.sort_values(by=['score'], ascending=True)['word'][:30]"
   ]
  },
  {
   "cell_type": "code",
   "execution_count": 11,
   "metadata": {
    "extensions": {
     "jupyter_dashboards": {
      "version": 1,
      "views": {
       "grid_default": {
        "col": 4,
        "height": 11,
        "hidden": false,
        "row": 18,
        "width": 4
       },
       "report_default": {
        "hidden": true
       }
      }
     }
    }
   },
   "outputs": [
    {
     "data": {
      "text/html": [
       "<div>\n",
       "<table border=\"1\" class=\"dataframe\">\n",
       "  <thead>\n",
       "    <tr style=\"text-align: right;\">\n",
       "      <th></th>\n",
       "      <th>word</th>\n",
       "      <th>score</th>\n",
       "    </tr>\n",
       "  </thead>\n",
       "  <tbody>\n",
       "    <tr>\n",
       "      <th>356</th>\n",
       "      <td>relationships</td>\n",
       "      <td>5.675939</td>\n",
       "    </tr>\n",
       "    <tr>\n",
       "      <th>154</th>\n",
       "      <td>enhances</td>\n",
       "      <td>5.675939</td>\n",
       "    </tr>\n",
       "    <tr>\n",
       "      <th>143</th>\n",
       "      <td>employees</td>\n",
       "      <td>5.675939</td>\n",
       "    </tr>\n",
       "    <tr>\n",
       "      <th>144</th>\n",
       "      <td>empower</td>\n",
       "      <td>5.675939</td>\n",
       "    </tr>\n",
       "    <tr>\n",
       "      <th>145</th>\n",
       "      <td>empowering</td>\n",
       "      <td>5.675939</td>\n",
       "    </tr>\n",
       "    <tr>\n",
       "      <th>146</th>\n",
       "      <td>enables</td>\n",
       "      <td>5.675939</td>\n",
       "    </tr>\n",
       "    <tr>\n",
       "      <th>335</th>\n",
       "      <td>projects</td>\n",
       "      <td>5.675939</td>\n",
       "    </tr>\n",
       "    <tr>\n",
       "      <th>148</th>\n",
       "      <td>encourage</td>\n",
       "      <td>5.675939</td>\n",
       "    </tr>\n",
       "    <tr>\n",
       "      <th>333</th>\n",
       "      <td>progress</td>\n",
       "      <td>5.675939</td>\n",
       "    </tr>\n",
       "    <tr>\n",
       "      <th>150</th>\n",
       "      <td>engaged</td>\n",
       "      <td>5.675939</td>\n",
       "    </tr>\n",
       "  </tbody>\n",
       "</table>\n",
       "</div>"
      ],
      "text/plain": [
       "              word     score\n",
       "356  relationships  5.675939\n",
       "154       enhances  5.675939\n",
       "143      employees  5.675939\n",
       "144        empower  5.675939\n",
       "145     empowering  5.675939\n",
       "146        enables  5.675939\n",
       "335       projects  5.675939\n",
       "148      encourage  5.675939\n",
       "333       progress  5.675939\n",
       "150        engaged  5.675939"
      ]
     },
     "execution_count": 11,
     "metadata": {},
     "output_type": "execute_result"
    }
   ],
   "source": [
    "# least generic words\n",
    "tfidf_result.sort_values(by=['score'], ascending=False).head(10)"
   ]
  },
  {
   "cell_type": "code",
   "execution_count": 12,
   "metadata": {
    "extensions": {
     "jupyter_dashboards": {
      "version": 1,
      "views": {
       "grid_default": {
        "col": 0,
        "height": 11,
        "hidden": false,
        "row": 29,
        "width": 4
       },
       "report_default": {
        "hidden": true
       }
      }
     }
    }
   },
   "outputs": [
    {
     "data": {
      "text/plain": [
       "<matplotlib.axes._subplots.AxesSubplot at 0x11868eb90>"
      ]
     },
     "execution_count": 12,
     "metadata": {},
     "output_type": "execute_result"
    },
    {
     "data": {
      "image/png": "[encoded data removed]",
      "text/plain": [
       "<matplotlib.figure.Figure at 0x11d50fd50>"
      ]
     },
     "metadata": {},
     "output_type": "display_data"
    }
   ],
   "source": [
    "tfidf_result.score.hist()"
   ]
  },
  {
   "cell_type": "code",
   "execution_count": 60,
   "metadata": {
    "collapsed": true,
    "extensions": {
     "jupyter_dashboards": {
      "version": 1,
      "views": {
       "grid_default": {
        "hidden": true
       },
       "report_default": {
        "hidden": true
       }
      }
     }
    }
   },
   "outputs": [],
   "source": [
    "def clean_with_tfidf(doc):\n",
    "    high_tfidf = [w for w in doc.lower().split() if w not in low_scores]\n",
    "    stop_free = \" \".join([i for i in high_tfidf if i not in stop])\n",
    "    punc_free = ''.join(ch for ch in stop_free if ch not in exclude)\n",
    "    normalized = \" \".join(lemma.lemmatize(word) for word in punc_free.split())\n",
    "    return normalized"
   ]
  },
  {
   "cell_type": "code",
   "execution_count": 61,
   "metadata": {
    "collapsed": true,
    "extensions": {
     "jupyter_dashboards": {
      "version": 1,
      "views": {
       "grid_default": {
        "hidden": true
       },
       "report_default": {
        "hidden": true
       }
      }
     }
    }
   },
   "outputs": [],
   "source": [
    "test3 = [clean_with_tfidf(doc).split() for doc in df_in['descriptions'].str.decode(\"utf8\")]"
   ]
  },
  {
   "cell_type": "code",
   "execution_count": 155,
   "metadata": {
    "collapsed": true,
    "extensions": {
     "jupyter_dashboards": {
      "version": 1,
      "views": {
       "grid_default": {
        "hidden": true
       },
       "report_default": {
        "hidden": true
       }
      }
     }
    }
   },
   "outputs": [],
   "source": [
    "def clean_all(doc):\n",
    "    phrase = nltk.word_tokenize(doc)\n",
    "    tags = tags = nltk.pos_tag(phrase)\n",
    "    keys = [k[0] for k in tags if k[1] == 'NNS' or k[1] == 'JJ' or k[1] == 'NN']\n",
    "    stop_free = [i.lower() for i in keys if i not in stop]\n",
    "    high_tfidf = \" \".join(w for w in stop_free if w not in low_scores)\n",
    "    punc_free = ''.join(ch for ch in stop_free if ch not in exclude)\n",
    "    normalized = \" \".join(lemma.lemmatize(word) for word in high_tfidf.split())\n",
    "    return normalized"
   ]
  },
  {
   "cell_type": "code",
   "execution_count": 156,
   "metadata": {
    "collapsed": true,
    "extensions": {
     "jupyter_dashboards": {
      "version": 1,
      "views": {
       "grid_default": {
        "hidden": true
       },
       "report_default": {
        "hidden": true
       }
      }
     }
    }
   },
   "outputs": [],
   "source": [
    "test4 = [clean_all(doc).split() for doc in df_in['descriptions'].str.decode(\"utf8\")]"
   ]
  },
  {
   "cell_type": "code",
   "execution_count": 157,
   "metadata": {
    "extensions": {
     "jupyter_dashboards": {
      "version": 1,
      "views": {
       "grid_default": {
        "col": 4,
        "height": 9,
        "hidden": false,
        "row": 29,
        "width": 4
       },
       "report_default": {
        "hidden": true
       }
      }
     }
    }
   },
   "outputs": [
    {
     "data": {
      "image/png": "[encoded data removed]",
      "text/plain": [
       "<matplotlib.figure.Figure at 0x12c787e10>"
      ]
     },
     "metadata": {},
     "output_type": "display_data"
    }
   ],
   "source": [
    "from sklearn.decomposition import TruncatedSVD\n",
    "from tsne import bh_sne\n",
    "svd = TruncatedSVD(n_components=20, random_state=0)\n",
    "svd_tfidf = svd.fit_transform(tfidf)\n",
    "\n",
    "# t-sne after svd\n",
    "\n",
    "vis_data = bh_sne(svd_tfidf)\n",
    "tsne_x = vis_data[:, 0]\n",
    "tsne_y = vis_data[:, 1]\n",
    "plt.scatter(tsne_x, tsne_y)\n",
    "plt.show()"
   ]
  },
  {
   "cell_type": "code",
   "execution_count": 176,
   "metadata": {
    "extensions": {
     "jupyter_dashboards": {
      "version": 1,
      "views": {
       "grid_default": {
        "hidden": true
       },
       "report_default": {
        "hidden": true
       }
      }
     }
    }
   },
   "outputs": [
    {
     "name": "stderr",
     "output_type": "stream",
     "text": [
      "INFO:gensim.corpora.dictionary:adding document #0 to Dictionary(0 unique tokens: [])\n",
      "INFO:gensim.corpora.dictionary:built Dictionary(809 unique tokens: [u'paperless', u'part-time', u'code', u'chinese', u'maximum']...) from 321 documents (total 2361 corpus positions)\n"
     ]
    }
   ],
   "source": [
    "# test: default, test2: normalised, test3: normalised+high_tfidf, test4: with pos tags\n",
    "import scipy\n",
    "import gensim\n",
    "from gensim import corpora\n",
    "dictionary = corpora.Dictionary(test4)\n",
    "dtm = [dictionary.doc2bow(doc) for doc in test4]\n",
    "doc_terms = scipy_csc_matrix = gensim.matutils.corpus2csc(dtm)\n",
    "doc_terms = doc_terms.T.astype(np.int64)\n"
   ]
  },
  {
   "cell_type": "code",
   "execution_count": 197,
   "metadata": {
    "extensions": {
     "jupyter_dashboards": {
      "version": 1,
      "views": {
       "grid_default": {
        "col": 8,
        "height": 12,
        "hidden": false,
        "row": 32,
        "width": 4
       },
       "report_default": {
        "hidden": true
       }
      }
     }
    }
   },
   "outputs": [
    {
     "name": "stderr",
     "output_type": "stream",
     "text": [
      "INFO:lda:n_documents: 321\n",
      "INFO:lda:vocab_size: 809\n",
      "INFO:lda:n_words: 2361\n",
      "INFO:lda:n_topics: 15\n",
      "INFO:lda:n_iter: 1000\n",
      "WARNING:lda:all zero row in document-term matrix found\n",
      "INFO:lda:<0> log likelihood: -27028\n",
      "INFO:lda:<10> log likelihood: -18050\n",
      "INFO:lda:<20> log likelihood: -17767\n",
      "INFO:lda:<30> log likelihood: -17542\n",
      "INFO:lda:<40> log likelihood: -17436\n",
      "INFO:lda:<50> log likelihood: -17399\n",
      "INFO:lda:<60> log likelihood: -17383\n",
      "INFO:lda:<70> log likelihood: -17403\n",
      "INFO:lda:<80> log likelihood: -17301\n",
      "INFO:lda:<90> log likelihood: -17340\n",
      "INFO:lda:<100> log likelihood: -17303\n",
      "INFO:lda:<110> log likelihood: -17322\n",
      "INFO:lda:<120> log likelihood: -17222\n",
      "INFO:lda:<130> log likelihood: -17291\n",
      "INFO:lda:<140> log likelihood: -17273\n",
      "INFO:lda:<150> log likelihood: -17210\n",
      "INFO:lda:<160> log likelihood: -17287\n",
      "INFO:lda:<170> log likelihood: -17332\n",
      "INFO:lda:<180> log likelihood: -17239\n",
      "INFO:lda:<190> log likelihood: -17308\n",
      "INFO:lda:<200> log likelihood: -17168\n",
      "INFO:lda:<210> log likelihood: -17197\n",
      "INFO:lda:<220> log likelihood: -17204\n",
      "INFO:lda:<230> log likelihood: -17190\n",
      "INFO:lda:<240> log likelihood: -17206\n",
      "INFO:lda:<250> log likelihood: -17233\n",
      "INFO:lda:<260> log likelihood: -17327\n",
      "INFO:lda:<270> log likelihood: -17229\n",
      "INFO:lda:<280> log likelihood: -17280\n",
      "INFO:lda:<290> log likelihood: -17226\n",
      "INFO:lda:<300> log likelihood: -17173\n",
      "INFO:lda:<310> log likelihood: -17242\n",
      "INFO:lda:<320> log likelihood: -17160\n",
      "INFO:lda:<330> log likelihood: -17113\n",
      "INFO:lda:<340> log likelihood: -17190\n",
      "INFO:lda:<350> log likelihood: -17326\n",
      "INFO:lda:<360> log likelihood: -17214\n",
      "INFO:lda:<370> log likelihood: -17219\n",
      "INFO:lda:<380> log likelihood: -17249\n",
      "INFO:lda:<390> log likelihood: -17145\n",
      "INFO:lda:<400> log likelihood: -17134\n",
      "INFO:lda:<410> log likelihood: -17129\n",
      "INFO:lda:<420> log likelihood: -17158\n",
      "INFO:lda:<430> log likelihood: -17073\n",
      "INFO:lda:<440> log likelihood: -17214\n",
      "INFO:lda:<450> log likelihood: -17116\n",
      "INFO:lda:<460> log likelihood: -17162\n",
      "INFO:lda:<470> log likelihood: -17090\n",
      "INFO:lda:<480> log likelihood: -17185\n",
      "INFO:lda:<490> log likelihood: -17191\n",
      "INFO:lda:<500> log likelihood: -17053\n",
      "INFO:lda:<510> log likelihood: -17181\n",
      "INFO:lda:<520> log likelihood: -17134\n",
      "INFO:lda:<530> log likelihood: -17125\n",
      "INFO:lda:<540> log likelihood: -17170\n",
      "INFO:lda:<550> log likelihood: -17199\n",
      "INFO:lda:<560> log likelihood: -17116\n",
      "INFO:lda:<570> log likelihood: -17150\n",
      "INFO:lda:<580> log likelihood: -17148\n",
      "INFO:lda:<590> log likelihood: -17151\n",
      "INFO:lda:<600> log likelihood: -17142\n",
      "INFO:lda:<610> log likelihood: -17120\n",
      "INFO:lda:<620> log likelihood: -17102\n",
      "INFO:lda:<630> log likelihood: -17164\n",
      "INFO:lda:<640> log likelihood: -17186\n",
      "INFO:lda:<650> log likelihood: -17268\n",
      "INFO:lda:<660> log likelihood: -17186\n",
      "INFO:lda:<670> log likelihood: -17093\n",
      "INFO:lda:<680> log likelihood: -17180\n",
      "INFO:lda:<690> log likelihood: -17103\n",
      "INFO:lda:<700> log likelihood: -17152\n",
      "INFO:lda:<710> log likelihood: -17116\n",
      "INFO:lda:<720> log likelihood: -17070\n",
      "INFO:lda:<730> log likelihood: -17107\n",
      "INFO:lda:<740> log likelihood: -17219\n",
      "INFO:lda:<750> log likelihood: -17208\n",
      "INFO:lda:<760> log likelihood: -17136\n",
      "INFO:lda:<770> log likelihood: -17009\n",
      "INFO:lda:<780> log likelihood: -17027\n",
      "INFO:lda:<790> log likelihood: -17077\n",
      "INFO:lda:<800> log likelihood: -17166\n",
      "INFO:lda:<810> log likelihood: -17223\n",
      "INFO:lda:<820> log likelihood: -17045\n",
      "INFO:lda:<830> log likelihood: -17035\n",
      "INFO:lda:<840> log likelihood: -17046\n",
      "INFO:lda:<850> log likelihood: -17090\n",
      "INFO:lda:<860> log likelihood: -17230\n",
      "INFO:lda:<870> log likelihood: -17179\n",
      "INFO:lda:<880> log likelihood: -17019\n",
      "INFO:lda:<890> log likelihood: -17083\n",
      "INFO:lda:<900> log likelihood: -17123\n",
      "INFO:lda:<910> log likelihood: -17023\n",
      "INFO:lda:<920> log likelihood: -17198\n",
      "INFO:lda:<930> log likelihood: -17038\n",
      "INFO:lda:<940> log likelihood: -16931\n",
      "INFO:lda:<950> log likelihood: -17138\n",
      "INFO:lda:<960> log likelihood: -17041\n",
      "INFO:lda:<970> log likelihood: -17061\n",
      "INFO:lda:<980> log likelihood: -17055\n",
      "INFO:lda:<990> log likelihood: -17063\n",
      "INFO:lda:<999> log likelihood: -17153\n"
     ]
    }
   ],
   "source": [
    "count_vectorizer = CountVectorizer(max_df=0.95, min_df=2, max_features=500, stop_words='english')\n",
    "counts = count_vectorizer.fit_transform(test)\n",
    "count_feature_names = count_vectorizer.get_feature_names()\n",
    "\n",
    "n_topics = 15\n",
    "n_iter = 1000\n",
    "lda_model = lda.LDA(n_topics=n_topics, n_iter=n_iter)\n",
    "# use doc-terms for normalised version, otherwise use counts \n",
    "X_topics = lda_model.fit_transform(doc_terms)"
   ]
  },
  {
   "cell_type": "code",
   "execution_count": 65,
   "metadata": {
    "extensions": {
     "jupyter_dashboards": {
      "version": 1,
      "views": {
       "grid_default": {
        "col": 4,
        "height": 6,
        "hidden": false,
        "row": 38,
        "width": 4
       },
       "report_default": {
        "hidden": true
       }
      }
     }
    }
   },
   "outputs": [
    {
     "data": {
      "text/plain": [
       "\"\\ntopic_summaries = []\\ntopic_word = lda_model.topic_word_\\n\\nfor i, topic_dist in enumerate(topic_word):\\n    topic_words = np.array(count_feature_names)[np.argsort(topic_dist)][:-(8+1):-1]\\n    topic_summaries.append(' '.join(topic_words))\\n    print('Topic {}: {}'.format(i, ' '.join(topic_words)))\\n\""
      ]
     },
     "execution_count": 65,
     "metadata": {},
     "output_type": "execute_result"
    }
   ],
   "source": [
    "'''\n",
    "topic_summaries = []\n",
    "topic_word = lda_model.topic_word_\n",
    "\n",
    "for i, topic_dist in enumerate(topic_word):\n",
    "    topic_words = np.array(count_feature_names)[np.argsort(topic_dist)][:-(8+1):-1]\n",
    "    topic_summaries.append(' '.join(topic_words))\n",
    "    print('Topic {}: {}'.format(i, ' '.join(topic_words)))\n",
    "'''"
   ]
  },
  {
   "cell_type": "code",
   "execution_count": 198,
   "metadata": {
    "extensions": {
     "jupyter_dashboards": {
      "version": 1,
      "views": {
       "grid_default": {
        "col": 0,
        "height": 33,
        "hidden": false,
        "row": 40,
        "width": 4
       },
       "report_default": {
        "hidden": true
       }
      }
     }
    }
   },
   "outputs": [
    {
     "name": "stdout",
     "output_type": "stream",
     "text": [
      "0: comic subscription program charge level organisation pre multimedia investing enhancement template collection combination open edtech\n",
      "1: perfect train publication charge teacher choice assessment apprentice development japanese critique start-up extracurricular life aspect\n",
      "2: bank sign full specialist chuyên q-journal private alternative license exercise degree academy manage eductory international\n",
      "3: izzilearn environment kiến next challenge extraordinary teacher institution place word baby talent luggage feature retail\n",
      "4: adult professional xseed era izzilearn assessment exercise corporates destination japanese specialised smiletutor support peope root\n",
      "5: charge environment freelance imaginable young proprietary experience finance allow tueetor teaching full available program return\n",
      "6: stock choice robot useful direct positive total vực coding proprietary diverse cooking exercise post- effective\n",
      "7: bank izzilearn citizen cost environment sponsor 9-5 word electronics tech sign profile prep high prospective\n",
      "8: environment prep path electronics let specialise pedagogical allow engage leap component tap vision q-journal specialist\n",
      "9: stock future-ready xseed programme recent trader freelance 21st native real-time high learning top solution session\n",
      "10: www.kiddiekist.com full q-journal data-driven hoc maximum well-rounded trainee app measurable foredu everything movement test idea\n",
      "11: izzilearn level entrepreneurship pre-engagement send educational school site citizen smartphone venture index scholar award assistance\n",
      "12: citizen educational exercise charge experience order venue insight exam authorized measurable corporates benefit entrepreneurial soft\n",
      "13: childhood world-class budding tourism small private toddler bookmark gadget school integrated market part living transaction\n",
      "14: technical code maximum extracurricular public perfect e-academy visualization branding career specialist part-time enhances many maker\n"
     ]
    }
   ],
   "source": [
    "dictionary_array = []\n",
    "for i in dictionary:\n",
    "    dictionary_array.append(dictionary[i])\n",
    "\n",
    "# use count_feature_names or dictionary array \n",
    "topic_summaries = []\n",
    "topic_word = lda_model.topic_word_\n",
    "\n",
    "for i, topic_dist in enumerate(topic_word):\n",
    "    topic_words = np.array(dictionary_array)[np.argsort(topic_dist)][:-(15+1):-1]\n",
    "    topic_summaries.append(' '.join(topic_words))\n",
    "    print('%d: %s' % (i, ' '.join(topic_words)))"
   ]
  },
  {
   "cell_type": "code",
   "execution_count": 199,
   "metadata": {
    "extensions": {
     "jupyter_dashboards": {
      "version": 1,
      "views": {
       "grid_default": {
        "col": 4,
        "height": 9,
        "hidden": false,
        "row": 44,
        "width": 4
       },
       "report_default": {
        "hidden": true
       }
      }
     }
    }
   },
   "outputs": [
    {
     "data": {
      "image/png": "[encoded data removed]",
      "text/plain": [
       "<matplotlib.figure.Figure at 0x131f36e10>"
      ]
     },
     "metadata": {},
     "output_type": "display_data"
    }
   ],
   "source": [
    "lda_data = bh_sne(X_topics)\n",
    "lda_x = lda_data[:, 0]\n",
    "lda_y = lda_data[:, 1]\n",
    "plt.scatter(lda_x, lda_y)\n",
    "plt.show()"
   ]
  },
  {
   "cell_type": "code",
   "execution_count": 200,
   "metadata": {
    "extensions": {
     "jupyter_dashboards": {
      "version": 1,
      "views": {
       "grid_default": {
        "col": 8,
        "height": 4,
        "hidden": false,
        "row": 44,
        "width": 4
       },
       "report_default": {
        "hidden": true
       }
      }
     }
    }
   },
   "outputs": [
    {
     "name": "stdout",
     "output_type": "stream",
     "text": [
      "321\n"
     ]
    }
   ],
   "source": [
    "topics = lda_model.doc_topic_\n",
    "topic_keys = []\n",
    "for i, v in enumerate(df_in['descriptions']):\n",
    "    topic_keys.append(topics[i].argmax())\n",
    "    \n",
    "print len(topic_keys)"
   ]
  },
  {
   "cell_type": "code",
   "execution_count": 201,
   "metadata": {
    "collapsed": true,
    "extensions": {
     "jupyter_dashboards": {
      "version": 1,
      "views": {
       "grid_default": {
        "hidden": true
       },
       "report_default": {
        "hidden": true
       }
      }
     }
    }
   },
   "outputs": [],
   "source": [
    "df_in['lda_topics'] = topic_keys\n",
    "df_in['lda_x'] = lda_data[:, 0]\n",
    "df_in['lda_y'] = lda_data[:, 1]"
   ]
  },
  {
   "cell_type": "code",
   "execution_count": 205,
   "metadata": {
    "extensions": {
     "jupyter_dashboards": {
      "version": 1,
      "views": {
       "grid_default": {
        "col": 8,
        "height": 4,
        "hidden": false,
        "row": 48,
        "width": 4
       },
       "report_default": {
        "hidden": true
       }
      }
     }
    }
   },
   "outputs": [
    {
     "data": {
      "text/html": [
       "\n",
       "    <div class=\"bk-root\">\n",
       "        <a href=\"http://bokeh.pydata.org\" target=\"_blank\" class=\"bk-logo bk-logo-small bk-logo-notebook\"></a>\n",
       "        <span id=\"efca5ee5-7e46-4ed5-b75b-983e9cc4db73\">Loading BokehJS ...</span>\n",
       "    </div>"
      ]
     },
     "metadata": {},
     "output_type": "display_data"
    },
    {
     "data": {
      "application/javascript": [
       "\n",
       "(function(global) {\n",
       "  function now() {\n",
       "    return new Date();\n",
       "  }\n",
       "\n",
       "  var force = \"1\";\n",
       "\n",
       "  if (typeof (window._bokeh_onload_callbacks) === \"undefined\" || force !== \"\") {\n",
       "    window._bokeh_onload_callbacks = [];\n",
       "    window._bokeh_is_loading = undefined;\n",
       "  }\n",
       "\n",
       "\n",
       "  \n",
       "  if (typeof (window._bokeh_timeout) === \"undefined\" || force !== \"\") {\n",
       "    window._bokeh_timeout = Date.now() + 5000;\n",
       "    window._bokeh_failed_load = false;\n",
       "  }\n",
       "\n",
       "  var NB_LOAD_WARNING = {'data': {'text/html':\n",
       "     \"<div style='background-color: #fdd'>\\n\"+\n",
       "     \"<p>\\n\"+\n",
       "     \"BokehJS does not appear to have successfully loaded. If loading BokehJS from CDN, this \\n\"+\n",
       "     \"may be due to a slow or bad network connection. Possible fixes:\\n\"+\n",
       "     \"</p>\\n\"+\n",
       "     \"<ul>\\n\"+\n",
       "     \"<li>re-rerun `output_notebook()` to attempt to load from CDN again, or</li>\\n\"+\n",
       "     \"<li>use INLINE resources instead, as so:</li>\\n\"+\n",
       "     \"</ul>\\n\"+\n",
       "     \"<code>\\n\"+\n",
       "     \"from bokeh.resources import INLINE\\n\"+\n",
       "     \"output_notebook(resources=INLINE)\\n\"+\n",
       "     \"</code>\\n\"+\n",
       "     \"</div>\"}};\n",
       "\n",
       "  function display_loaded() {\n",
       "    if (window.Bokeh !== undefined) {\n",
       "      Bokeh.$(\"#efca5ee5-7e46-4ed5-b75b-983e9cc4db73\").text(\"BokehJS successfully loaded.\");\n",
       "    } else if (Date.now() < window._bokeh_timeout) {\n",
       "      setTimeout(display_loaded, 100)\n",
       "    }\n",
       "  }\n",
       "\n",
       "  function run_callbacks() {\n",
       "    window._bokeh_onload_callbacks.forEach(function(callback) { callback() });\n",
       "    delete window._bokeh_onload_callbacks\n",
       "    console.info(\"Bokeh: all callbacks have finished\");\n",
       "  }\n",
       "\n",
       "  function load_libs(js_urls, callback) {\n",
       "    window._bokeh_onload_callbacks.push(callback);\n",
       "    if (window._bokeh_is_loading > 0) {\n",
       "      console.log(\"Bokeh: BokehJS is being loaded, scheduling callback at\", now());\n",
       "      return null;\n",
       "    }\n",
       "    if (js_urls == null || js_urls.length === 0) {\n",
       "      run_callbacks();\n",
       "      return null;\n",
       "    }\n",
       "    console.log(\"Bokeh: BokehJS not loaded, scheduling load and callback at\", now());\n",
       "    window._bokeh_is_loading = js_urls.length;\n",
       "    for (var i = 0; i < js_urls.length; i++) {\n",
       "      var url = js_urls[i];\n",
       "      var s = document.createElement('script');\n",
       "      s.src = url;\n",
       "      s.async = false;\n",
       "      s.onreadystatechange = s.onload = function() {\n",
       "        window._bokeh_is_loading--;\n",
       "        if (window._bokeh_is_loading === 0) {\n",
       "          console.log(\"Bokeh: all BokehJS libraries loaded\");\n",
       "          run_callbacks()\n",
       "        }\n",
       "      };\n",
       "      s.onerror = function() {\n",
       "        console.warn(\"failed to load library \" + url);\n",
       "      };\n",
       "      console.log(\"Bokeh: injecting script tag for BokehJS library: \", url);\n",
       "      document.getElementsByTagName(\"head\")[0].appendChild(s);\n",
       "    }\n",
       "  };var element = document.getElementById(\"efca5ee5-7e46-4ed5-b75b-983e9cc4db73\");\n",
       "  if (element == null) {\n",
       "    console.log(\"Bokeh: ERROR: autoload.js configured with elementid 'efca5ee5-7e46-4ed5-b75b-983e9cc4db73' but no matching script tag was found. \")\n",
       "    return false;\n",
       "  }\n",
       "\n",
       "  var js_urls = ['https://cdn.pydata.org/bokeh/release/bokeh-0.12.2.min.js', 'https://cdn.pydata.org/bokeh/release/bokeh-widgets-0.12.2.min.js', 'https://cdn.pydata.org/bokeh/release/bokeh-compiler-0.12.2.min.js'];\n",
       "\n",
       "  var inline_js = [\n",
       "    function(Bokeh) {\n",
       "      Bokeh.set_log_level(\"info\");\n",
       "    },\n",
       "    \n",
       "    function(Bokeh) {\n",
       "      \n",
       "      Bokeh.$(\"#efca5ee5-7e46-4ed5-b75b-983e9cc4db73\").text(\"BokehJS is loading...\");\n",
       "    },\n",
       "    function(Bokeh) {\n",
       "      console.log(\"Bokeh: injecting CSS: https://cdn.pydata.org/bokeh/release/bokeh-0.12.2.min.css\");\n",
       "      Bokeh.embed.inject_css(\"https://cdn.pydata.org/bokeh/release/bokeh-0.12.2.min.css\");\n",
       "      console.log(\"Bokeh: injecting CSS: https://cdn.pydata.org/bokeh/release/bokeh-widgets-0.12.2.min.css\");\n",
       "      Bokeh.embed.inject_css(\"https://cdn.pydata.org/bokeh/release/bokeh-widgets-0.12.2.min.css\");\n",
       "    }\n",
       "  ];\n",
       "\n",
       "  function run_inline_js() {\n",
       "    \n",
       "    if ((window.Bokeh !== undefined) || (force === \"1\")) {\n",
       "      for (var i = 0; i < inline_js.length; i++) {\n",
       "        inline_js[i](window.Bokeh);\n",
       "      }if (force === \"1\") {\n",
       "        display_loaded();\n",
       "      }} else if (Date.now() < window._bokeh_timeout) {\n",
       "      setTimeout(run_inline_js, 100);\n",
       "    } else if (!window._bokeh_failed_load) {\n",
       "      console.log(\"Bokeh: BokehJS failed to load within specified timeout.\");\n",
       "      window._bokeh_failed_load = true;\n",
       "    } else if (!force) {\n",
       "      var cell = $(\"#efca5ee5-7e46-4ed5-b75b-983e9cc4db73\").parents('.cell').data().cell;\n",
       "      cell.output_area.append_execute_result(NB_LOAD_WARNING)\n",
       "    }\n",
       "\n",
       "  }\n",
       "\n",
       "  if (window._bokeh_is_loading === 0) {\n",
       "    console.log(\"Bokeh: BokehJS loaded, going straight to plotting\");\n",
       "    run_inline_js();\n",
       "  } else {\n",
       "    load_libs(js_urls, function() {\n",
       "      console.log(\"Bokeh: BokehJS plotting callback run at\", now());\n",
       "      run_inline_js();\n",
       "    });\n",
       "  }\n",
       "}(this));"
      ]
     },
     "metadata": {},
     "output_type": "display_data"
    }
   ],
   "source": [
    "import bokeh.plotting as bp\n",
    "from bokeh.models import HoverTool, BoxSelectTool\n",
    "from bokeh.plotting import figure, show, output_notebook\n",
    "from bokeh.models import ColumnDataSource\n",
    "\n",
    "output_notebook()\n",
    "\n",
    "colormap = np.array([\"#6d8dca\", \"#69de53\", \"#723bca\", \"#c3e14c\", \"#c84dc9\", \"#68af4e\", \"#6e6cd5\",\n",
    "\"#e3be38\", \"#4e2d7c\", \"#5fdfa8\", \"#d34690\", \"#3f6d31\", \"#d44427\", \"#7fcdd8\", \"#cb4053\", \"#5e9981\",\n",
    "\"#803a62\", \"#9b9e39\", \"#c88cca\", \"#e1c37b\", \"#34223b\", \"#bdd8a3\", \"#6e3326\", \"#cfbdce\", \"#d07d3c\",\n",
    "\"#52697d\", \"#7d6d33\", \"#d27c88\", \"#36422b\", \"#b68f79\"])"
   ]
  },
  {
   "cell_type": "code",
   "execution_count": 203,
   "metadata": {
    "collapsed": true,
    "extensions": {
     "jupyter_dashboards": {
      "version": 1,
      "views": {
       "grid_default": {
        "hidden": true
       },
       "report_default": {
        "hidden": true
       }
      }
     }
    }
   },
   "outputs": [],
   "source": [
    "plot_lda = bp.figure(plot_width=700, plot_height=600, title=\"EdTech LDA Clusters (TechInAsia)\",\n",
    "    tools=\"pan,wheel_zoom,box_zoom,reset,hover,previewsave\",\n",
    "    x_axis_type=None, y_axis_type=None, min_border=1)"
   ]
  },
  {
   "cell_type": "code",
   "execution_count": 206,
   "metadata": {
    "extensions": {
     "jupyter_dashboards": {
      "version": 1,
      "views": {
       "grid_default": {
        "col": 4,
        "height": 21,
        "hidden": false,
        "row": 53,
        "width": 8
       },
       "report_default": {
        "hidden": false
       }
      }
     }
    }
   },
   "outputs": [
    {
     "data": {
      "text/html": [
       "\n",
       "\n",
       "    <div class=\"bk-root\">\n",
       "        <div class=\"plotdiv\" id=\"2bea3119-e6a0-4b8a-8498-dcf61b2f959f\"></div>\n",
       "    </div>\n",
       "<script type=\"text/javascript\">\n",
       "  \n",
       "  (function(global) {\n",
       "    function now() {\n",
       "      return new Date();\n",
       "    }\n",
       "  \n",
       "    var force = \"\";\n",
       "  \n",
       "    if (typeof (window._bokeh_onload_callbacks) === \"undefined\" || force !== \"\") {\n",
       "      window._bokeh_onload_callbacks = [];\n",
       "      window._bokeh_is_loading = undefined;\n",
       "    }\n",
       "  \n",
       "  \n",
       "    \n",
       "    if (typeof (window._bokeh_timeout) === \"undefined\" || force !== \"\") {\n",
       "      window._bokeh_timeout = Date.now() + 0;\n",
       "      window._bokeh_failed_load = false;\n",
       "    }\n",
       "  \n",
       "    var NB_LOAD_WARNING = {'data': {'text/html':\n",
       "       \"<div style='background-color: #fdd'>\\n\"+\n",
       "       \"<p>\\n\"+\n",
       "       \"BokehJS does not appear to have successfully loaded. If loading BokehJS from CDN, this \\n\"+\n",
       "       \"may be due to a slow or bad network connection. Possible fixes:\\n\"+\n",
       "       \"</p>\\n\"+\n",
       "       \"<ul>\\n\"+\n",
       "       \"<li>re-rerun `output_notebook()` to attempt to load from CDN again, or</li>\\n\"+\n",
       "       \"<li>use INLINE resources instead, as so:</li>\\n\"+\n",
       "       \"</ul>\\n\"+\n",
       "       \"<code>\\n\"+\n",
       "       \"from bokeh.resources import INLINE\\n\"+\n",
       "       \"output_notebook(resources=INLINE)\\n\"+\n",
       "       \"</code>\\n\"+\n",
       "       \"</div>\"}};\n",
       "  \n",
       "    function display_loaded() {\n",
       "      if (window.Bokeh !== undefined) {\n",
       "        Bokeh.$(\"#2bea3119-e6a0-4b8a-8498-dcf61b2f959f\").text(\"BokehJS successfully loaded.\");\n",
       "      } else if (Date.now() < window._bokeh_timeout) {\n",
       "        setTimeout(display_loaded, 100)\n",
       "      }\n",
       "    }\n",
       "  \n",
       "    function run_callbacks() {\n",
       "      window._bokeh_onload_callbacks.forEach(function(callback) { callback() });\n",
       "      delete window._bokeh_onload_callbacks\n",
       "      console.info(\"Bokeh: all callbacks have finished\");\n",
       "    }\n",
       "  \n",
       "    function load_libs(js_urls, callback) {\n",
       "      window._bokeh_onload_callbacks.push(callback);\n",
       "      if (window._bokeh_is_loading > 0) {\n",
       "        console.log(\"Bokeh: BokehJS is being loaded, scheduling callback at\", now());\n",
       "        return null;\n",
       "      }\n",
       "      if (js_urls == null || js_urls.length === 0) {\n",
       "        run_callbacks();\n",
       "        return null;\n",
       "      }\n",
       "      console.log(\"Bokeh: BokehJS not loaded, scheduling load and callback at\", now());\n",
       "      window._bokeh_is_loading = js_urls.length;\n",
       "      for (var i = 0; i < js_urls.length; i++) {\n",
       "        var url = js_urls[i];\n",
       "        var s = document.createElement('script');\n",
       "        s.src = url;\n",
       "        s.async = false;\n",
       "        s.onreadystatechange = s.onload = function() {\n",
       "          window._bokeh_is_loading--;\n",
       "          if (window._bokeh_is_loading === 0) {\n",
       "            console.log(\"Bokeh: all BokehJS libraries loaded\");\n",
       "            run_callbacks()\n",
       "          }\n",
       "        };\n",
       "        s.onerror = function() {\n",
       "          console.warn(\"failed to load library \" + url);\n",
       "        };\n",
       "        console.log(\"Bokeh: injecting script tag for BokehJS library: \", url);\n",
       "        document.getElementsByTagName(\"head\")[0].appendChild(s);\n",
       "      }\n",
       "    };var element = document.getElementById(\"2bea3119-e6a0-4b8a-8498-dcf61b2f959f\");\n",
       "    if (element == null) {\n",
       "      console.log(\"Bokeh: ERROR: autoload.js configured with elementid '2bea3119-e6a0-4b8a-8498-dcf61b2f959f' but no matching script tag was found. \")\n",
       "      return false;\n",
       "    }\n",
       "  \n",
       "    var js_urls = [];\n",
       "  \n",
       "    var inline_js = [\n",
       "      function(Bokeh) {\n",
       "        Bokeh.$(function() {\n",
       "            var docs_json = {\"8da66029-d2d6-4262-8eb6-26db0edbf40e\":{\"roots\":{\"references\":[{\"attributes\":{\"min_border\":1,\"plot_width\":700,\"renderers\":[{\"id\":\"18f8722a-755d-4f53-a037-20fae69bb67f\",\"type\":\"BoxAnnotation\"},{\"id\":\"1b2b494f-28b6-4a01-9814-ad54f3f6e1eb\",\"type\":\"GlyphRenderer\"},{\"id\":\"518ff50f-f66d-4370-8607-b4c9c7620a43\",\"type\":\"GlyphRenderer\"}],\"title\":{\"id\":\"aab74ed6-87c3-4bc8-a946-c99c2a2b2624\",\"type\":\"Title\"},\"tool_events\":{\"id\":\"1e5b0735-e3ce-470b-ac9f-1285aa762a73\",\"type\":\"ToolEvents\"},\"toolbar\":{\"id\":\"ee183a6e-a081-45d0-a1a9-1de5978253b2\",\"type\":\"Toolbar\"},\"x_range\":{\"id\":\"ebfa1efe-bf51-49d7-afa0-618c9e6d6b7d\",\"type\":\"DataRange1d\"},\"y_range\":{\"id\":\"f2349c97-c136-4f82-842c-4f9a9c6662e4\",\"type\":\"DataRange1d\"}},\"id\":\"adbbfb83-cf68-4200-bd40-230e325e535d\",\"subtype\":\"Figure\",\"type\":\"Plot\"},{\"attributes\":{\"fill_alpha\":{\"value\":0.1},\"fill_color\":{\"value\":\"#1f77b4\"},\"line_alpha\":{\"value\":0.1},\"line_color\":{\"value\":\"#1f77b4\"},\"x\":{\"field\":\"lda_x\"},\"y\":{\"field\":\"lda_y\"}},\"id\":\"ab65d874-8c6b-42d7-87e2-098a647be44e\",\"type\":\"Circle\"},{\"attributes\":{\"callback\":null},\"id\":\"ebfa1efe-bf51-49d7-afa0-618c9e6d6b7d\",\"type\":\"DataRange1d\"},{\"attributes\":{\"data_source\":{\"id\":\"1823bd40-d95d-4775-bd03-699e5ddf3a0f\",\"type\":\"ColumnDataSource\"},\"glyph\":{\"id\":\"0c98501b-cd17-427f-bf07-7f1491f23431\",\"type\":\"Circle\"},\"hover_glyph\":null,\"nonselection_glyph\":{\"id\":\"ab65d874-8c6b-42d7-87e2-098a647be44e\",\"type\":\"Circle\"},\"selection_glyph\":null},\"id\":\"1b2b494f-28b6-4a01-9814-ad54f3f6e1eb\",\"type\":\"GlyphRenderer\"},{\"attributes\":{\"fill_alpha\":{\"value\":0.1},\"fill_color\":{\"value\":\"#1f77b4\"},\"line_alpha\":{\"value\":0.1},\"line_color\":{\"value\":\"#1f77b4\"},\"x\":{\"field\":\"lda_x\"},\"y\":{\"field\":\"lda_y\"}},\"id\":\"3d0cbe4a-68c2-44c2-886e-c958c5c0c838\",\"type\":\"Circle\"},{\"attributes\":{\"active_drag\":\"auto\",\"active_scroll\":\"auto\",\"active_tap\":\"auto\",\"tools\":[{\"id\":\"d29e8eac-aff8-4d7b-9e84-b28555062b91\",\"type\":\"PanTool\"},{\"id\":\"1e3a63f2-01b3-4b4e-bd84-59b741439f41\",\"type\":\"WheelZoomTool\"},{\"id\":\"866cb1d2-fdd3-46a5-ae38-dab774c80601\",\"type\":\"BoxZoomTool\"},{\"id\":\"5de85d83-65ec-4709-ad13-af59f7159f85\",\"type\":\"ResetTool\"},{\"id\":\"4e840d8f-ecd9-4cfa-8658-ccbddf8f5dab\",\"type\":\"HoverTool\"},{\"id\":\"d85777c7-912a-49fc-8937-ca489b5b99b5\",\"type\":\"SaveTool\"}]},\"id\":\"ee183a6e-a081-45d0-a1a9-1de5978253b2\",\"type\":\"Toolbar\"},{\"attributes\":{},\"id\":\"1e5b0735-e3ce-470b-ac9f-1285aa762a73\",\"type\":\"ToolEvents\"},{\"attributes\":{\"plot\":null,\"text\":\"EdTech LDA Clusters (TechInAsia)\"},\"id\":\"aab74ed6-87c3-4bc8-a946-c99c2a2b2624\",\"type\":\"Title\"},{\"attributes\":{\"overlay\":{\"id\":\"18f8722a-755d-4f53-a037-20fae69bb67f\",\"type\":\"BoxAnnotation\"},\"plot\":{\"id\":\"adbbfb83-cf68-4200-bd40-230e325e535d\",\"subtype\":\"Figure\",\"type\":\"Plot\"}},\"id\":\"866cb1d2-fdd3-46a5-ae38-dab774c80601\",\"type\":\"BoxZoomTool\"},{\"attributes\":{\"data_source\":{\"id\":\"61267aea-d3b1-47c7-8350-c3f48ffd6dbf\",\"type\":\"ColumnDataSource\"},\"glyph\":{\"id\":\"56dd9dc8-1276-435e-bb48-a3ecade86b7b\",\"type\":\"Circle\"},\"hover_glyph\":null,\"nonselection_glyph\":{\"id\":\"3d0cbe4a-68c2-44c2-886e-c958c5c0c838\",\"type\":\"Circle\"},\"selection_glyph\":null},\"id\":\"518ff50f-f66d-4370-8607-b4c9c7620a43\",\"type\":\"GlyphRenderer\"},{\"attributes\":{\"fill_color\":{\"field\":\"fill_color\"},\"line_color\":{\"field\":\"line_color\"},\"x\":{\"field\":\"lda_x\"},\"y\":{\"field\":\"lda_y\"}},\"id\":\"56dd9dc8-1276-435e-bb48-a3ecade86b7b\",\"type\":\"Circle\"},{\"attributes\":{\"plot\":{\"id\":\"adbbfb83-cf68-4200-bd40-230e325e535d\",\"subtype\":\"Figure\",\"type\":\"Plot\"}},\"id\":\"5de85d83-65ec-4709-ad13-af59f7159f85\",\"type\":\"ResetTool\"},{\"attributes\":{\"plot\":{\"id\":\"adbbfb83-cf68-4200-bd40-230e325e535d\",\"subtype\":\"Figure\",\"type\":\"Plot\"}},\"id\":\"d29e8eac-aff8-4d7b-9e84-b28555062b91\",\"type\":\"PanTool\"},{\"attributes\":{\"plot\":{\"id\":\"adbbfb83-cf68-4200-bd40-230e325e535d\",\"subtype\":\"Figure\",\"type\":\"Plot\"}},\"id\":\"d85777c7-912a-49fc-8937-ca489b5b99b5\",\"type\":\"SaveTool\"},{\"attributes\":{\"callback\":null,\"column_names\":[\"index\",\"funding\",\"tags\",\"lda_y\",\"lda_x\",\"company\",\"lda_topics\",\"descriptions\",\"cleaned\",\"line_color\",\"fill_color\"],\"data\":{\"cleaned\":[\"Gnowbe is a disruptive mobile learning solution delivering bitesized multimedia content to the smartphone\",\"DANAdidik is a PeertoPeer Lending P2PL for the micro student loan in Indonesia Anyone can now fund a student in Indonesia get a return while helping them\",\"HarukaEdu is education portal where users can participate in variety of formal and informal education online such as online classes online courses and online certifications\",\"Nhance is a mobile learning platform which transforms learning content into games and delivers interactive bite\\u00ad\\u2010sized experiences to users\\u2019 on their smartphones\",\"Tueetor is a free online marketplace that connects learners and trainers\",\"Teamie is a cloudbased social learning platform that drives collaboration enhances educator productivity and institution performance\",\"Kynavn is a marketplace for graduates and professionals to deliver courses in various skills and test preparations\",\"Squline is an online learning platform that connects students with professional native teachers to learn new languages\",\"NEXT Academy has helped many entrepreneurs coders marketers designers pursue their ambitions by empowering them with the skills knowledge and network\",\"EduAdvisor is an education course comparison portal in Malaysia\",\"Wizlearn is an elearning company that provides web based elearning solutions content and services\",\"Classruumcom is an innovative elearning solution currently being introduced in schools and higher institutions in Malaysia\",\"Learnly is a community marketplace for students and tutors to connect Be it private tuition group tuition music lessons and more tutors are a few taps away on the Learnly app\",\"ScholarDeck is Malaysias onestop scholarships platform\",\"A learning application teaching consumers to code and build software\",\"My Aone Learning is an online marketplace for local classes in Malaysia and Singapore\",\"Studentpreneur is a platform where people can learn about entrepreneurship\",\"Epigami is an online platform for learning\",\"RyMM Education is an edtech company focusing on relationships between parent teacher and fellow parents\",\"Cialfo offers an innovative SaaS platform available on web and mobile for independent college counsellors private organizations and high schools to streamline their overseas college application process It increases the effectiveness by enabling efficient task management managing communications with their students and parents and an automated proprietary college shortlisting algorithm\",\"We bring the first live learning platform to Vietnam We currently offer English language programs to K12 students adult learners and corporate staff across Vietnam\",\"With LittleLives helps preschools run more efficiently in a paperless way\",\"Ruangguru is a website that connects prospective students to find the right teacher candidates to add to the lessons outside of school or college or develop specific skills\",\"Codetoki is a gamified online learning platform for Computer Science IT and Computer Engineering students to learn coding through challenges\",\"Duable Chinese is an app that analyzes the users Chinese comprehension level and links them to articles that match their reading level\",\"Street Smart University SSU is the world\\u2019s first mobile platform to make world class personal development content affordable accessible and convenient for the masses to learn from\",\"PlayMoolah is a fun online platform for kids aged 6 to 12 to save manage and earn an allowance\",\"Kart is a mobile development company that produce new platform of education that helps parents teach their kids using combination of digital and physical engagement activity\",\"Wildby helps parents and children to answer those endless why why questions anywhere anytime\",\"EasyUnicom is Asias leading online destination for finding your dream university or college\",\"XSEED is a comprehensive academic solution for schools that is designed to raise the level of learning in classrooms and build confidence in children\",\"Veev is an education technology company which partners with students educators administrators and other professionals around the world to deliver engaging and customised learning solutions\",\"eduPOW is a online publishing platform that empowers everyone everywhere to learn what they love\",\"DocuBuzz develops collaboration solutions that leverage emerging mobile and cloud computing technologies\",\"Prepare the better luggage for life with many skills tips and physical consultancy\",\"iTrain Asia is a Mobile Development Training Certification Body that provides iOS Android and HTML5 certifications course materials and also trainings via our channel partners\",\"A social media and information portal for education industry that lets members connect to each other universities schools and other education related services around the world directly\",\"At Coding Shophouse we offer affordable read heavilysubsidised courses in practical handson coding and to ensure you have the necessary skills to pursue that alternate career path\",\"Quors\\u00e9 is an online training marketplace that connects individuals and businesses with experienced trainers and training providers\",\"Thu Quan Doanh Nhan is a nonprofit organization that provides future business leaders with a venue for reading study groups training of presentation skills teamwork business acumen and leadership through interaction\",\"Eduu community connect directly learners to suitable education opportunity centers  teachers\",\"forEdu is an adaptive and collaborative learning platform designed to motivate students and helps education centre manage paperwork effortlessly\",\"Kila is an educational mobile application about interactive storybooks for kids that runs on various kinds of mobile devices\",\"Classmoe is a video marketplace that provide long distance tutoring in tech education and k12 education\",\"iScholar was founded as a onestop online scholarship application platform that makes scholarship accessible to all students At iScholar we help to facilitate the communication matching and awarding of scholarship programmes between deserving students and sponsors ie corporations foundations institutions and individuals\",\"Connecting educations to people Providing formal education School  university informations to public and Admission system that help formal educations in Indonesia go online online applications system education profiles news reviews\",\"BUILDING STAFF TRAINING EDUCATION ENROLLMENT AND LABOR EXPORT\",\"Education online for elementary school children \",\"it is a website sharing tech  education  lifestyle info\",\"SmileTutor is the leading home tuition agency for parents and students looking for home tutors\",\"The cloud platform for your academic life\",\"Stem is a Community Education website in Vietnam\",\"Yodaa brings parents word of mouth online Find an experienced tutor in Singapore easily and reliably\",\"Ham hoc is learning community to connect young generations to knowledge fastest\",\"USpell is a smartphone application that helps you study practice and test your English pronouncing skill easily\",\"TheRightU is an online university admissions and higher education consultancy\",\"A company that is advocating flip and authentic learning for young and young at heart To achieve this we are creating 2 apps called lets flip and go score We are also building an online campus called score campus\",\"Smoocer is a mobile app that enhances your elearning by placing you in a small study group with people taking the same online course as you\",\"Here in GREDU we believe we can use technology to improve the educational environment to create a better future\",\"Askarasoft starts as a solution for education market We help non formal education to manage administration tasks such as scheduling finance class management and academic report using AskaraEdu Student Information System We have helped thousand of parents to view their children progress and activity during their study using Askaraedu\",\"Mejakita is a nonprofit organization that runs a free online educational platform for Indonesian students nationwide\",\"Educa Studio  Free Education Games  High Quality Casual Games\",\"Coursepad is a mobile learning platform that allows organisations to rapidly deploy social learning apps\",\"TheAnh Group l\\u00e0 m\\u1ed9t agency n\\u0103ng \\u0111\\u1ed9ng tr\\u1ebb trungCh\\u00fang t\\u00f4i th\\u00e0nh l\\u1eadp v\\u00e0o gi\\u1eefa n\\u0103m 2010 v\\u1edbi \\u0111\\u1ed9i ng\\u0169 nh\\u1eefng chuy\\u00ean vi\\u00ean \\u0111\\u1ea7y nhi\\u1ec7t huy\\u1ebft  c\\u00f3 ki\\u1ebfn th\\u1ee9c chuy\\u00ean m\\u00f4n v\\u00e0 kinh nghi\\u1ec7m chuy\\u00ean s\\u00e2u trong l\\u0129nh v\\u1ef1c thi\\u1ebft k\\u1ebf web ti\\u1ebfp th\\u1ecb v\\u00e0 qu\\u1ea3ng c\\u00e1o tr\\u1ef1c tuy\\u1ebfn\",\"Zcholar is an academic social network providing a community for scholars students and researchers from all around the world\",\"In Session seeks to encourage working adults to discover learn and pursue skills passions and interests outside of the 95 by offering a variety of choices at a low initial commitment\",\"Japanese Center\",\"Cozora is website to help individual speakers and organizations to host live cast\",\"Aladavn is a online education platform in Vietnam\",\"OMT is a dedicated Vietnamese elearning provider established on the basis of multiyear experience in management training and consulting of the Organizational Capacity Development Company OCD\",\"Codomo is an edtech startup that aims to nurture creativity through empathy technology and design We achieve this by conducting realworld oriented design and tech workshops for kids aged 4  18\",\"IndonesiaX offers free Massive Open Online Course MOOC from the best national university and company\",\"Eductory is a website to help parents to find an education including school extracurricular courses or private tutor for their children\",\"Youthmanual is a platform for university preparation and datadriven online career which is supported by People Science \\u00a9 technology to help students to plan and prepare their future\",\"A1 MYOB Courses Singapore offers training courses in Singapore\",\"RekanSejawatcom provides online tryout test\",\"Specializing in the field of consultancy and training Japanese\",\"Jogja Student is a education portal website in Yogyakarta\",\"The largest teacher community in Viet Nam\",\"SIES specializes in providing online training courses short and medium term in the areas of  information technology  Sell Marketing online  HR profession  Soft skills \",\"Grdient combines big data and technology to teach futureready skills and help people get jobs in startups\",\"Tinkertanker is a technology and education company by teachers who enjoy coding and coders who enjoy teaching We run Tinkercademy where we teach coding and electronics to students of all ages GuestDay an iPadbased guest registration service and various smaller tech projects Wait describe the company in one sentence Why did you give us so many characters to use then\",\"AllinOne marketplace for Language Learners\",\"Management Consulting Prep MCP is a global career prep platform with primary services of teaching students and experienced professionals to land a job in management consulting firms ie McKinsey BCG Bain etc\",\"Multiply is affordable short term 5 days or less classroom based courses to learn code from professional coders\",\"Digital Learning Hub \\u2013 the pioneer of onestop integrated learning solution\",\"Studentbook is an Internetbased digital platform that integrates various functions of education and learning to school digital Studentbook integrate academic information systems academic social networking and elearning in a single integrated system\",\"Creatella is an ambitious energetic startup aiming to penetrate untapped P2P marketplaces and make the world more open Started in Singapore with European roots and remote collaborators from 15 countries this highly international company aims to become a top tech startup in bustling South East Asia\",\"Valutac is a Enterpise consultant and fullservice MOOC solutions provider including planning implementation hosting theming support training and custom development including integration with existing efforts\",\"DreamBender is a social venture that creates an open sign language dictionary and learning application that provides interactive realtime sign language learning using Xbox Kinect as a motion sensor\",\"Utak atik otak is an Indonesian educative social media packaged in quiz form to enhance memory and knowledge of the users\",\"Syseneg Academy is in the business of providing certification program in the specialised field of project management and related discipline\",\"Study Hard Play Hard SHPH is a program empowering underprivileged youths through subsidized education and skills training\",\"Sekolah Pintar is providing students to improve their ability about online business and how it works\",\"BestTop Career Consulting is a marketplace that connects job seekers with working professionals to provide customized career advice resume critique interview prep and more\",\"Nativfy helps language learners perfect their language by connecting them to native speakers anytime anywhere\",\"Tomonno is an effective and efficient tools to monitor students\\u2019 daily activities\",\"Portal for talent of children tips and guidances for talent development coverage of childrens talent activities profiles of children and people who success because of their talent\",\"Prot\\u00e9g\\u00e9 is a learning platform that aims to connect aspiring learners with inspiring teachers while delivering unique workshops that cater to the goals and objectives of both individuals and companies\",\"Atiral is a Social Networking Collaborative Learning Platform to provide SMART  Sharing Multidisciplinary Autonomous Reflective and Technologyenabled learning experience and universal access to highquality learning opportunity to everyone\",\"Learnemy is an online marketplace where you can take private and group classes from people in your community\",\"All information about Education\",\"Learning English is simple in everywhere\",\"A list of promising Vietnamese startups\",\"KelasKita is startup company in Social Learning we create feature for public to easy learn collaboration and make social for learning you can create class private or public class create quiz test and collaboration in class\",\"Nurturing the Next Generation of Leaders in Technology Experience the Coding Lab Difference with our AwardWinning MITInspired Curriculum For Ages 416\",\"Empirico Labs is a Learning and Development Enterprise with the vision of revolutionizing the learning space\",\"NextIn Indonesia is a startup IT company with a mission to solve social issues and to accelerate all of education aspects around the world\",\"BRANDKER  Global Entrepreneurs Community BRANDKER is the first digital platform in the world which provides Business Network Connector Business Coaching Educator and a Platform to cultivate and invest in new startups business ideas by entrepreneurs from all regions Incubator We are currently based in Malaysia Singapore and China Be part of our global community BeBRANDKER\",\"StudentConnect is a service for prospective students to find and engage actual students at schools they want to get to know better before applying\",\"100 Project is a crowdfunding platform for classrooms in need We empower teachers to provide the best learning experience for their kids\",\"At Tinkercademy we teach coding electronics making messmaking and more\",\"excellenceasia is a smarter way to find training for every business Our mission is to help corporates and individuals improving their competencies by helping them to choose the right training courses and provide tools for enhancing learning experience\",\"Social Application for College We connecting Students and Lecture from the other College in one Application\",\"Speaqus is a platform that helps you find the most appropriate speakers in Indonesia\",\"Making Sense is an award winning chemistry tution centre in Singapore\",\"Tanpabatas provides online personal coaching program that assists anyone who are overwhelmed with life distraction to increase productivity  bring fulfillment\",\"Tlunjuk is an education tech startup that provides an open class module for students\",\"Kezaar is a social marketplace for classes and workshops in Singapore\",\"Akira Education is a website providing Japanese and English online course\",\"GURUKAMPUScom is an innovative website which connects college students who are interested to become a mentor for student who are looking for a private teacher\",\"Hocmaivn is Vietnam\\u2019s leading education portal with free and premium lessons study guides information on universities and admission exams etc\",\"Consultancy study Japanese Center\",\"Lingkaran is educational community for creatives and providing a new culture of creative and entrepreneurial education\",\"Antoree is a supportive community of English learners and English tutors helping each other through English lessons conducted online or offline\",\"We provide an online education platform caters for adult learners focusing on personal development and business career advancement for SEA market\",\"Classtree is all you need for parent teacher communication\",\"QJournal supports academic transaction in Indonesia by providing global coverage for national journals to international index nd high quality international papers to national universities\",\"KiddyPass is a dedicated marketplace to discover skill learning for kids\",\"GiapSchool is the first online education website in Vietnam MOOC that allows everyone to learn independently and creatively\",\"CognaLearn is an education company devoted to applying cognitive science to help people learn better and faster\",\"Sinaule is a gamified elearning website to keep learning fun\",\"LIPROF LEADING INSTITUTE FOR PROFESSIONALS is a learning platform for professional certifications specialized in PMI certifications\",\"Simply Future eLearning\",\"Integra eTraining is the first online training elearning provider in Indonesia\",\"Create Lab works with educators from Oxford MIT  Singapore\\u2019s top universities to inspire children to create with technology and prepare them to become 21st Century Leaders\",\"Under development\",\"Pedia is an online training system in Vietnam\",\"Gavetionscom is a digital media which contain latest technology gadgets guides and games reviews\",\"Study in Jogja is a community and media for young people which focuses on giving education and lifestyle information of young peope in Indonesia\",\"IamThirstycomsg is Singapores largest portal for training courses\",\"Growth Hacking Asia is a service training and consulting company that helps Asian startups grow into success stories by executing growth hacking activities for them equipping them with growth hacking skills and connecting them with mentors\",\"Gnowledge is a freetouse education platform that benefits educators students and parents\",\"A Vietnam\\u2019s leading source of scholarships information with varied levels different disciplines in many developed countries in the world\",\"Bahasocom is a platform and social media to learn foreign languages online and interactively\",\"Univariety is the largest and fastest growing company in India which sets up outplacement systems in high schools\",\"Schoolbus supplies massive open online courses 20\",\"Egame provide educational services online game in Vietnam\",\"Schoola is a website that wants to connect psychology with technology\",\"Telebort is an edutech startup founded in Universiti Sains Malaysia\",\"Training Japanese Japanese Study Trade Promotion Bien  Interpretation\",\"Reactor is a Education Technology in Youth Entrepreneurial Education\",\"Specialist teaching English TOEIC IELTS English skills\",\"TagCourse is an education platform developed to help students choosing the right course and universitycollege We are also developing to become the largest student website in Malaysia\",\"Wardaya College provides math and science online learning resources in the Indonesian language\",\"A System Integration Company specialise in Educational Technology We work as the coordinator between Educational Publishers Educational Expert and Technological Companies to engage schools and provide pedagogical learning approach and technological solutions tailored to school\\u2019s requirements\",\"We are the future of math learning gamebased learning will become the most wellreceived and efficient method of learning in the future\",\"The Maths Centre is an e learning website with an exam focus on pre university levels \",\"Topica Edtech Group is a leading online education provider in South East Asia with Topica Native Topica Uni Edumall\",\"A platform for students of all ages and freelance teachers looking to teach online\",\"SIAP Online provides a total solution integrated application services online school for education in Indonesia\",\"Copywriting Inc writes quality pieces in the most efficient professional and timely manner Our writing service agency offers good value written by experts of various fields Knowledgeable in SEO copywriting we can assist you to save time while we do all the hard work producing topnotch content for your websites or webpages\",\"KuliahKita is a learning platform for Indonesian students which targets from high school level students and above Its shaped like an online course to help people study together in asynchronous way\",\"We believe in transforming youngsters into winners through experiential and project based learning\",\"The Rote Less Travelled develops and provides supplementary educational curriculum in Mathematics and Science at the Secondary and Junior College levels in Singapore\",\"Saungkode is a web learning platform focused for learning about programming offered in Indonesia language which is available online and free of charge to learning programming from zero to advanced\",\"QH Online trains and educate PHP developer and the one who love it\",\"Creative Technical Life Financial Parenting Business Skill in one place\",\"Monsoon Academy is the only authorized and official SAP partner in Indonesia for the delivery of the SAP eacademy with campuses in Jakarta Bandung Surabaya and Jogjakarta\",\"Support Marketing for Entrepreneur\",\"Digital Senior is created for students by students It is a place for students to express themselves and share their insights with other university students so as to inspire one another Everything about universities can be found inside\",\"Superkids is a fun edutainment bilingual online media for Indonesian children\",\"TurnPoint is a destination education startup that provides intensive learning opportunities for entrepreneurs career shifters and global citizens who are looking for a more meaningful way of working and living\",\"Worlds first elearning and personal branding social network\",\"Makers Institute is an educational institution that combines online and offline studies to explore computer science programming and software development\",\"EasyRead is an application that helps young adults and professionals learn new languages while reading content that is of interest to them at their specific difficulty level\",\"Bangsa Cerdas is an online learning and bootcamp training platform based in Indonesia\",\"Zggzag Career is the assistance in creating proofreading and finetuning of CV and anything else related to academic or career path\",\"Ashalat is a guidance prayers application start from intention to salaam are presented in audio form Audio pronunciation in apps are spaced so users can hear and follow the audio while practicing prayers Ashalat is a product of AMPlified\",\"Mindvalley builds companies that revolutionise education and allow people to be extraordinary through innovation in learning and personal growth\",\"A web  mobile application focusing on knowledge retention and enhancement of corporate learners by providing short burst of engaging learning experience\",\"Focus on connecting Vietnamese students worldwide and leveraging their student life through our online channels settledown services and events\",\"Spiral is the fastest way for teachers to carry out formative assessments and encourage student progress\",\"DeltaViet works with qualified teachers experts and business people to create high quality online courses on diverse subjects\",\"IFERD is a private nonprofit organization that brings together Vietnamese and international scholars who focus on educational creativity innovation and entrepreneurship\",\"Readish is a free platform to view and create courses from bookmarks View other users courses for preschool elementary high school college resources\",\"Training centers and development gifted of children\",\"A university course comparison portal built by founders who are obsessed with organising global higher education information and making it convenient and relevant to the world\",\"Examcom is aiming to bring the MOOC concept to primary and secondary school tuition with tutor supported online lessons and practice exams to give children an advantage in realworld entrance and streaming exams\",\"School Plus Parkway Parade Tampines Central Ang Mo Kio The only education centre in Singapore that harnesses technology for personalised learning\",\"Gurukitecom is an online platform that connects students to private tutors based in Pontianak Indonesia\",\"Manufacturer and distributor of technologybased education products\",\"Smart Education Now is a cloudbased platform that enables personalized teaching and learning\",\"VisionarySchoolmen is at the forefront of Educational Information Technology From building the best Educational platform possible to creating incredible content in order to bring about a quantum leap in education\",\"Sukawucom is a dynamic edtech startup company that was formed to provide a onestop solution for people of all ages in exploring their passion and talent to realise their maximum potential with the first online portal and marketplace in Indonesia that connects learners with course providers in nonformal education along with other innovative programs to improve the quality of human resources\",\"Jagocodingcom is No 1 programming tutorial social network site in Indonesia\",\"ManyTutorscom help tutors with marketing by exposing their services to a sizable audience\",\"A Home Tuition is an online platform for home tutoring services that helps create high quality relationships between parents students and tutors for an effective education experience\",\"TeacherBirdcom is an online training portal with highquality learning components combined with high definition videos which establishing a bridge between teacher and students\",\"Tutorico is a tutoring platform for IB students in Singapore\",\"Vista International Corporation PTVIC Indonesia is an education consultant in Indonesia which specializes in preparing students to study overseas\",\"TRAINING SPECIALISTS GRAPHIC DESIGN MEDIA \",\"VNIS Vietnam Vietnam Innovative Services is an international education solution provider working 247 to establish a wide bridge connecting international institutions and Vietnamese students\",\"izzilearn is one of the projects of Flamingo company  an elearning community that connect trainer from every where can teach everything\",\"iGo10 is a mobile app that helps you learn English online through video clips daily\",\"Online resources for local students\",\"Educational News Reviews and School Directory Portal\",\"SDI Academy provides personalized language vocational and computer skills training to migrant workers and refugees\",\"To provide parents children and educators access to worldclass children\\u2019s storybooks  comics under one subscription easily at their fingertips in Asia Pacific\",\"PT Asian Brain IMC is an online business learning in Indonesia\",\"Kienhocvn provides online study courses\",\"Sekolah Kertas aims to creating waste free families and village in Indonesia\",\"A leading publish and training company in Vietnam\",\"We empower people to learn and are revolutionizing education\",\"SnowSchool is an education support system that will give us a new alternative way to learn many things many subjects with other people\",\"Programming school for 21st century\",\"Information about Education in Vietnam\",\"Aimsis is an abbreviation of Academic Information Management System in Schools a SaaS for connecting Parent with Teachers while automating Teacher\\u2019s administrative task\",\"Rumah Sinau is a platform for space rent of living room or office for educational activities\",\"GotClass is one of Singapore largest education sites enabling parents to plan and narrow down to the most ideal class for their children\",\"Sibejoo is an online video based learning portal\",\"SekolahSG is a onestop online platform for young Indonesians who want to study in Singapore Start your journey with us\",\"Recite App provides Quran recitals validation service through mobile devices\",\"Studynow is an online learning website\",\"Labbaik is an audio guidance for Hajj and Umra which serves complete dua into audio and detail reading text\",\"Mathemate is like a Quora for students connecting students to all things math and aiming to be the easiest place to ask and check existing content from the web\",\"Learn 2 Code provides codingprogramming education from beginner to intermediate level\",\"Family Play is a developer of childrens educational apps from toddlers through to primary level education Family Play has a wide range of curriculum and content aimed at young children\",\"Atoha is an elearning platform for millions of learners to take interactive 1on1 coaching courses from certified trainers worldwide\",\"Getstarted is an online platform to learn about artificial intelligence data science and related technologies\",\"Exercises application and test bank for elementary junior high high school SBMPTN drivers license theory test IQ Test Psychological and various package exercises\",\"Tutormu is a web platform which aims to ease everyone to form a study group guided by a tutor\",\"Japanese Language Training Center\",\"Student personal assistant app powered by school and teachers\",\"Learn to build apps in 9 weeks in Kuala Lumpur Malaysia\",\"Dengerinid is an audio and video based learning platform that can be listened anywhere and anytime\",\"Sarjanacoid is a platform that support users to find university or program of study\",\"Specialist sharing site that allows viewing and downloading free of legal documents templates learning materials books papers documents\",\"Pedenesia is a training marketplace that helps employees to find and book training easier and training providers to sell more\",\"Toyo Studio develops virtual schools to provide educational solutions by building an offline virtual classroom and teacher in smartphone\",\"Bach Kim is the leading company in technology solution for education\",\"Funedoo is social media education which is used to learn play and socialize in a fun creative and positive way\",\"Startup Mengajar is a community movement that involves entrepreneur local developers startups freelances and digitaltech enthusiasts to contribute in increasing IT industry quality in Indonesia\",\"KonGo Publisher Studio focusing on educational books and apps\",\"Nooinq revolutionizes early childhood development and care and offers richer experiences for educators parents  schools to engage better\",\"KlassJoy is a mobility collaboration  data visualization for Kindergartens\",\"Codemi is web based learning management system that enable organization to manage online training program for employee and partners that could reduce cost measurable and deploy rapidly\",\"Flashcom Indonesia is a computer learning training and courses institution which implements student needs and flexible schedule method\",\"Fragmentor helps student to study abroad by finding the perfect mentor accommodation and homemade cooking\",\"Skooly is a collaboration platform for 21st century schools enabling real time messaging for schools teachers parents  students one click payments and happier educational journeys\",\"Code Gakko is a coding academy for students of all ages in Singapore\",\"SIKAD provide School Paperworks Automation and Real Time Report to Region Education Office\",\"TOPICA Education Group is a leading provider of highquality online university degrees in Vietnam pioneer in Elearning technology\",\"Stars Involvement is an application for parents to monitoring their children at school\",\"Learning Analytic Pte Ltd offers students colleges and universities a robust way to use data to assess their strengths and weaknesses and enhance their capabilities\",\"Bulletinboard is the first free mobile application in Indonesia to make teachers lives easier and parents more engaged\",\"Bisa Belajar is a company that holds a one stop learning center that contains Video Contents Exercises and Tryout and Learning Forum\",\"specialized language training establishments and Japanese culture for those trainees  apprentices students\",\"Exploring Singapore A family affair made enriching At TopoTogo were crafting beautiful Edutainment Apps And were starting with a collection of city guides for children  their parents\",\"Yacademy part of Ygroup Asia provides education in digital technologies and innovation\",\"Weevur is a free online cloudbased platform that aims to connect schools educators and learners globally\",\"eNNOTATE aims to help students learn better through collaboration while helping teachers teach better through the use of analytics\",\"Era Belajar is a place where you can learn together with friends\",\"Sekolah Koding is a online platform to learn programming using text and video in Bahasa\",\"Focus Learning Lab is a leading learning centre that focuses on the enrichment of our students through effective curriculum\",\"LOOPsg was developed as a onestop marketplace and learning hub for every kind of elearning imaginable\",\"TUTOROO is an online marketplace that helps students connect with qualified inperson language tutors near them\",\"EdgeBotix is a startup company dedicated to designing and delivering the educational robots called eBots all at a low cost eBots provide a simple yet effective platform for students to learn on eBots are easily modifiable to meet any requirements\",\"Wiztango develops post and preengagement solutions for instructorled classrooms and virtual training sessions\",\"Online learning English and offline learning center\",\"EBIV is a platform where people share about the schools language centers and quality reputation\",\"Yola Institute is a premier provider of educational services in Vietnam\",\"We are talent development organization dedicated to close the talent GAP in Indonesia We provide FREE informal education for students in High School College and Fresh Graduate to get technical and soft skill\",\"DTU Corp provides overseas education consultation medical tourism and overseas job referring services\",\"Penulisidcom is a service business that is focused on fostering talent authorship with the concept of social mission affordable and useful\",\"FlashAdvance helps language teachers keep their students engaged and motivated through fun mobile learning content\",\"An online learning platform that gives Indonesian students new ways of learning by providing them with fun yet effective educational material\",\"Supports approaches to coding that engage students in thinking creatively reasoning systematically and working collaboratively\",\"Neliti is an open access research database\",\"A complement therapy application for autism asperger ADD ADHD down syndrome mental retardation and slow learner with interactive technology\",\"Digidu Indonesia provides digital book application as a learning platform with interactive contents\",\"kiddie kist wwwkiddiekistcom is a subscription for busy parents who want to boost their childs creativity and intelligence\",\"ripplecreate is passionately committed to delivering the most wellrounded technology education experience of the future\",\"Learning Islam is now simple and easy with Qalamotion\",\"CodeSaya is a place to learn on how to code with easy and fun learning built by Indonesian coder with the help of the open source community\",\"LearnLyve is an online marketplace for live instructorled training programmes\",\"Progenie is an educational portal that connects parents and educators to bring out the best in every child\",\"LessonsGoWherecomsg LGW is an online marketplace to list discover and book local lessons\",\"Tomago Education is a modern University for Kids\",\"EduNation is the largest FREE primary and secondary school online resource in Malaysia\",\"BeRichvn is a leading investing and financial management company in Vietnam providing thousands of users with access to financial planning stock advisor stock community and financial management\",\"MyFreelys Academy is established as a \\u201cTraining and Development\\u201d platform promoting the best practice of Human Resource Management\",\"OneScholar is an Apps for Education Campus News College Events Internship News Admission Alerts\",\"EduShare is an education application platform\",\"Language School\",\"Application for Kids\",\"We are currently a tuition agency However we looking to move forward to provide a platform for all parents to come review the different tuition centres  agencies easy for people to compare We will then also move into childrenrelated services\",\"Student Job is a specialised job portal for student and recent graduates that provides information on parttime internship volunteer and fresh graduate jobs\",\"Skoolight builds SaaSbased school management system\",\"LingoQuest enables language schools to offer fun gamelike blended learning experience that engage with todays learners\",\"Communicaire is an artificial intelligence powered enterprise education company\",\"FutureLab helps students and ambitious young professionals network with a wide range of industry experts and provide a platform where they can learn and ask questions to help them figure out what they want to do for their future careers and how to take it to the next level\",\"KidzBOT is an app designed for busy parents who have kids under 5 years old living in urban areas to help their babies develop to their full potential\",\"Robusta specialist IT training and IT Governance depth and international authorized VMware  Microsoft  EMC  RedHat \",\"Minder built mobile application to learn foreign languages and vocabulary\",\"Hocvipcom is a teaching and learning social networking for free in Vietnam\",\"ilmuGo is a website to help employees quickly learn job skills\",\"TrackRecord Asia is a trading academy which provides training for retail and professional traders\",\"Circledoo is apeertopeer learning and networking platform\",\"Asdosid is a mobile platform for student and college to share and discuss about lecture activities\",\"Eduropacom is an international study information platform We are promoting higher education providing students with information and direct assistance in choosing study options and university\",\"Starteur helps you discover understand and develop your hidden entrepreneurial talents\",\"TechSociety is one of Asias first coding  entrepreneurship academies for PreCollege students in Singapore Hong Kong and Vietnam  and we are also building the Star Alliance of the education industry across the region\",\"EdTech Indonesia is the first online community platform in Education  Technology fields in Indonesia\",\"Tutormy is a learning community helping students and parents to find reliable educational resources\",\"DeckToys is a new classroom tool that allows K12 teachers to teach and engage students\",\"Online video lectures\",\"Ortwo School Management System and Ortwo Go is an integrated solution we build based on 2 years of research This project is started from a fact in our education sector in indonesia that in the process of school administration a lot of clutter and inefficiency happens whether inside school or outside school like how information send from school to parents  \",\"Learnival is a product of Purpleframe Technologies the best social learning platform out there\",\"We aim to launch the biggest training and learning platform for all budding entrepreneurs and students through training kits interviews and articles from established startups publications and events\",\"Zunivn is an online education project\"],\"company\":[\"Gnowbe\",\"DANAdidik\",\"HarukaEdu\",\"Nhance App\",\"Tueetor\",\"Teamie\",\"Kyna.vn\",\"SquLine\",\"NEXT Academy\",\"EduAdvisor\",\"Wizlearn Technology (ASKnLearn)\",\"Classruum\",\"Learnly\",\"ScholarDeck\",\"The Pragmatic Lab (Alpha Camp)\",\"My Aone Learning\",\"Studentpreneur\",\"Epigami\",\"RyMM Education\",\"Cialfo\",\"Rockit online\",\"LittleLives\",\"Ruangguru.com\",\"Codetoki\",\"Duable Chinese\",\"Street Smart University\",\"Play Moolah\",\"Kark Mobile Education\",\"Wildby\",\"EasyUni\",\"XSEED Education (iDiscoveri)\",\"Veev Interactive\",\"eduPOW\",\"DocuBuzz\",\"Hanhtrangsong\",\"iTrainAsia\",\"My Study World\",\"The Coding Shophouse\",\"Quors\\u00e9\",\"THU QUAN DOANH NHAN\",\"Eduu.vn\",\"forEdu.asia\",\"Kila\",\"Classmoe\",\"iScholar.my\",\"Edumor\",\"Giao Duc Viet., JSC\",\"Chamhoc.vn\",\"Nguyentathuu Wordpress\",\"Smileltutor\",\"eKita\",\"Stem (DTT)\",\"Yodaa\",\"Ham hoc\",\"Vandora\",\"TheRightU\",\"Corporate Training Partner Pte Ltd\",\"Smoocer\",\"GREDU\",\"Askarasoft\",\"Mejakita\",\"Educa Studio\",\"Coursepad\",\"The Anh Group\",\"Zcholar\",\"In Session\",\"Zen .,JSC\",\"Cozora\",\"Alada\",\"Online Management Training\",\"Codomo\",\"IndonesiaX\",\"Eductory\",\"Youthmanual\",\"A1MYOBCourse\",\"RekanSejawat.com\",\"MISAKI International Exchange Co., Ltd\",\"Jogja Student\",\"Violet.vn\",\"Smart Internet Education System (SIES)\",\"Grdient\",\"Tinkertanker\",\"Comfyard\",\"Management Consulting Prep\",\"Multiply\",\"PT Mitra Studia Persada\",\"Studentbook\",\"Creatella\",\"Valutac\",\"Dreambender\",\"UtakAtikOtak\",\"Syseneg Academy\",\"Study Hard Play Hard\",\"SekolahPINTAR\",\"BestTop Career Consulting Pte Ltd\",\"Nativfy\",\"Tomonno\",\"TemanTakita\",\"Protege SGP Pte Ltd\",\"Atiral\",\"Learnemy\",\"Moon.vn\",\"Guru education\",\"lglist.co\",\"KelasKita\",\"Coding Lab\",\"Empirico Labs\",\"NextIn Indonesia\",\"Brandker\",\"StudentConnect (Accepted Pte Ltd)\",\"100% Project\",\"Tinkercademy\",\"excellence.asia\",\"VIESCOLA\",\"SPEAQUS\",\"Making Sense\",\"Tanpabatas\",\"Tlunjuk\",\"Kezaar.com\",\"Akira Education\",\"GURUKAMPUS.com\",\"Hocmai.vn\",\"Samurai Education\",\"Lingkaran\",\"Antoree\",\"TSF Academy Pte Ltd\",\"Classtree\",\"Q-Journal\",\"KiddyPass\",\"GiapSchool\",\"CognaLearn\",\"Sinaule\",\"LIPROF Training and Consultancy\",\"Nanoprivate (Seo Panel)\",\"Integra eTraining\",\"Create Lab Pte Ltd\",\"Arkavidia\",\"Pedia\",\"Gavetions.com\",\"Study in Jogja\",\"IAmThirsty\",\"Growth Hacking Asia\",\"Gnowledge\",\"Nguon hoc bong\",\"Bahaso.com\",\"Univariety\",\"Schoolbus\",\"Egame\",\"Schoola\",\"Telebort Technologies Sdn Bhd\",\"Yuki Center\",\"Reactor\",\"Ngoaingu24h\",\"TagCourse\",\"Wardaya College\",\"Websis for Education\",\"Zap Zap Math\",\"The Maths Centre\",\"TOPICA Edtech Group\",\"E-LEARNING LAB\",\"SIAP online\",\"copywriting inc\",\"KuliahKita\",\"Innovating minds\",\"The Rote Less Travelled\",\"Saungkode\",\"QH Online\",\"Medidu\",\"Monsoon Academy\",\"Ednovate\",\"Digital Senior\",\"Superkids Indonesia\",\"TurnPoint\",\"UBRAND\",\"Makers Institute\",\"EasyRead\",\"Bangsa Cerdas\",\"Zigzag Career\",\"Ashalat\",\"Mindvalley\",\"TribeWizard\",\"Student Life Care\",\"Spiral Education Pte Ltd\",\"DeltaViet Education\",\"IFERD\",\"Readish\",\"Vietnam OTS Co., Ltd\",\"UniDigest.com\",\"Exam\",\"School Plus\",\"Gurukite.com\",\"PT Winnertech Lintas Nusa\",\"Smart Education Now\",\"VisionarySchoolmen\",\"Sukawu\",\"Jagocoding.com\",\"ManyTutors\",\"A+ Home Tuition\",\"TeacherBird\",\"Tutorico\",\"Vista Education\",\"VNskills\",\"VNIS Vietnam\",\"izzilearn\",\"Igo10\",\"Classroom Matrix\",\"EduMatters\",\"SDI Academy\",\"Me Books Asia\",\"PT. Asian Brain IMC\",\"Kienhoc.vn\",\"Sekolah Kertas\",\"TGM Corporation\",\"Smarter Me Pte. Ltd.\",\"SnowSchool\",\"Refactory\",\"Giaoduc.net.vn\",\"Aimsis\",\"Rumah Sinau\",\"GotClass\",\"Sibejoo\",\"SekolahSG\",\"Recite Lab\",\"StudyNow\",\"Labbaik\",\"mathemate.com\",\"Learn 2 Code\",\"Family Play\",\"Atoha\",\"Getstarted\",\"E-Tryout\",\"Tutormu\",\"Akiko Viet Nam\",\"Schooriken\",\"Code Division\",\"Dengerin.id\",\"Sarjana.co.id\",\"VNdoc\",\"Pedenesia\",\"Toyo Studio\",\"Bach Kim\",\"Funedoo\",\"Startup Mengajar\",\"Kon-Go Studio\",\"21st Century Learning Pte. Ltd.(nooinq.com)\",\"KlassJoy\",\"Codemi\",\"Flashcom Indonesia\",\"Fragmentor\",\"Skooly\",\"Code Gakko\",\"SIKAD\",\"Topica\",\"Stars Involvement\",\"Learning Analytic Pte. Ltd.\",\"Bulletinboard\",\"Bisa Belajar\",\"ITM Japanese Center\",\"TopoTogo\",\"Yacademy\",\"Weefur\",\"Ennotate\",\"Era Belajar\",\"Sekolah Koding\",\"Focus Learning Lab Pte Ltd\",\"Loop.sg\",\"Tutoroo\",\"Edgebotix Pte ltd\",\"Wiztango\",\"Elive International\",\"EBIV\",\"Yola Institute\",\"Improovi\",\"DTU Corp\",\"penulisid.com\",\"FlashAdvance\",\"Zenius Education\",\"EKTIZO\",\"Neliti\",\"Cakra\",\"Digidu Indonesia\",\"Kiddie Kist\",\"ripplecreate\",\"Qalamotion\",\"CodeSaya\",\"LearnLyve\",\"Progenie\",\"LessonsGoWhere.com.sg\",\"Tomago\",\"EduNation\",\"BeRich\",\"MyFreelys Academy\",\"OneScholar\",\"EduShare\",\"GoldenKey Language School\",\"Terrabook\",\"LiteTutors\",\"Student Job\",\"Skoolight\",\"LingoQuest\",\"Communicaire\",\"FutureLab\",\"KidzBOT\",\"Robusta Vietnam\",\"Minder\",\"Hocvip.com\",\"ilmuGo\",\"TrackRecord Asia\",\"Circledoo\",\"Asdos.id\",\"Eduropa\",\"Starteur\",\"TechSociety Group\",\"EdTech Indonesia\",\"Tutormy\",\"Deck.Toys\",\"tuittor.com\",\"PT. Langit Asia Fortune\",\"Learnival\",\"Ideate\",\"Zuni.vn\"],\"descriptions\":[\"Gnowbe is a disruptive mobile learning solution delivering bite-sized multimedia content to the smartphone.\",\"DANAdidik is a Peer-to-Peer Lending (P2PL) for the micro student loan in Indonesia. Anyone can now fund a student in Indonesia, get a return while helping them.\",\"HarukaEdu is education portal where users can participate in variety of formal and informal education online, such as online classes, online courses, and online certifications.\",\"Nhance is a mobile learning platform which transforms learning content into games and delivers interactive, bite\\u00ad\\u2010sized experiences to users\\u2019 on their smartphones.\",\"Tueetor is a free, online marketplace that connects learners and trainers.\",\"Teamie is a cloud-based social learning platform that drives collaboration, enhances educator productivity, and institution performance.\",\"Kyna.vn is a marketplace for graduates and professionals to deliver courses in various skills and test preparations.\",\"Squline is an online learning platform that connects students with professional native teachers to learn new languages.\",\"NEXT Academy has helped many entrepreneurs, coders, marketers, designers pursue their ambitions by empowering them with the skills, knowledge and network\",\"EduAdvisor is an education course comparison portal in Malaysia\",\"Wizlearn is an e-learning company that provides web based e-learning solutions, content and services\",\"Classruum.com is an innovative e-learning solution currently being introduced in schools and higher institutions in Malaysia.\",\"Learnly is a community marketplace for students and tutors to connect. Be it private tuition, group tuition, music lessons and more, tutors are a few taps away on the Learnly app.\",\"ScholarDeck is Malaysia's one-stop scholarships platform.\",\"A learning application teaching consumers to code and build software.\",\"My Aone Learning is an online marketplace for local classes in Malaysia and Singapore.\",\"Studentpreneur is a platform where people can learn about entrepreneurship.\",\"Epigami is an online platform for learning\",\"RyMM Education is an edtech company focusing on relationships between parent, teacher and fellow parents.\",\"Cialfo offers an innovative SaaS platform (available on web and mobile) for independent college counsellors, private organizations and high schools to streamline their overseas college application process. It increases the effectiveness by enabling efficient task management, managing communications with their students and parents; and an automated proprietary college shortlisting algorithm.\",\"We bring the first live learning platform to Vietnam. We currently offer English language programs to K-12 students, adult learners and corporate staff across Vietnam.\",\"With LittleLives, helps preschools run more efficiently in a paperless way!\",\"Ruangguru is a website that connects prospective students to find the right teacher candidates to add to the lessons outside of school or college or develop specific skills.\",\"Codetoki is a gamified online learning platform for Computer Science, IT and Computer Engineering students to learn coding through challenges.\",\"Duable Chinese is an app that analyzes the user's Chinese comprehension level and links them to articles that match their reading level.\",\"Street Smart University (SSU) is the world\\u2019s first mobile platform to make world class personal development content affordable, accessible and convenient for the masses to learn from.\",\"PlayMoolah is a fun online platform for kids aged 6 to 12 to save, manage, and earn an allowance.\",\"Kart is a mobile development company that produce new platform of education that helps parents teach their kids using combination of digital and physical engagement activity.\",\"Wildby helps parents and children to answer those endless why, why questions anywhere, anytime!\",\"EasyUni.com is Asia's leading online destination for finding your dream university or college.\",\"XSEED is a comprehensive academic solution for schools that is designed to raise the level of learning in classrooms and build confidence in children.\",\"Veev is an education technology company which partners with students, educators, administrators, and other professionals around the world to deliver engaging and customised learning solutions.\",\"eduPOW is a online publishing platform that empowers everyone everywhere to learn what they love.\",\"DocuBuzz develops collaboration solutions that leverage emerging mobile and cloud computing technologies.\",\"Prepare the better luggage for life with many skills, tips and physical consultancy\",\"iTrain Asia is a Mobile Development Training Certification Body that provides iOS, Android and HTML5 certifications, course materials and also trainings via our channel partners.\",\"A social media and information portal for education industry that lets members connect to each other, universities, schools and other education related services around the world directly.\",\"At Coding Shophouse, we offer affordable (read, heavily-subsidised) courses in practical hands-on coding and to ensure you have the necessary skills to pursue that alternate career path.\",\"Quors\\u00e9 is an online training marketplace that connects individuals and businesses with experienced trainers and training providers.\",\"Thu Quan Doanh Nhan is a nonprofit organization that provides future business leaders with a venue for reading, study groups, training of presentation skills, teamwork, business acumen and leadership through interaction.\",\"Eduu community connect directly learners to suitable education opportunity (centers & teachers)\",\"forEdu is an adaptive and collaborative learning platform designed to motivate students and helps education centre manage paperwork effortlessly.\",\"Kila is an educational mobile application about interactive storybooks for kids that runs on various kinds of mobile devices.\",\"Classmoe is a video marketplace that provide long distance tutoring in tech education and k-12 education.\",\"iScholar was founded as a one-stop online scholarship application platform that makes scholarship accessible to all students. At iScholar, we help to facilitate the communication, matching and awarding of scholarship programmes between deserving students and sponsors i.e. corporations, foundations, institutions and individuals.\",\"Connecting educations to people. Providing formal education (School & university) informations to public, and Admission system that help formal educations in Indonesia go online (online applications system, education profiles, news, reviews).\",\"BUILDING STAFF TRAINING, EDUCATION ENROLLMENT AND LABOR EXPORT\",\"Education online for elementary school children .\",\"it is a website sharing tech - education - lifestyle info\",\"SmileTutor is the leading home tuition agency for parents and students looking for home tutors.\",\"The cloud platform for your academic life.\",\"Stem is a Community Education website in Vietnam\",\"Yodaa brings parents' word of mouth online. Find an experienced tutor in Singapore easily, and reliably.\",\"Ham hoc is learning community to connect young generations to knowledge fastest.\",\"USpell is a smartphone application that helps you study, practice and test your English pronouncing skill easily.\",\"TheRightU is an online university admissions and higher education consultancy\",\"A company that is advocating flip and authentic learning for young and young at heart. To achieve this we are creating 2 apps called let's flip and go score. We are also building an online campus called score campus.\",\"Smoocer is a mobile app that enhances your e-learning by placing you in a small study group with people taking the same online course as you\",\"Here in GREDU we believe we can use technology to improve the educational environment to create a better future.\",\"Askarasoft starts as a solution for education market. We help non formal education to manage administration tasks such as scheduling, finance, class management, and academic report using AskaraEdu Student Information System. We have helped thousand of parents to view their children progress and activity during their study using Askaraedu.\",\"Mejakita is a non-profit organization that runs a free, online educational platform for Indonesian students nationwide.\",\"Educa Studio - Free Education Games & High Quality Casual Games\",\"Coursepad is a mobile learning platform that allows organisations to rapidly deploy social learning apps.\",\"TheAnh Group l\\u00e0 m\\u1ed9t agency n\\u0103ng \\u0111\\u1ed9ng, tr\\u1ebb trung.Ch\\u00fang t\\u00f4i th\\u00e0nh l\\u1eadp v\\u00e0o gi\\u1eefa n\\u0103m 2010, v\\u1edbi \\u0111\\u1ed9i ng\\u0169 nh\\u1eefng chuy\\u00ean vi\\u00ean \\u0111\\u1ea7y nhi\\u1ec7t huy\\u1ebft - c\\u00f3 ki\\u1ebfn th\\u1ee9c, chuy\\u00ean m\\u00f4n v\\u00e0 kinh nghi\\u1ec7m chuy\\u00ean s\\u00e2u trong l\\u0129nh v\\u1ef1c thi\\u1ebft k\\u1ebf web, ti\\u1ebfp th\\u1ecb v\\u00e0 qu\\u1ea3ng c\\u00e1o tr\\u1ef1c tuy\\u1ebfn\",\"Zcholar is an academic social network providing a community for scholars, students, and researchers from all around the world.\",\"In Session seeks to encourage working adults to discover, learn and pursue skills, passions and interests outside of the 9-5, by offering a variety of choices at a low initial commitment.\",\"Japanese Center\",\"Cozora is website to help individual speakers and organizations to host live cast.\",\"Alada.vn is a online education platform in Vietnam.\",\"OMT is a dedicated Vietnamese e-learning provider established on the basis of multi-year experience in management training and consulting of the Organizational Capacity Development Company (OCD)\",\"Codomo is an edtech startup that aims to nurture creativity through empathy, technology and design. We achieve this by conducting real-world oriented design and tech workshops for kids aged 4 - 18.\",\"IndonesiaX offers free Massive Open Online Course (MOOC) from the best national university and company\",\"Eductory is a website to help parents to find an education (including school, extracurricular, courses, or private tutor) for their children.\",\"Youthmanual is a platform for university preparation and data-driven online career which is supported by People Science \\u00a9 technology to help students to plan and prepare their future.\",\"A1 MYOB Courses Singapore offers training courses in Singapore.\",\"RekanSejawat.com provides online tryout test.\",\"Specializing in the field of consultancy and training Japanese.\",\"Jogja Student is a education portal website in Yogyakarta\",\"The largest teacher community in Viet Nam.\",\"SIES specializes in providing online training courses short and medium term in the areas of : information technology ; Sell; Marketing online ; HR profession ; Soft skills ...\",\"Grdient combines big data and technology to teach future-ready skills and help people get jobs in startups.\",\"Tinkertanker is a technology and education company by teachers who enjoy coding, and coders who enjoy teaching. We run Tinkercademy, where we teach coding and electronics to students of all ages; GuestDay, an iPad-based guest registration service; and various smaller tech projects. Wait, \\\"describe the company in one sentence\\\"? Why did you give us so many characters to use then\",\"All-in-One marketplace for Language Learners!\",\"Management Consulting Prep (MCP) is a global career prep platform with primary services of teaching students and experienced professionals to land a job in management consulting firms, i.e. McKinsey, BCG, Bain, etc.\",\"Multiply is affordable, short term (5 days or less) classroom based courses to learn code from professional coders.\",\"Digital Learning Hub \\u2013 the pioneer of one-stop integrated learning solution.\",\"Studentbook is an Internet-based digital platform that integrates various functions of education and learning to school digital. Studentbook integrate academic information systems, academic social networking, and e-learning in a single integrated system.\",\"Creatella is an ambitious, energetic startup aiming to penetrate untapped P2P marketplaces and make the world more open. Started in Singapore with European roots and remote collaborators from 15+ countries, this highly international company aims to become a top tech startup in bustling South East Asia.\",\"Valutac is a Enterpise consultant and full-service MOOC solutions provider including planning, implementation, hosting, theming, support, training, and custom development including integration with existing efforts.\",\"DreamBender is a social venture that creates an open sign language dictionary and learning application that provides interactive, real-time sign language learning using Xbox Kinect as a motion sensor.\",\"Utak atik otak is an Indonesian educative social media packaged in quiz form to enhance memory and knowledge of the users\",\"Syseneg Academy is in the business of providing certification program in the specialised field of project management and related discipline.\",\"Study Hard Play Hard (SHPH) is a program empowering underprivileged youths through subsidized education and skills training.\",\"Sekolah Pintar is providing students to improve their ability about online business and how it works.\",\"BestTop Career Consulting is a marketplace that connects job seekers with working professionals to provide customized career advice, resume critique, interview prep, and more.\",\"Nativfy helps language learners perfect their language by connecting them to native speakers anytime, anywhere\",\"Tomonno is an effective and efficient tools to monitor students\\u2019 daily activities\",\"Portal for talent of children; tips and guidances for talent development; coverage of children's talent activities; profiles of children and people who success because of their talent.\",\"Prot\\u00e9g\\u00e9 is a learning platform that aims to connect aspiring learners with inspiring teachers while delivering unique workshops that cater to the goals and objectives of both individuals and companies.\",\"Atiral is a Social Networking Collaborative Learning Platform to provide SMART ( Sharing, Multidisciplinary, Autonomous, Reflective and Technology-enabled) learning experience and universal access to high-quality learning opportunity to everyone.\",\"Learnemy is an online marketplace where you can take private and group classes from people in your community.\",\"All information about Education\",\"Learning English is simple in everywhere\",\"A list of promising Vietnamese startups\",\"KelasKita is startup company in Social Learning, we create feature for public to easy learn, collaboration and make social for learning. you can create class private or public class, create quiz, test and collaboration in class.\",\"Nurturing the Next Generation of Leaders in Technology. Experience the Coding Lab Difference with our Award-Winning MIT-Inspired Curriculum. For Ages 4-16.\",\"Empirico Labs is a Learning and Development Enterprise with the vision of revolutionizing the learning space.\",\"NextIn Indonesia is a startup IT company with a mission to solve social issues and to accelerate all of education aspects around the world.\",\"BRANDKER - Global Entrepreneurs Community BRANDKER is the first digital platform in the world which provides Business Network (Connector), Business Coaching (Educator) and a Platform to cultivate and invest in new startups, business ideas by entrepreneurs from all regions (Incubator). We are currently based in Malaysia, Singapore and China. Be part of our global community, #BeBRANDKER!\",\"StudentConnect is a service for prospective students to find and engage actual students at schools they want to get to know better before applying.\",\"100% Project is a crowdfunding platform for classrooms in need. We empower teachers to provide the best learning experience for their kids.\",\"At Tinkercademy, we teach coding, electronics, making, mess-making, and more.\",\"excellence.asia is a smarter way to find training for every business. Our mission is to help corporates and individuals improving their competencies by helping them to choose the right training courses and provide tools for enhancing learning experience\",\"Social Application for College. We connecting Students and Lecture from the other College in one Application.\",\"Speaqus is a platform that helps you find the most appropriate speakers in Indonesia\",\"\\\"Making Sense is an award winning chemistry tution centre in Singapore.\\\"\",\"Tanpabatas provides online personal coaching program that assists anyone who are overwhelmed with life distraction to increase productivity & bring fulfillment.\",\"Tlunjuk is an education tech startup that provides an open class module for students.\",\"Kezaar is a social marketplace for classes and workshops in Singapore.\",\"Akira Education is a website providing Japanese and English online course\",\"GURUKAMPUS.com is an innovative website which connects college students who are interested to become a mentor for student who are looking for a private teacher.\",\"Hocmai.vn is Vietnam\\u2019s leading education portal, with free and premium lessons, study guides, information on universities and admission exams etc..\",\"Consultancy study, Japanese Center\",\"Lingkaran is educational community for creatives and providing a new culture of creative and entrepreneurial education.\",\"Antoree is a supportive community of English learners and English tutors helping each other through English lessons (conducted online or offline).\",\"We provide an online education platform caters for adult learners focusing on personal development and business career advancement for SEA market.\",\"Classtree is all you need for parent teacher communication\",\"Q-Journal supports academic transaction in Indonesia by providing global coverage for national journals to international index nd high quality international papers to national universities.\",\"KiddyPass is a dedicated marketplace to discover skill learning for kids.\",\"GiapSchool is the first online education website in Vietnam (MOOC) that allows everyone to learn independently and creatively.\",\"CognaLearn is an education company devoted to applying cognitive science to help people learn better and faster.\",\"Sinaule is a gamified e-learning website to keep learning fun\",\"LIPROF (LEADING INSTITUTE FOR PROFESSIONALS) is a learning platform for professional certifications, specialized in PMI certifications.\",\"Simply, Future, eLearning\",\"Integra eTraining is the first online training (e-learning) provider in Indonesia.\",\"Create Lab works with educators from Oxford, MIT & Singapore\\u2019s top universities to inspire children to create with technology and prepare them to become 21st Century Leaders.\",\"Under development....\",\"Pedia is an online training system in Vietnam.\",\"Gavetions.com is a digital media which contain latest technology, gadgets, guides, and games reviews.\",\"Study in Jogja is a community and media for young people which focuses on giving education and lifestyle information of young peope in Indonesia.\",\"IamThirsty.com.sg is Singapore's largest portal for training courses.\",\"Growth Hacking Asia is a service, training and consulting company, that helps Asian startups grow into success stories by executing growth hacking activities for them, equipping them with growth hacking skills and connecting them with mentors.\",\"Gnowledge is a free-to-use education platform that benefits educators, students and parents.\",\"A Vietnam\\u2019s leading source of scholarships information with varied levels, different disciplines in many developed countries in the world.\",\"Bahaso.com is a platform and social media to learn foreign languages online and interactively.\",\"Univariety is the largest and fastest growing company in India which sets up outplacement systems in high schools\",\"Schoolbus supplies massive open online courses 2.0\",\"Egame provide educational services online game in Vietnam.\",\"Schoola is a website that wants to connect psychology with technology.\",\"Telebort is an edu-tech startup founded in Universiti Sains Malaysia.\",\"Training Japanese, Japanese Study, Trade Promotion, Bien - Interpretation.\",\"Reactor is a Education Technology in Youth Entrepreneurial Education.\",\"Specialist teaching English, TOEIC, IELTS, English skills.\",\"TagCourse is an education platform developed to help students choosing the right course and university/college. We are also developing to become the largest student website in Malaysia.\",\"Wardaya College provides math and science online learning resources in the Indonesian language.\",\"A System Integration Company specialise in Educational Technology. We work as the coordinator between Educational Publishers, Educational Expert and Technological Companies to engage schools and provide pedagogical learning approach and technological solutions tailored to school\\u2019s requirements.\",\"We are the future of math learning, game-based learning will become the most well-received and efficient method of learning in the future.\",\"The Maths Centre is an e learning website with an exam focus on pre university levels .\",\"Topica Edtech Group is a leading online education provider in South East Asia with Topica Native, Topica Uni, Edumall.\",\"A platform for students of all ages and freelance teachers looking to teach online.\",\"SIAP Online provides a total solution integrated application services online school for education in Indonesia.\",\"Copywriting Inc writes quality pieces in the most efficient, professional and timely manner. Our writing service agency offers good value, written by experts of various fields. Knowledgeable in S.E.O, copy-writing we can assist you to save time while we do all the hard work producing top-notch content for your websites or webpages.\",\"KuliahKita is a learning platform for Indonesian students which targets from high school level students and above. It's shaped like an online course to help people study together in asynchronous way.\",\"We believe in transforming youngsters into winners through experiential and project based learning.\",\"The Rote Less Travelled develops and provides supplementary educational curriculum in Mathematics and Science at the Secondary and Junior College levels in Singapore.\",\"Saungkode is a web learning platform focused for learning about programming offered in Indonesia language which is available online and free of charge to learning programming from zero to advanced.\",\"QH Online trains and educate PHP developer and the one who love it\",\"Creative, Technical, Life, Financial, Parenting, Business Skill in one place.\",\"Monsoon Academy is the only authorized and official SAP partner in Indonesia for the delivery of the SAP e-academy with campuses in Jakarta, Bandung, Surabaya and Jogjakarta.\",\"Support Marketing for Entrepreneur.\",\"Digital Senior is created for students, by students. It is a place for students to express themselves and share their insights with other university students, so as to inspire one another. Everything about universities can be found inside.\",\"Superkids is a fun edutainment bilingual online media for Indonesian children.\",\"TurnPoint is a destination education startup that provides intensive learning opportunities for entrepreneurs, career shifters and global citizens who are looking for a more meaningful way of working and living.\",\"World's first e-learning and personal branding social network.\",\"Makers Institute is an educational institution that combines online and offline studies to explore computer science, programming, and software development.\",\"EasyRead is an application that helps young adults and professionals learn new languages while reading content that is of interest to them at their specific difficulty level.\",\"Bangsa Cerdas is an online learning and bootcamp training platform based in Indonesia.\",\"Zggzag Career is the assistance in creating, proofreading and fine-tuning of CV and anything else related to academic or career path.\",\"Ashalat is a guidance prayers application, start from intention to salaam are presented in audio form. Audio pronunciation in apps are spaced, so users can hear and follow the audio while practicing prayers. Ashalat is a product of AMPlified.\",\"Mindvalley builds companies that revolutionise education and allow people to be extraordinary through innovation in learning and personal growth.\",\"A web & mobile application focusing on knowledge retention and enhancement of corporate learners; by providing short burst of engaging learning experience.\",\"Focus on connecting Vietnamese students worldwide and leveraging their student life through our online channels, settle-down services and events.\",\"Spiral is the fastest way for teachers to carry out formative assessments and encourage student progress.\",\"DeltaViet works with qualified teachers, experts and business people to create high quality online courses on diverse subjects.\",\"IFERD is a private, non-profit organization that brings together Vietnamese and international scholars who focus on educational creativity, innovation and entrepreneurship.\",\"Readish is a free platform to view and create courses from bookmarks. View other users' courses for pre-school, elementary, high school, college resources.\",\"Training centers and development gifted of children.\",\"A university course comparison portal built by founders who are obsessed with organising global higher education information and making it convenient and relevant to the world.\",\"Exam.com is aiming to bring the MOOC concept to primary and secondary school tuition, with tutor supported online lessons and practice exams to give children an advantage in real-world entrance and streaming exams.\",\"School Plus Parkway Parade, Tampines Central, Ang Mo Kio. The only education centre in Singapore that harnesses technology for personalised learning.\",\"Gurukite.com is an online platform that connects students to private tutors based in Pontianak, Indonesia.\",\"Manufacturer and distributor of technology-based education products.\",\"Smart Education Now is a cloud-based platform that enables personalized teaching and learning.\",\"VisionarySchoolmen is at the forefront of Educational Information Technology. From building the best Educational platform possible, to creating incredible content in order to bring about a quantum leap in education.\",\"Sukawu.com is a dynamic edtech start-up company that was formed to provide a 'one-stop solution' for people of all ages in exploring their passion and talent to realise their maximum potential with the first online portal and marketplace in Indonesia that connects learners with course providers in non-formal education along with other innovative programs to improve the quality of human resources.\",\"Jagocoding.com is No. 1 programming tutorial social network site in Indonesia.\",\"ManyTutors.com help tutors with marketing by exposing their services to a sizable audience.\",\"A+ Home Tuition is an online platform for home tutoring services that helps create high quality relationships between parents, students and tutors for an effective education experience.\",\"TeacherBird.com is an online training portal with high-quality learning components combined with high definition videos which establishing a bridge between teacher and students.\",\"Tutorico is a tutoring platform for IB students in Singapore.\",\"Vista International Corporation (PT.VIC Indonesia) is an education consultant in Indonesia which specializes in preparing students to study overseas.\",\"TRAINING SPECIALISTS GRAPHIC DESIGN MEDIA .\",\"VNIS Vietnam (Vietnam Innovative Services) is an international education solution provider working 24/7 to establish a wide bridge connecting international institutions and Vietnamese students.\",\"izzilearn is one of the projects of Flamingo company - an e-learning community that connect trainer from every where can teach everything.\",\"iGo10 is a mobile app that helps you learn English online through video clips daily.\",\"Online resources for local students.\",\"Educational News, Reviews and School Directory Portal\",\"SDI Academy provides personalized language, vocational, and computer skills training to migrant workers and refugees.\",\"\\\"To provide parents, children, and educators access to world-class children\\u2019s storybooks & comics under one subscription easily at their fingertips in Asia Pacific.\\\"\",\"PT. Asian Brain IMC is an online business learning in Indonesia\",\"Kienhoc.vn provides online study courses\",\"Sekolah Kertas aims to creating waste free families and village in Indonesia\",\"A leading publish and training company in Vietnam\",\"We empower people to learn and are revolutionizing education.\",\"SnowSchool is an education support system that will give us a new alternative way to learn many things, many subjects, with other people.\",\"Programming school for 21st century\",\"Information about Education in Vietnam\",\"Aimsis is an abbreviation of Academic Information Management System in Schools, a SaaS for connecting Parent with Teachers, while automating Teacher\\u2019s administrative task.\",\"Rumah Sinau is a platform for space rent of living room or office for educational activities.\",\"GotClass is one of Singapore largest education sites, enabling parents to plan and narrow down to the most ideal class for their children.\",\"Sibejoo is an online video based learning portal.\",\"SekolahSG is a one-stop online platform for young Indonesians who want to study in Singapore. Start your journey with us.\",\"Recite App provides Quran recitals validation service through mobile devices.\",\"Studynow is an online learning website\",\"Labbaik is an audio guidance for Hajj and Umra which serves complete du'a into audio and detail reading text.\",\"Mathemate is like a Quora for students, connecting students to all things math and aiming to be the easiest place to ask and check existing content from the web.\",\"Learn 2 Code provides coding/programming education from beginner to intermediate level.\",\"Family Play is a developer of children's educational apps, from toddlers through to primary level education, Family Play has a wide range of curriculum and content aimed at young children\",\"Atoha is an e-learning platform for millions of learners to take interactive 1-on-1 coaching courses from certified trainers worldwide\",\"Getstarted is an online platform to learn about artificial intelligence, data science, and related technologies.\",\"Exercises application and test bank for elementary, junior high, high school, SBMPTN, driver's license theory test, IQ Test, Psychological and various package exercises.\",\"Tutormu is a web platform which aims to ease everyone to form a study group guided by a tutor.\",\"Japanese Language Training Center\",\"Student personal assistant app powered by school and teachers.\",\"Learn to build apps in 9 weeks in Kuala Lumpur, Malaysia.\",\"Dengerin.id is an audio and video based learning platform that can be listened anywhere and anytime.\",\"Sarjana.co.id is a platform that support users to find university or program of study.\",\"Specialist sharing site that allows viewing and downloading free of legal documents, templates, learning materials, books, papers, documents\",\"Pedenesia is a training marketplace that helps employees to find and book training easier and training providers to sell more\",\"Toyo Studio develops virtual schools to provide educational solutions by building an offline virtual classroom and teacher in smartphone.\",\"Bach Kim is the leading company in technology solution for education.\",\"Funedoo is social media education which is used to learn, play and socialize in a fun, creative and positive way.\",\"Startup Mengajar is a community movement that involves entrepreneur, local developers, startups, freelances, and digital/tech enthusiasts to contribute in increasing IT industry quality in Indonesia.\",\"Kon-Go Publisher Studio focusing on educational books and apps.\",\"Nooinq revolutionizes early childhood development and care, and offers richer experiences for educators, parents & schools to engage better!\",\"KlassJoy is a mobility collaboration & data visualization for Kindergartens\",\"Codemi is web based learning management system that enable organization to manage online training program for employee and partners that could reduce cost, measurable and deploy rapidly.\",\"Flashcom Indonesia is a computer learning training and courses institution which implements \\\"student needs\\\" and \\\"flexible schedule\\\" method.\",\"Fragmentor helps student to study abroad by finding the perfect mentor, accommodation and homemade cooking.\",\"Skooly is a collaboration platform for 21st century schools enabling real time messaging for schools, teachers, parents & students, one click payments and happier educational journeys.\",\"Code Gakko is a coding academy for students of all ages in Singapore.\",\"SIKAD provide School Paperworks Automation and Real Time Report to Region Education Office.\",\"TOPICA Education Group is a leading provider of high-quality online university degrees in Vietnam, pioneer in E-learning technology.\",\"Stars Involvement is an application for parents to monitoring their children at school.\",\"Learning Analytic Pte. Ltd. offers students, colleges and universities a robust way to use data to assess their strengths and weaknesses and enhance their capabilities.\",\"Bulletinboard is the first free mobile application in Indonesia to make teacher's lives easier, and parents more engaged\",\"Bisa Belajar is a company that holds a one stop learning center that contains Video Contents, Exercises and Tryout, and Learning Forum.\",\"specialized language training establishments and Japanese culture for those trainees , apprentices, students.\",\"Exploring Singapore: A family affair made enriching. At TopoTogo, we're crafting beautiful Edutainment Apps. And we're starting with a collection of city guides for children & their parents.\",\"Yacademy, part of Ygroup Asia, provides education in digital technologies and innovation.\",\"Weevur is a free online, cloud-based platform that aims to connect schools, educators, and learners globally.\",\"eNNOTATE aims to help students learn better through collaboration while helping teachers teach better through the use of analytics.\",\"Era Belajar is a place where you can learn together with friends.\",\"Sekolah Koding is a online platform to learn programming using text and video in Bahasa.\",\"Focus Learning Lab is a leading learning centre that focuses on the enrichment of our students through effective curriculum.\",\"LOOP.sg was developed as a one-stop marketplace and learning hub for every kind of e-learning imaginable.\",\"TUTOROO is an online marketplace that helps students connect with qualified in-person language tutors near them.\",\"EdgeBotix is a start-up company dedicated to designing and delivering the educational robots called eBots, all at a low cost. eBots provide a simple yet effective platform for students to learn on. eBots are easily modifiable to meet any requirements\",\"Wiztango develops post- and pre-engagement solutions for instructor-led classrooms and virtual training sessions.\",\"Online learning English and offline learning center\",\"EBIV is a platform where people share about the schools, language centers and quality reputation.\",\"Yola Institute is a premier provider of educational services in Vietnam.\",\"We are talent development organization dedicated to close the talent GAP in Indonesia. We provide FREE informal education for students in High School, College, and Fresh Graduate to get technical and soft skill.\",\"DTU Corp provides overseas education consultation, medical tourism, and overseas job referring services.\",\"Penulisid.com is a service business that is focused on fostering talent authorship with the concept of social mission, affordable, and useful.\",\"FlashAdvance helps language teachers keep their students engaged and motivated through fun mobile learning content.\",\"An online learning platform that gives Indonesian students new ways of learning by providing them with fun yet effective educational material.\",\"Supports approaches to coding that engage students in thinking creatively, reasoning systematically, and working collaboratively.\",\"Neliti is an open access research database.\",\"A complement therapy application for autism, asperger, ADD, ADHD, down syndrome, mental retardation and slow learner with interactive technology.\",\"Digidu Indonesia provides digital book application as a learning platform with interactive contents.\",\"kiddie kist {www.kiddiekist.com} is a subscription for busy parents who want to boost their child's creativity and intelligence.\",\"ripplecreate is passionately committed to delivering the most well-rounded technology education experience of the future\",\"Learning Islam is now simple and easy with Qalamotion.\",\"CodeSaya is a place to learn on how to code, with easy and fun learning built by Indonesian coder with the help of the open source community.\",\"LearnLyve is an online marketplace for live instructor-led training programmes.\",\"Progenie is an educational portal that connects parents and educators to bring out the best in every child.\",\"LessonsGoWhere.com.sg (LGW) is an online marketplace to list, discover and book local lessons\",\"Tomago Education is a modern University for Kids\",\"EduNation is the largest FREE primary and secondary school online resource in Malaysia.\",\"BeRich.vn is a leading investing and financial management company in Vietnam, providing thousands of users with access to financial planning, stock advisor, stock community and financial management.\",\"MyFreelys Academy is established as a \\u201cTraining and Development\\u201d platform, promoting the best practice of Human Resource Management.\",\"OneScholar is an Apps for Education, Campus News, College Events, Internship News, Admission Alerts\",\"EduShare is an education application platform.\",\"Language School\",\"Application for Kids\",\"We are currently a tuition agency. However, we looking to move forward to provide a platform for all parents to come review the different tuition centres & agencies, easy for people to compare. We will then also move into children-related services.\",\"Student Job is a specialised job portal for student and recent graduates that provides information on part-time, internship, volunteer, and fresh graduate jobs.\",\"Skoolight builds SaaS-based school management system.\",\"LingoQuest enables language schools to offer fun, game-like blended learning experience that engage with today's learners.\",\"Communicaire is an artificial intelligence powered enterprise education company.\",\"FutureLab helps students and ambitious young professionals network with a wide range of industry experts and provide a platform where they can learn and ask questions to help them figure out what they want to do for their future careers and how to take it to the next level.\",\"KidzBOT is an app designed for busy parents who have kids under 5 years old living in urban areas to help their babies develop to their full potential\",\"Robusta specialist IT training and IT Governance depth and international authorized VMware , Microsoft , EMC , RedHat .\",\"Minder built mobile application to learn foreign languages and vocabulary.\",\"Hocvip.com is a teaching and learning social networking for free in Vietnam.\",\"ilmuGo is a website to help employees quickly learn job skills.\",\"TrackRecord Asia is a trading academy which provides training for retail and professional traders.\",\"Circledoo is apeer-to-peer learning and networking platform.\",\"Asdos.id is a mobile platform for student and college to share and discuss about lecture activities.\",\"Eduropa.com is an international study information platform. We are promoting higher education providing students with information and direct assistance in choosing study options and university.\",\"Starteur helps you discover, understand and develop your hidden entrepreneurial talents.\",\"TechSociety is one of Asia's first coding + entrepreneurship academies for Pre-College students in Singapore, Hong Kong, and Vietnam - and we are also building the Star Alliance of the education industry across the region.\",\"EdTech Indonesia is the first online community platform in Education & Technology fields in Indonesia.\",\"Tutormy is a learning community helping students and parents to find reliable educational resources.\",\"Deck.Toys is a new classroom tool that allows K-12 teachers to teach and engage students.\",\"Online video lectures.\",\"Ortwo School Management System and Ortwo Go is an integrated solution we build based on 2 years of research. This project is started from a fact in our education sector in indonesia that in the process of school administration a lot of clutter and inefficiency happens whether inside school or outside school like how information send from school to parents.  \",\"Learnival is a product of Purpleframe Technologies, the best social learning platform out there\",\"We aim to launch the biggest training and learning platform for all budding entrepreneurs and students through training kits, interviews and articles from established startups, publications and events.\",\"Zuni.vn is an online education project\"],\"fill_color\":[\"#cb4053\",\"#c3e14c\",\"#68af4e\",\"#cb4053\",\"#c3e14c\",\"#3f6d31\",\"#5fdfa8\",\"#e3be38\",\"#6d8dca\",\"#68af4e\",\"#cb4053\",\"#723bca\",\"#4e2d7c\",\"#c3e14c\",\"#cb4053\",\"#6d8dca\",\"#c84dc9\",\"#e3be38\",\"#723bca\",\"#723bca\",\"#e3be38\",\"#d44427\",\"#723bca\",\"#e3be38\",\"#3f6d31\",\"#6d8dca\",\"#e3be38\",\"#c84dc9\",\"#d34690\",\"#68af4e\",\"#d34690\",\"#d34690\",\"#c3e14c\",\"#cb4053\",\"#c84dc9\",\"#5fdfa8\",\"#68af4e\",\"#5fdfa8\",\"#6e6cd5\",\"#5fdfa8\",\"#c3e14c\",\"#e3be38\",\"#cb4053\",\"#6d8dca\",\"#c3e14c\",\"#68af4e\",\"#5fdfa8\",\"#d34690\",\"#3f6d31\",\"#723bca\",\"#c3e14c\",\"#4e2d7c\",\"#4e2d7c\",\"#69de53\",\"#4e2d7c\",\"#68af4e\",\"#69de53\",\"#68af4e\",\"#3f6d31\",\"#68af4e\",\"#e3be38\",\"#4e2d7c\",\"#3f6d31\",\"#7fcdd8\",\"#6d8dca\",\"#c84dc9\",\"#7fcdd8\",\"#6e6cd5\",\"#c3e14c\",\"#6e6cd5\",\"#6d8dca\",\"#6e6cd5\",\"#d34690\",\"#d44427\",\"#5fdfa8\",\"#7fcdd8\",\"#7fcdd8\",\"#68af4e\",\"#c3e14c\",\"#5fdfa8\",\"#d44427\",\"#723bca\",\"#6e6cd5\",\"#5fdfa8\",\"#5fdfa8\",\"#6e6cd5\",\"#c3e14c\",\"#6d8dca\",\"#6e6cd5\",\"#6d8dca\",\"#3f6d31\",\"#5fdfa8\",\"#6e6cd5\",\"#3f6d31\",\"#5fdfa8\",\"#e3be38\",\"#c84dc9\",\"#c84dc9\",\"#e3be38\",\"#c3e14c\",\"#4e2d7c\",\"#68af4e\",\"#c84dc9\",\"#6d8dca\",\"#6d8dca\",\"#3f6d31\",\"#e3be38\",\"#6d8dca\",\"#c3e14c\",\"#723bca\",\"#d44427\",\"#7fcdd8\",\"#5fdfa8\",\"#723bca\",\"#e3be38\",\"#7fcdd8\",\"#c3e14c\",\"#6d8dca\",\"#6d8dca\",\"#4e2d7c\",\"#723bca\",\"#4e2d7c\",\"#7fcdd8\",\"#69de53\",\"#4e2d7c\",\"#68af4e\",\"#723bca\",\"#6e6cd5\",\"#c84dc9\",\"#c3e14c\",\"#d44427\",\"#e3be38\",\"#5fdfa8\",\"#7fcdd8\",\"#c3e14c\",\"#d34690\",\"#c84dc9\",\"#68af4e\",\"#3f6d31\",\"#69de53\",\"#68af4e\",\"#c84dc9\",\"#e3be38\",\"#6d8dca\",\"#3f6d31\",\"#68af4e\",\"#6d8dca\",\"#3f6d31\",\"#4e2d7c\",\"#c84dc9\",\"#7fcdd8\",\"#d44427\",\"#5fdfa8\",\"#c84dc9\",\"#e3be38\",\"#d44427\",\"#d44427\",\"#6e6cd5\",\"#c3e14c\",\"#723bca\",\"#cb4053\",\"#7fcdd8\",\"#e3be38\",\"#d44427\",\"#69de53\",\"#e3be38\",\"#69de53\",\"#4e2d7c\",\"#69de53\",\"#6e6cd5\",\"#723bca\",\"#e3be38\",\"#6d8dca\",\"#c3e14c\",\"#cb4053\",\"#69de53\",\"#e3be38\",\"#d44427\",\"#3f6d31\",\"#d44427\",\"#cb4053\",\"#e3be38\",\"#c84dc9\",\"#723bca\",\"#6e6cd5\",\"#723bca\",\"#c84dc9\",\"#68af4e\",\"#4e2d7c\",\"#d44427\",\"#e3be38\",\"#6d8dca\",\"#3f6d31\",\"#69de53\",\"#68af4e\",\"#6d8dca\",\"#4e2d7c\",\"#723bca\",\"#723bca\",\"#c84dc9\",\"#7fcdd8\",\"#6e6cd5\",\"#6e6cd5\",\"#c3e14c\",\"#cb4053\",\"#723bca\",\"#69de53\",\"#d34690\",\"#d34690\",\"#5fdfa8\",\"#68af4e\",\"#4e2d7c\",\"#69de53\",\"#68af4e\",\"#69de53\",\"#cb4053\",\"#68af4e\",\"#c84dc9\",\"#c84dc9\",\"#6d8dca\",\"#68af4e\",\"#c3e14c\",\"#cb4053\",\"#e3be38\",\"#3f6d31\",\"#cb4053\",\"#69de53\",\"#69de53\",\"#c3e14c\",\"#d44427\",\"#7fcdd8\",\"#4e2d7c\",\"#7fcdd8\",\"#723bca\",\"#69de53\",\"#3f6d31\",\"#6e6cd5\",\"#69de53\",\"#6e6cd5\",\"#cb4053\",\"#d44427\",\"#69de53\",\"#6d8dca\",\"#69de53\",\"#d34690\",\"#7fcdd8\",\"#6e6cd5\",\"#d44427\",\"#723bca\",\"#723bca\",\"#723bca\",\"#7fcdd8\",\"#6e6cd5\",\"#d34690\",\"#69de53\",\"#d34690\",\"#d44427\",\"#cb4053\",\"#d34690\",\"#d44427\",\"#e3be38\",\"#723bca\",\"#4e2d7c\",\"#68af4e\",\"#e3be38\",\"#7fcdd8\",\"#e3be38\",\"#c84dc9\",\"#5fdfa8\",\"#d44427\",\"#723bca\",\"#723bca\",\"#c84dc9\",\"#7fcdd8\",\"#5fdfa8\",\"#e3be38\",\"#e3be38\",\"#6e6cd5\",\"#d34690\",\"#7fcdd8\",\"#cb4053\",\"#d44427\",\"#d44427\",\"#4e2d7c\",\"#4e2d7c\",\"#6e6cd5\",\"#d34690\",\"#69de53\",\"#4e2d7c\",\"#4e2d7c\",\"#6e6cd5\",\"#5fdfa8\",\"#7fcdd8\",\"#3f6d31\",\"#e3be38\",\"#cb4053\",\"#4e2d7c\",\"#5fdfa8\",\"#6e6cd5\",\"#e3be38\",\"#d44427\",\"#69de53\",\"#c84dc9\",\"#6e6cd5\",\"#cb4053\",\"#3f6d31\",\"#4e2d7c\",\"#5fdfa8\",\"#3f6d31\",\"#723bca\",\"#68af4e\",\"#c84dc9\",\"#6d8dca\",\"#c3e14c\",\"#723bca\",\"#c84dc9\",\"#723bca\",\"#d34690\",\"#3f6d31\",\"#e3be38\",\"#68af4e\"],\"funding\":[\"Latest Funding: Seed / $1,700,000 / May '17\",\"Latest Funding: Seed / $50,000 / May '17\",\"Latest Funding: Series B / $2,200,000 / Nov '16\",\"Latest Funding: Seed / $300,000 / Aug '16\",\"Latest Funding: Undisclosed / $1,480,000 / Aug '16\",\"Latest Funding: Bridge / $1,100,000 / Jul '16\",\"Latest Funding: Seed / Undisclosed / Apr '16\",\"Latest Funding: Bridge / Undisclosed / Apr '16\",\"Latest Funding: Seed / $300,000 / Jan '16\",\"Latest Funding: Seed / Undisclosed / Nov '15\",\"Latest Funding: Acquired / $14,000,000 / Oct '15\",\"Latest Funding: Acquired / $600,000 / Aug '15\",\"Latest Funding: Grant / $50,000 / Aug '15\",\"Latest Funding: Seed / $13,500 / May '15\",\"Latest Funding: Acquired / Undisclosed / Apr '15\",\"Latest Funding: Grant / $27,000 / Mar '15\",\"Latest Funding: Seed / Undisclosed / Feb '15\",\"Latest Funding: Seed / Undisclosed / Dec '14\",\"Latest Funding: Seed / $19,650 / Nov '14\",\"Latest Funding: Bridge / Undisclosed / Aug '16\",\"Latest Funding: Seed / $500,000 / Sep '14\",\"Latest Funding: Seed / Undisclosed / Sep '14\",\"Latest Funding: Series B / Undisclosed / Jul '17\",\"Latest Funding: Seed / $19,650 / Jul '14\",\"Latest Funding: Seed / $17,700 / Feb '13\",\"Latest Funding: Others / $45,000 / Nov '12\",\"Latest Funding: Grant / $50,000 / Nov '12\",\"Latest Funding: Seed / Undisclosed / Apr '12\",\"Latest Funding: Seed / $12,000 / Feb '12\",\"Latest Funding: Series B / Undisclosed / Dec '15\",\"Latest Funding: Series A / $10,000,000 / Sep '10\",\"nan\",\"nan\",\"nan\",\"nan\",\"nan\",\"nan\",\"nan\",\"nan\",\"nan\",\"nan\",\"nan\",\"nan\",\"nan\",\"nan\",\"nan\",\"nan\",\"nan\",\"nan\",\"nan\",\"nan\",\"nan\",\"nan\",\"nan\",\"nan\",\"nan\",\"nan\",\"nan\",\"nan\",\"nan\",\"nan\",\"nan\",\"nan\",\"nan\",\"nan\",\"nan\",\"nan\",\"nan\",\"nan\",\"nan\",\"nan\",\"nan\",\"nan\",\"nan\",\"nan\",\"nan\",\"nan\",\"nan\",\"nan\",\"nan\",\"nan\",\"nan\",\"nan\",\"nan\",\"nan\",\"nan\",\"nan\",\"nan\",\"nan\",\"nan\",\"nan\",\"nan\",\"nan\",\"nan\",\"nan\",\"nan\",\"nan\",\"nan\",\"nan\",\"nan\",\"nan\",\"nan\",\"nan\",\"nan\",\"nan\",\"nan\",\"nan\",\"nan\",\"nan\",\"nan\",\"nan\",\"nan\",\"nan\",\"nan\",\"nan\",\"nan\",\"nan\",\"nan\",\"nan\",\"nan\",\"nan\",\"nan\",\"nan\",\"nan\",\"nan\",\"nan\",\"nan\",\"nan\",\"nan\",\"nan\",\"nan\",\"nan\",\"nan\",\"nan\",\"nan\",\"nan\",\"nan\",\"nan\",\"nan\",\"nan\",\"nan\",\"nan\",\"nan\",\"nan\",\"nan\",\"nan\",\"nan\",\"nan\",\"nan\",\"nan\",\"nan\",\"nan\",\"nan\",\"nan\",\"nan\",\"nan\",\"nan\",\"nan\",\"nan\",\"nan\",\"nan\",\"nan\",\"nan\",\"nan\",\"nan\",\"nan\",\"nan\",\"nan\",\"nan\",\"nan\",\"nan\",\"nan\",\"nan\",\"nan\",\"nan\",\"nan\",\"nan\",\"nan\",\"nan\",\"nan\",\"nan\",\"nan\",\"nan\",\"nan\",\"nan\",\"nan\",\"nan\",\"nan\",\"nan\",\"nan\",\"nan\",\"nan\",\"nan\",\"nan\",\"nan\",\"nan\",\"nan\",\"nan\",\"nan\",\"nan\",\"nan\",\"nan\",\"nan\",\"nan\",\"nan\",\"nan\",\"nan\",\"nan\",\"nan\",\"nan\",\"nan\",\"nan\",\"nan\",\"nan\",\"nan\",\"nan\",\"nan\",\"nan\",\"nan\",\"nan\",\"nan\",\"nan\",\"nan\",\"nan\",\"nan\",\"nan\",\"nan\",\"nan\",\"nan\",\"nan\",\"nan\",\"nan\",\"nan\",\"nan\",\"nan\",\"nan\",\"nan\",\"nan\",\"nan\",\"nan\",\"nan\",\"nan\",\"nan\",\"nan\",\"nan\",\"nan\",\"nan\",\"nan\",\"nan\",\"nan\",\"nan\",\"nan\",\"nan\",\"nan\",\"nan\",\"nan\",\"nan\",\"nan\",\"nan\",\"nan\",\"nan\",\"nan\",\"nan\",\"nan\",\"nan\",\"nan\",\"nan\",\"nan\",\"nan\",\"nan\",\"nan\",\"nan\",\"nan\",\"nan\",\"nan\",\"nan\",\"nan\",\"nan\",\"nan\",\"nan\",\"nan\",\"nan\",\"nan\",\"nan\",\"nan\",\"nan\",\"nan\",\"nan\",\"nan\",\"nan\",\"nan\",\"nan\",\"nan\",\"nan\",\"nan\",\"nan\",\"nan\",\"nan\",\"nan\",\"nan\",\"nan\",\"nan\",\"nan\",\"nan\",\"nan\",\"nan\",\"nan\",\"nan\",\"nan\",\"nan\",\"nan\",\"nan\",\"nan\",\"nan\",\"nan\",\"nan\",\"nan\",\"nan\",\"nan\",\"nan\",\"nan\"],\"index\":[0,1,2,3,4,5,6,7,8,9,10,11,12,13,14,15,16,17,18,19,20,21,22,23,24,25,26,27,28,29,30,31,32,33,34,35,36,37,38,39,40,41,42,43,44,45,46,47,48,49,50,51,52,53,54,55,56,57,58,59,60,61,62,63,64,65,66,67,68,69,70,71,72,73,74,75,76,77,78,79,80,81,82,83,84,85,86,87,88,89,90,91,92,93,94,95,96,97,98,99,100,101,102,103,104,105,106,107,108,109,110,111,112,113,114,115,116,117,118,119,120,121,122,123,124,125,126,127,128,129,130,131,132,133,134,135,136,137,138,139,140,141,142,143,144,145,146,147,148,149,150,151,152,153,154,155,156,157,158,159,160,161,162,163,164,165,166,167,168,169,170,171,172,173,174,175,176,177,178,179,180,181,182,183,184,185,186,187,188,189,190,191,192,193,194,195,196,197,198,199,200,201,202,203,204,205,206,207,208,209,210,211,212,213,214,215,216,217,218,219,220,221,222,223,224,225,226,227,228,229,230,231,232,233,234,235,236,237,238,239,240,241,242,243,244,245,246,247,248,249,250,251,252,253,254,255,256,257,258,259,260,261,262,263,264,265,266,267,268,269,270,271,272,273,274,275,276,277,278,279,280,281,282,283,284,285,286,287,288,289,290,291,292,293,294,295,296,297,298,299,300,301,302,303,304,305,306,307,308,309,310,311,312,313,314,315,316,317,318,319,320],\"lda_topics\":[14,3,5,14,3,11,9,7,0,5,14,2,8,3,14,0,4,7,2,2,7,12,2,7,11,0,7,4,10,5,10,10,3,14,4,9,5,9,6,9,3,7,14,0,3,5,9,10,11,2,3,8,8,1,8,5,1,5,11,5,7,8,11,13,0,4,13,6,3,6,0,6,10,12,9,13,13,5,3,9,12,2,6,9,9,6,3,0,6,0,11,9,6,11,9,7,4,4,7,3,8,5,4,0,0,11,7,0,3,2,12,13,9,2,7,13,3,0,0,8,2,8,13,1,8,5,2,6,4,3,12,7,9,13,3,10,4,5,11,1,5,4,7,0,11,5,0,11,8,4,13,12,9,4,7,12,12,6,3,2,14,13,7,12,1,7,1,8,1,6,2,7,0,3,14,1,7,12,11,12,14,7,4,2,6,2,4,5,8,12,7,0,11,1,5,0,8,2,2,4,13,6,6,3,14,2,1,10,10,9,5,8,1,5,1,14,5,4,4,0,5,3,14,7,11,14,1,1,3,12,13,8,13,2,1,11,6,1,6,14,12,1,0,1,10,13,6,12,2,2,2,13,6,10,1,10,12,14,10,12,7,2,8,5,7,13,7,4,9,12,2,2,4,13,9,7,7,6,10,13,14,12,12,8,8,6,10,1,8,8,6,9,13,11,7,14,8,9,6,7,12,1,4,6,14,11,8,9,11,2,5,4,0,3,2,4,2,10,11,7,5],\"lda_x\":[-1.7966625370471403,-7.874240603252143,11.129992021945343,-1.2523515862302852,2.954803454403016,2.451669977636186,-5.770726987088533,3.3862648826855812,5.944974516841627,11.913668402801667,-2.6698105419319735,-8.733578893098171,-8.664068245916292,3.255248609437189,-1.499874163311951,7.75203866277228,2.0305002497417766,2.892355762347023,-12.437345037771442,-9.933322299008001,0.051037432398572655,-6.5959051031358005,-1.16429667375987,3.6844310649981784,5.455319819782048,5.747266986145571,3.311963505441643,1.9643830802550923,9.494145149477221,9.69218393387137,8.487332452857524,-3.506147544904769,4.245944632065306,-1.8722614704968652,2.332399509007128,-5.372866960804541,10.933810014714755,-5.906075653778674,-2.504050714993093,-5.31105028890599,3.0206017202835325,3.6176253522867827,-2.1442646040353135,7.963560713089195,3.8024236093717754,12.062139798497626,-5.591572536831981,9.460900880103141,3.226553432446545,-10.771847699136863,3.493571769390233,-7.638543301016942,-8.223711855951606,7.191276232259918,-6.855383858858836,11.283285037662594,7.488953642075683,-3.907018142594825,1.920036290816187,9.649117960754829,2.876130567907019,-6.756838877096841,-0.4708702110848465,-1.2121966413773417,7.089584629689858,1.870612443676887,-1.2218602198183086,-4.529070126831085,2.56480860618804,-4.3722472495873115,5.509029462415887,-5.115477637269855,9.299320835583487,-4.773372592291982,9.425380817485406,-5.373394117908619,-1.1409018945303304,9.72420383076695,-7.958349232703104,9.066617438236772,-5.933133977660715,-11.954236308168054,-5.039173936908565,-1.4254868215242278,-5.685830292044956,-3.314096913745668,8.611449727433307,6.7659186180957995,-4.798071368634397,6.969032667177196,3.1967037735649666,-1.288550656263317,-4.994387287337325,-5.0166656839396735,-5.81409056896764,3.9211238462057176,2.969434970316306,2.6729543548914414,-3.454039752563788,1.9351804966730848,-4.7799190310880695,11.237305649562147,1.9576376143023184,-1.6672220241115216,6.829122858354414,2.7610770553195847,3.4629472686262415,6.219578820333925,4.264884363501243,-12.180451646832903,-4.21915781835252,-1.156849124186631,-4.678787064681739,-10.140416903585757,1.3985473532657078,-1.1388759202588652,2.45675024224767,7.527759035430924,7.608482288297859,-4.211463280827389,-11.013139606350453,-4.087157697889731,4.05891829451202,8.12013824011721,-8.703177418139912,9.584197568874723,-10.594423240912631,-3.2625600146738543,1.1376071781295671,-5.019516923839606,-7.5705146993439705,2.5009826979319896,-5.848543370997816,-0.4563119955178557,2.4421176751813394,-2.7825995548816382,1.9595617372556693,10.050226969441079,2.97571065069601,8.36814736407058,10.050226969441079,0.6230702870315905,1.8441234053914026,7.573947054289873,3.12511178978049,10.715406073002178,8.09849207754443,-0.5950500002414929,-6.858347073004728,4.845187629418635,-0.883118386996356,-6.274272118630389,-5.35444610247207,-1.128714990387941,1.4050680285123274,-7.699345405833751,-6.528652417614415,-4.879364026892747,1.986123111853948,-11.109067313740539,-2.518982734470433,-2.0149193381316093,2.1708380148764226,-7.425234190992481,8.125800419517876,1.8424002235235195,7.8595774283191,-7.641140261073836,6.264220918161029,-4.901952006210556,-10.088874018937842,2.8995147507898418,6.199898029436381,4.086032186204003,-5.300001915047329,6.534456471057182,0.08566361146721387,-5.723485500726598,2.3973286880860134,-7.787691560516783,0.029605322352033985,-0.44438815699692674,0.4561593322289921,-8.578973804757098,-4.872132528249466,2.1812190816250867,-3.972763387892144,11.82531596431254,-8.336419404954558,-6.793847727848241,1.9978691312091197,7.1433151929605465,2.243881763713338,7.893212561781853,-0.6722121979288865,7.072619262246781,-8.617347592994498,-11.228195174949754,-8.87137611722316,-0.1559307606318482,3.3834955782744176,-4.179969987019016,-4.068982982023108,2.31414484073816,-8.48659247477428,-11.925335362914502,7.3456345232215385,-3.6570121909311215,9.152331571384051,0.36480906360591153,9.72420383076695,-6.833823115958507,-0.24004583791152312,10.92110394064417,7.654468650876477,-1.7697645393200359,11.25557161895547,2.9055637148432485,3.145157800316026,8.083311686472609,11.776305297154432,3.350654295197114,-1.8029490823840084,3.1614258871648384,2.726613140818031,0.42925556455979436,7.29392028278168,8.289422730302357,3.481221018987449,-5.214751037009482,-1.2141525200082985,-6.6967173013039565,-1.2227190190497328,-8.826278417267183,7.6968644466143985,2.9400668393365117,-2.3193511625302756,8.746175959280118,-4.6031826289709405,-1.440730224629739,-7.376593427990208,7.169269757985965,7.598986721038303,7.996724773156831,9.920579258709527,-0.18512904708629652,-4.353162974438188,-5.784069066695925,-11.810825142110389,-10.151949262350817,-11.648351289675285,-0.4563119955178557,-5.242422438691205,9.292844429721141,-10.356679561879034,0.5171840731191907,-7.045178091824661,0.2504975249787335,10.154379406687443,-5.954512880902637,2.7870506101599353,-11.224918951786252,-8.046716101067828,11.122164827466984,3.6516594124153916,-0.07302939471214653,1.793262192027788,1.3607000648194438,-6.410897558929853,-6.298898382359135,-8.700837949913977,-9.725466325475482,0.7844554179908778,-1.222203643935018,-5.031804056808243,1.7532080930154157,4.0241276058329785,-8.831903027126781,9.462753524128711,-0.8579404402366392,-0.054928253515813305,-7.639934369345105,-7.171636416704226,-4.174941447270368,-7.243381406303997,1.4432413891822897,8.945064433573664,5.928526448450148,-6.756571441871105,-10.20346687285871,-5.333939643577776,-5.254888915532307,-0.4563119955178557,-1.70092734505349,2.3306107638807347,-2.1094592984046665,-5.599487879920195,-5.170149658492877,-4.632427119990367,3.0441188152879204,-7.856413083304399,6.795732797565261,2.5891233140335026,-0.5985017594648077,-1.4035331855047641,1.9568709869852152,-6.615988817621509,-5.8747738659606155,2.7579306972273026,-10.39095780781929,11.94014942163117,5.35445446773409,7.164548204345333,3.803700128221819,-10.321442533275158,-0.2404624961431987,-11.373332797236628,10.151945283170607,2.7961569544942764,2.816397177896854,10.01987591936004],\"lda_y\":[12.116270603923837,-0.011675161957991448,7.124999059539314,10.171375587776932,1.2019576191357528,-13.746318395157813,-10.30623175446486,9.352868787764171,-4.386012232638076,7.026119566970499,11.16964066493935,0.5304462612655143,-6.116640353245414,1.789018140009061,11.206892004781867,-0.4163550465807049,-6.8521909409878665,8.843312403545735,-0.8895966864117609,0.5499601943582727,6.288496681979925,7.521877111930814,-6.132993224726668,9.94404682276592,-11.138279803771633,-1.6088889153799195,9.706538893452622,-6.912683358799756,1.8898691413278954,5.039246275032003,2.0675210484617916,6.018289611354051,1.3715807895762697,11.060460456948825,-5.710923262064054,-11.040329149857385,5.445240812074979,-11.313681595646825,2.772229609704279,-8.279914826044513,-0.4437422528765015,8.542287657391565,11.201675951147198,-1.8567328156264598,1.5053087531377896,7.237459536985387,-10.651169887695806,3.937935900163448,-12.64603591202956,-1.349107294375858,0.7637178452170336,-5.79884464187716,-5.909840400481055,-9.95134920645484,-6.028680780239156,6.791163261773839,-9.671335394970209,-4.781344765479507,-12.532894571910619,4.142934441061284,9.063510304122197,-5.230926018516215,8.395629996595199,-2.6913626475046204,-3.220531040262293,-7.605275300589009,-1.345671543812024,1.322796753115375,0.21707899870073855,2.9116515051504943,-3.1312672066766467,2.1188101271504642,3.300720923108612,6.538093567809658,8.05099027139345,-3.5778579025090735,-2.2718829358487977,6.10122458433734,0.040321592990886654,8.410915315036153,7.0788155590390165,1.2899214108898451,4.615518824287273,3.768621110400065,-11.580613103414825,2.6452740950239244,4.719251829755812,-3.120600819852707,3.0709428054410304,-2.286162677371049,-13.802676649084335,3.9734736285957855,2.391167661777854,-8.013107371552994,-11.596884372239609,9.51401287648144,-7.445108112852415,-6.22133586383849,7.342925629506867,1.0045510553485004,-5.109589549610529,6.383936129077979,-6.402558550525294,1.4744785345097888,-4.307355360528629,-14.280000601322335,9.180530756133702,-3.36874800025938,0.6076632791260652,-0.7223019289688217,7.14305145474674,-1.9582531879231317,-10.924343329934459,0.37205242596724936,8.682104765665246,-2.432178050884495,1.197726170098801,-3.3126727683638646,-3.5670893856135195,-4.5003233013758726,-1.478658140542463,-5.161220049242918,4.425582632663292,-10.316507838915983,-6.1450125788808325,7.992579874306998,-1.2949099491942415,2.5208238943166523,-5.065885113067296,-5.31423471980392,9.08367062371469,9.903036123320557,-10.922721222515158,2.777786471141345,1.6017526588179454,5.433585536852741,-6.403597814511404,7.582600379848636,-12.862494331412744,-7.867930764718119,7.582600379848636,-6.65167489962229,5.5169053060550075,-2.6146067254512584,-13.621670739266175,6.318528440954131,-1.6480324495322747,7.696668691936724,-5.755261104261091,-4.621487681884488,-1.5913660483057241,7.594298119068906,-9.918982455226743,-5.531602247288046,8.110756995608345,6.106356099059386,9.11221424543186,1.0625999557826675,0.4936204361583119,-0.7911842813047955,10.59501755552098,-1.1968517963472864,5.488854942699499,8.542615283509633,-10.479821979375822,8.920909341065746,-8.469782627220374,-5.820149421472443,-9.90311131921837,0.34970413733013445,-0.9180671323148779,6.779973119500378,-1.5199264307846485,0.9648940348262091,9.681405787929096,-8.722851894006176,6.4146692699275505,6.6803914840698075,-14.22245496816338,9.113404760778359,7.996084257857999,5.281969958140897,-6.576686424387207,-1.1610948587275125,0.44512053483473796,4.84590886234806,5.725588393974163,6.682438280613083,-6.405196301979846,7.903089648544248,7.510338471045902,-3.918729743681007,-13.096529254678366,-9.951537402084842,-5.402950626280939,-3.857834294440293,-6.385174678818829,0.2953992917521362,2.2137278666574924,-6.38561451557686,4.710824503533012,1.9961990152076752,2.023749151667385,-0.4850130230439913,-2.3593527404756123,-0.6537151095448275,-8.867896210337829,6.6343040862440095,1.0573328023517337,4.635446101627674,6.101224584337341,-4.583159419330662,1.3544514656015585,6.493014879609162,-7.626576556437503,9.021270797779698,6.373274214082107,-5.458837039707845,-7.415192261807122,-3.418100564570242,5.935156380507633,0.5814385845626717,12.007875535590847,9.507341079136705,-14.462938762320357,9.039762155922984,-9.091346645085965,-10.365175091872175,1.1348974772143996,8.19515000034159,-2.5909920860367843,-5.0525708922404595,-1.3460177477795536,-0.3486874720831962,-9.450398435120011,-12.733764677036357,1.2057929815879773,-8.809092849717134,2.0134012421607843,11.33045336284226,7.820714002092117,-10.249801424663126,-6.374544760450935,-9.873838777885755,1.501301610055754,0.6709695543373321,2.251067974831742,6.650149623069931,0.938557289060538,0.45712494384685187,0.7811210098076726,2.777786471141345,1.9119501928286695,1.3407915669551986,2.0958972074478703,2.7519784031966035,8.196722349518309,4.728676416454089,1.4253683727235238,7.996665141394706,6.700773287303396,-0.3790729655434292,-6.113238862616415,5.833797604623986,7.568726556503382,0.2799087220609722,6.9218337553648865,-6.638080387796232,-10.506842180590604,8.646135710008101,0.36524537241662436,1.8096125163020096,-5.8446981182192905,-0.16321544270134766,-9.427943030463243,8.85761329241817,8.927972071905993,2.2691224313023,1.682622896347469,-0.8022311608888476,6.381151582169538,7.30947855785901,7.936494077177784,-4.774098651757376,-4.391478412877425,1.7635632633073537,2.22845515838168,-10.596569496986596,-5.22850072773792,-2.0047231186596846,2.7580876333864826,-8.563574128714636,2.777786471141345,8.908026168229146,7.77907098356449,10.676064270001909,-3.9046294147558522,-11.06042993952939,2.5977456028794434,6.733273985357256,8.814083289070002,-7.119852806180698,-5.917208382805652,5.207557321703389,10.58798719178938,-12.378410500374667,-6.819350196527581,-11.10232509426178,-14.078197933371207,-0.024550892125661666,5.824555008653372,-8.304153928476216,-2.7370497544336034,1.2930772700377928,1.8543500776940218,-6.603981788854059,-0.3574432719306853,1.4863111989033353,-13.788560415831215,7.95764003886334,4.737997107960688],\"line_color\":[\"#cb4053\",\"#c3e14c\",\"#68af4e\",\"#cb4053\",\"#c3e14c\",\"#3f6d31\",\"#5fdfa8\",\"#e3be38\",\"#6d8dca\",\"#68af4e\",\"#cb4053\",\"#723bca\",\"#4e2d7c\",\"#c3e14c\",\"#cb4053\",\"#6d8dca\",\"#c84dc9\",\"#e3be38\",\"#723bca\",\"#723bca\",\"#e3be38\",\"#d44427\",\"#723bca\",\"#e3be38\",\"#3f6d31\",\"#6d8dca\",\"#e3be38\",\"#c84dc9\",\"#d34690\",\"#68af4e\",\"#d34690\",\"#d34690\",\"#c3e14c\",\"#cb4053\",\"#c84dc9\",\"#5fdfa8\",\"#68af4e\",\"#5fdfa8\",\"#6e6cd5\",\"#5fdfa8\",\"#c3e14c\",\"#e3be38\",\"#cb4053\",\"#6d8dca\",\"#c3e14c\",\"#68af4e\",\"#5fdfa8\",\"#d34690\",\"#3f6d31\",\"#723bca\",\"#c3e14c\",\"#4e2d7c\",\"#4e2d7c\",\"#69de53\",\"#4e2d7c\",\"#68af4e\",\"#69de53\",\"#68af4e\",\"#3f6d31\",\"#68af4e\",\"#e3be38\",\"#4e2d7c\",\"#3f6d31\",\"#7fcdd8\",\"#6d8dca\",\"#c84dc9\",\"#7fcdd8\",\"#6e6cd5\",\"#c3e14c\",\"#6e6cd5\",\"#6d8dca\",\"#6e6cd5\",\"#d34690\",\"#d44427\",\"#5fdfa8\",\"#7fcdd8\",\"#7fcdd8\",\"#68af4e\",\"#c3e14c\",\"#5fdfa8\",\"#d44427\",\"#723bca\",\"#6e6cd5\",\"#5fdfa8\",\"#5fdfa8\",\"#6e6cd5\",\"#c3e14c\",\"#6d8dca\",\"#6e6cd5\",\"#6d8dca\",\"#3f6d31\",\"#5fdfa8\",\"#6e6cd5\",\"#3f6d31\",\"#5fdfa8\",\"#e3be38\",\"#c84dc9\",\"#c84dc9\",\"#e3be38\",\"#c3e14c\",\"#4e2d7c\",\"#68af4e\",\"#c84dc9\",\"#6d8dca\",\"#6d8dca\",\"#3f6d31\",\"#e3be38\",\"#6d8dca\",\"#c3e14c\",\"#723bca\",\"#d44427\",\"#7fcdd8\",\"#5fdfa8\",\"#723bca\",\"#e3be38\",\"#7fcdd8\",\"#c3e14c\",\"#6d8dca\",\"#6d8dca\",\"#4e2d7c\",\"#723bca\",\"#4e2d7c\",\"#7fcdd8\",\"#69de53\",\"#4e2d7c\",\"#68af4e\",\"#723bca\",\"#6e6cd5\",\"#c84dc9\",\"#c3e14c\",\"#d44427\",\"#e3be38\",\"#5fdfa8\",\"#7fcdd8\",\"#c3e14c\",\"#d34690\",\"#c84dc9\",\"#68af4e\",\"#3f6d31\",\"#69de53\",\"#68af4e\",\"#c84dc9\",\"#e3be38\",\"#6d8dca\",\"#3f6d31\",\"#68af4e\",\"#6d8dca\",\"#3f6d31\",\"#4e2d7c\",\"#c84dc9\",\"#7fcdd8\",\"#d44427\",\"#5fdfa8\",\"#c84dc9\",\"#e3be38\",\"#d44427\",\"#d44427\",\"#6e6cd5\",\"#c3e14c\",\"#723bca\",\"#cb4053\",\"#7fcdd8\",\"#e3be38\",\"#d44427\",\"#69de53\",\"#e3be38\",\"#69de53\",\"#4e2d7c\",\"#69de53\",\"#6e6cd5\",\"#723bca\",\"#e3be38\",\"#6d8dca\",\"#c3e14c\",\"#cb4053\",\"#69de53\",\"#e3be38\",\"#d44427\",\"#3f6d31\",\"#d44427\",\"#cb4053\",\"#e3be38\",\"#c84dc9\",\"#723bca\",\"#6e6cd5\",\"#723bca\",\"#c84dc9\",\"#68af4e\",\"#4e2d7c\",\"#d44427\",\"#e3be38\",\"#6d8dca\",\"#3f6d31\",\"#69de53\",\"#68af4e\",\"#6d8dca\",\"#4e2d7c\",\"#723bca\",\"#723bca\",\"#c84dc9\",\"#7fcdd8\",\"#6e6cd5\",\"#6e6cd5\",\"#c3e14c\",\"#cb4053\",\"#723bca\",\"#69de53\",\"#d34690\",\"#d34690\",\"#5fdfa8\",\"#68af4e\",\"#4e2d7c\",\"#69de53\",\"#68af4e\",\"#69de53\",\"#cb4053\",\"#68af4e\",\"#c84dc9\",\"#c84dc9\",\"#6d8dca\",\"#68af4e\",\"#c3e14c\",\"#cb4053\",\"#e3be38\",\"#3f6d31\",\"#cb4053\",\"#69de53\",\"#69de53\",\"#c3e14c\",\"#d44427\",\"#7fcdd8\",\"#4e2d7c\",\"#7fcdd8\",\"#723bca\",\"#69de53\",\"#3f6d31\",\"#6e6cd5\",\"#69de53\",\"#6e6cd5\",\"#cb4053\",\"#d44427\",\"#69de53\",\"#6d8dca\",\"#69de53\",\"#d34690\",\"#7fcdd8\",\"#6e6cd5\",\"#d44427\",\"#723bca\",\"#723bca\",\"#723bca\",\"#7fcdd8\",\"#6e6cd5\",\"#d34690\",\"#69de53\",\"#d34690\",\"#d44427\",\"#cb4053\",\"#d34690\",\"#d44427\",\"#e3be38\",\"#723bca\",\"#4e2d7c\",\"#68af4e\",\"#e3be38\",\"#7fcdd8\",\"#e3be38\",\"#c84dc9\",\"#5fdfa8\",\"#d44427\",\"#723bca\",\"#723bca\",\"#c84dc9\",\"#7fcdd8\",\"#5fdfa8\",\"#e3be38\",\"#e3be38\",\"#6e6cd5\",\"#d34690\",\"#7fcdd8\",\"#cb4053\",\"#d44427\",\"#d44427\",\"#4e2d7c\",\"#4e2d7c\",\"#6e6cd5\",\"#d34690\",\"#69de53\",\"#4e2d7c\",\"#4e2d7c\",\"#6e6cd5\",\"#5fdfa8\",\"#7fcdd8\",\"#3f6d31\",\"#e3be38\",\"#cb4053\",\"#4e2d7c\",\"#5fdfa8\",\"#6e6cd5\",\"#e3be38\",\"#d44427\",\"#69de53\",\"#c84dc9\",\"#6e6cd5\",\"#cb4053\",\"#3f6d31\",\"#4e2d7c\",\"#5fdfa8\",\"#3f6d31\",\"#723bca\",\"#68af4e\",\"#c84dc9\",\"#6d8dca\",\"#c3e14c\",\"#723bca\",\"#c84dc9\",\"#723bca\",\"#d34690\",\"#3f6d31\",\"#e3be38\",\"#68af4e\"],\"tags\":[\"Industries: Education Tech, Enterprise Application\",\"Industries: Education Tech, Crowdfunding\",\"Industries: Education Tech, Adaptive Learning\",\"Industries: Education Tech, Educational Games\",\"Industries: Education Tech, Tutor Services\",\"Industries: Education Tech, Learning Management\",\"Industries: Education Tech, Study Tools\",\"Industries: Education Tech, Language Learning\",\"Industries: Education Tech, Education Tech, Adaptive Learning\",\"Industries: Education Tech, Reviews & Recommendations\",\"Industries: Education Tech\",\"Industries: Education Tech, Adaptive Learning\",\"Industries: Education Tech, Marketplaces\",\"Industries: Education Tech, Search\",\"Industries: Education Tech\",\"Industries: Education Tech, Fitness\",\"Industries: Communities, Education Tech\",\"Industries: Education Tech, Tutor Services\",\"Industries: Education Tech, Learning Management\",\"Industries: Education Tech, Administration Tools\",\"Industries: Education Tech, Language Learning\",\"Industries: Education Tech, SaaS\",\"Industries: Education Tech, Tutor Services\",\"Industries: Education Tech, Tech Learning\",\"Industries: Education Tech, Language Learning\",\"Industries: Education Tech\",\"Industries: Education Tech, Personal Finance\",\"Industries: Education Tech, Learning Management\",\"Industries: Education Tech, Educational Games\",\"Industries: Education Tech, Search\",\"Industries: Education Tech, K-12 Education\",\"Industries: Education Tech\",\"Industries: Education Tech\",\"Industries: Collaboration, Education Tech\",\"Industries: Education Tech, Social Media Marketing\",\"Industries: Internet Technology, Education Tech\",\"Industries: Social Networking, Education Tech\",\"Industries: Education Tech\",\"Industries: Education Tech\",\"Industries: Non Profit, Education Tech\",\"Industries: Education Tech, Social Networking\",\"Industries: Education Tech\",\"Industries: Education Tech\",\"Industries: Education Tech, K-12 Education\",\"Industries: Education Tech\",\"Industries: Education Tech\",\"Industries: Education Tech\",\"Industries: Education Tech\",\"Industries: Lifestyle Businesses, Education Tech\",\"Industries: Education Tech\",\"Industries: Education Tech, SaaS\",\"Industries: Education Tech\",\"Industries: Education Tech\",\"Industries: Education Tech, Communities\",\"Industries: Education Tech\",\"Industries: Education Tech\",\"Industries: Education Tech, K-12 Education\",\"Industries: Education Tech\",\"Industries: Education Tech, Tech Learning\",\"Industries: Education Tech, Retail\",\"Industries: Education Tech\",\"Industries: Education Tech, Casual Games\",\"Industries: Education Tech\",\"Industries: Education Tech, Software\",\"Industries: Education Tech, Social Networking\",\"Industries: Education Tech, Marketplaces\",\"Industries: Services, Education Tech\",\"Industries: Education Tech\",\"Industries: Education Tech\",\"Industries: Education Tech\",\"Industries: Education Tech, Educational Games\",\"Industries: Education Tech\",\"Industries: Education Tech, Portals\",\"Industries: Education Tech, Services\",\"Industries: Education Tech\",\"Industries: Education Tech\",\"Industries: Services, Education Tech\",\"Industries: Education Tech, Digital Media\",\"Industries: Education Tech, E-Books\",\"Industries: Services, Education Tech\",\"Industries: Education Tech, Big Data\",\"Industries: Education Tech, Software\",\"Industries: Education Tech, Marketplaces\",\"Industries: Education Tech, E-Books\",\"Industries: Education Tech\",\"Industries: Education Tech\",\"Industries: Education Tech\",\"Industries: Education Tech, Peer Economy\",\"Industries: Web Development, Education Tech\",\"Industries: Education Tech\",\"Industries: Education Tech, Social Media Platforms\",\"Industries: Education Tech\",\"Industries: Education Tech\",\"Industries: Education Tech\",\"Industries: Education Tech, Professional Networking\",\"Industries: Web, Education Tech\",\"Industries: Education Tech, Social Games\",\"Industries: Education Tech, Portals\",\"Industries: Education Tech\",\"Industries: Services, Education Tech\",\"Industries: Education Tech, Marketplaces\",\"Industries: Education Tech\",\"Industries: Education Tech\",\"Industries: Education Tech, Crowdfunding\",\"Industries: Humanitarian, Education Tech\",\"Industries: Education Tech\",\"Industries: Education Tech\",\"Industries: Web Development, Education Tech\",\"Industries: Brand Marketing, Education Tech\",\"Industries: Education Tech\",\"Industries: Education Tech, Crowdfunding\",\"Industries: K-12 Education, Education Tech\",\"Industries: Education Tech, Marketplaces\",\"Industries: Education Tech, Social Networking\",\"Industries: Education Tech\",\"Industries: Education Tech\",\"Industries: Education Tech\",\"Industries: Education Tech\",\"Industries: Education Tech\",\"Industries: Education Tech\",\"Industries: Education Tech, Portals\",\"Industries: Education Tech, Consumers\",\"Industries: Services, Education Tech\",\"Industries: Education Tech\",\"Industries: Education Tech\",\"Industries: Education Tech\",\"Industries: Services, Education Tech\",\"Industries: Education Tech\",\"Industries: Education Tech\",\"Industries: Education Tech\",\"Industries: Education Tech\",\"Industries: Education Tech, Gamification\",\"Industries: Education Tech, Development Platforms\",\"Industries: Education Tech\",\"Industries: Education Tech\",\"Industries: Education Tech\",\"Industries: Education Tech\",\"Industries: Education Tech, E-Commerce Platforms\",\"Industries: Digital Media, Education Tech\",\"Industries: Education Tech, Social Networking\",\"Industries: Education Tech, Portals\",\"Industries: Internet Marketing, Education Tech\",\"Industries: Education Tech\",\"Industries: Education Tech\",\"Industries: Education Tech, Social Media\",\"Industries: Education Tech, Portals\",\"Industries: Education Tech\",\"Industries: Education Tech, Games\",\"Industries: Services, Education Tech\",\"Industries: Education Tech\",\"Industries: Education Tech\",\"Industries: Education Tech\",\"Industries: Services, Education Tech\",\"Industries: Advertising, Education Tech\",\"Industries: Education Tech, K-12 Education\",\"Industries: Education Tech\",\"Industries: Education Tech, Educational Games\",\"Industries: Education Tech, Subscription Commerce\",\"Industries: Education Tech\",\"Industries: Education Tech\",\"Industries: Education Tech, Communities\",\"Industries: Services, Education Tech\",\"Industries: Education Tech\",\"Industries: Education Tech\",\"Industries: Education Tech\",\"Industries: Education Tech, Developer Tools\",\"Industries: Education Tech, Developer Tools\",\"Industries: Education Tech\",\"Industries: Education Tech\",\"Industries: Internet Marketing, Education Tech\",\"Industries: Education Tech\",\"Industries: Education Tech, Digital Media\",\"Industries: Education Tech, E-Commerce Platforms\",\"Industries: Education Tech, Social Networking\",\"Industries: Education Tech\",\"Industries: Education Tech\",\"Industries: Education Tech, K-12 Education\",\"Industries: Services, Education Tech\",\"Industries: Software, Education Tech\",\"Industries: Education Tech\",\"Industries: Learning Management, Education Tech\",\"Industries: Education Tech, Communities\",\"Industries: Education Tech, Software\",\"Industries: Education Tech, Social Media\",\"Industries: Education Tech\",\"Industries: Education Tech\",\"Industries: Education Tech\",\"Industries: Comparison, Education Tech\",\"Industries: Educational Games, Education Tech\",\"Industries: K-12 Education, Education Tech\",\"Industries: Education Tech\",\"Industries: Education Tech\",\"Industries: Education Tech\",\"Industries: Education Tech, Big Data\",\"Industries: Education Tech, Marketplaces\",\"Industries: Web Development, Education Tech\",\"Industries: Education Tech\",\"Industries: Education Tech\",\"Industries: Education Tech, SaaS\",\"Industries: Education Tech\",\"Industries: Education Tech\",\"Industries: Designers, Education Tech\",\"Industries: Services, Education Tech\",\"Industries: Education Tech\",\"Industries: Education Tech\",\"Industries: Education Tech\",\"Industries: Education Tech, Social Media Platforms\",\"Industries: Education Tech\",\"Industries: Education Tech, Audiobooks\",\"Industries: Lifestyle Businesses, Education Tech\",\"Industries: Education Tech\",\"Industries: Education Tech, Environmental Innovation\",\"Industries: Education Tech, E-Books\",\"Industries: E-Commerce Platforms, Education Tech\",\"Industries: Education Tech\",\"Industries: Education Tech\",\"Industries: Education Tech, News\",\"Industries: Education Tech, SaaS\",\"Industries: Education Tech\",\"Industries: Education Tech\",\"Industries: Education Tech\",\"Industries: Education Tech\",\"Industries: Education Tech\",\"Industries: Education Tech\",\"Industries: Software, Education Tech\",\"Industries: Education Tech\",\"Industries: Education Tech\",\"Industries: Education Tech\",\"Industries: Education Tech\",\"Industries: Education Tech\",\"Industries: Education Tech\",\"Industries: Education Tech\",\"Industries: Education Tech\",\"Industries: Education Tech, Productivity Software\",\"Industries: Education Tech\",\"Industries: Education Tech\",\"Industries: Education Tech, Portals\",\"Industries: Services, Education Tech\",\"Industries: Education Tech, Marketplaces\",\"Industries: Education Tech\",\"Industries: Education Tech\",\"Industries: Education Tech, Social Media\",\"Industries: Web Development, Education Tech\",\"Industries: Education Tech, 3D\",\"Industries: Education Tech\",\"Industries: Education Tech, Enterprise Application\",\"Industries: Education Tech, SaaS\",\"Industries: Education Tech\",\"Industries: Education Tech\",\"Industries: Education Tech, Finance Technology\",\"Industries: Education Tech\",\"Industries: SaaS, Education Tech\",\"Industries: Education Tech\",\"Industries: Social Media Monitoring, Education Tech\",\"Industries: Education Tech\",\"Industries: Education Tech, Mobile Commerce\",\"Industries: Education Tech\",\"Industries: Services, Education Tech\",\"Industries: Education Tech, Travel & Tourism\",\"Industries: Education Tech\",\"Industries: Education Tech\",\"Industries: Education Tech, Predictive Analytics\",\"Industries: Education Tech\",\"Industries: Web, Education Tech\",\"Industries: Education Tech\",\"Industries: Education Tech\",\"Industries: Education Tech\",\"Industries: 3D Technology, Education Tech\",\"Industries: Education Tech\",\"Industries: Services, Education Tech\",\"Industries: Reviews & Recommendations, Education Tech\",\"Industries: Education Tech, E-Commerce Platforms\",\"Industries: Human Resource, Education Tech\",\"Industries: Education Tech\",\"Industries: Education Tech, Creative\",\"Industries: Education Tech, K-12 Education\",\"Industries: Education Tech, K-12 Education\",\"Industries: Education Tech\",\"Industries: Life Sciences, Education Tech\",\"Industries: Education Tech, Health Care\",\"Industries: Education Tech\",\"Industries: Curated Web, Education Tech\",\"Industries: Next Gen School, Education Tech\",\"Industries: Education Tech, Portals\",\"Industries: Education Tech\",\"Industries: Education Tech, Marketplaces\",\"Industries: Internet Technology, Education Tech\",\"Industries: Education Tech, E-Books\",\"Industries: Education Tech\",\"Industries: Education Tech\",\"Industries: Personal Finance, Education Tech\",\"Industries: Education Tech\",\"Industries: Education Tech\",\"Industries: Education Tech\",\"Industries: Education Tech\",\"Industries: Education Tech, E-Books\",\"Industries: Education Tech\",\"Industries: Local Search, Education Tech, Classifieds, Portals\",\"Industries: SaaS, Education Tech\",\"Industries: Education Tech\",\"Industries: Artificial Intelligence, Education Tech\",\"Industries: Education Tech\",\"Industries: Education Tech\",\"Industries: IT & Cybersecurity, Education Tech\",\"Industries: Education Tech\",\"Industries: Education Tech\",\"Industries: Education Tech\",\"Industries: Education Tech, Personal Finance\",\"Industries: Social Networking, Education Tech\",\"Industries: Social Media Platforms, Education Tech\",\"Industries: Education Tech, Portals\",\"Industries: Education Tech, Human Resource\",\"Industries: Education Tech, K-12 Education\",\"Industries: Education Tech, Communities\",\"Industries: Education Tech\",\"Industries: Education Tech, K-12 Education\",\"Industries: Education Tech\",\"Industries: Education Tech\",\"Industries: Education Tech\",\"Industries: Education Tech\",\"Industries: Education Tech\"]}},\"id\":\"1823bd40-d95d-4775-bd03-699e5ddf3a0f\",\"type\":\"ColumnDataSource\"},{\"attributes\":{\"callback\":null,\"column_names\":[\"index\",\"funding\",\"tags\",\"lda_y\",\"lda_x\",\"company\",\"lda_topics\",\"descriptions\",\"cleaned\",\"line_color\",\"fill_color\"],\"data\":{\"cleaned\":[\"Gnowbe is a disruptive mobile learning solution delivering bitesized multimedia content to the smartphone\",\"DANAdidik is a PeertoPeer Lending P2PL for the micro student loan in Indonesia Anyone can now fund a student in Indonesia get a return while helping them\",\"HarukaEdu is education portal where users can participate in variety of formal and informal education online such as online classes online courses and online certifications\",\"Nhance is a mobile learning platform which transforms learning content into games and delivers interactive bite\\u00ad\\u2010sized experiences to users\\u2019 on their smartphones\",\"Tueetor is a free online marketplace that connects learners and trainers\",\"Teamie is a cloudbased social learning platform that drives collaboration enhances educator productivity and institution performance\",\"Kynavn is a marketplace for graduates and professionals to deliver courses in various skills and test preparations\",\"Squline is an online learning platform that connects students with professional native teachers to learn new languages\",\"NEXT Academy has helped many entrepreneurs coders marketers designers pursue their ambitions by empowering them with the skills knowledge and network\",\"EduAdvisor is an education course comparison portal in Malaysia\",\"Wizlearn is an elearning company that provides web based elearning solutions content and services\",\"Classruumcom is an innovative elearning solution currently being introduced in schools and higher institutions in Malaysia\",\"Learnly is a community marketplace for students and tutors to connect Be it private tuition group tuition music lessons and more tutors are a few taps away on the Learnly app\",\"ScholarDeck is Malaysias onestop scholarships platform\",\"A learning application teaching consumers to code and build software\",\"My Aone Learning is an online marketplace for local classes in Malaysia and Singapore\",\"Studentpreneur is a platform where people can learn about entrepreneurship\",\"Epigami is an online platform for learning\",\"RyMM Education is an edtech company focusing on relationships between parent teacher and fellow parents\",\"Cialfo offers an innovative SaaS platform available on web and mobile for independent college counsellors private organizations and high schools to streamline their overseas college application process It increases the effectiveness by enabling efficient task management managing communications with their students and parents and an automated proprietary college shortlisting algorithm\",\"We bring the first live learning platform to Vietnam We currently offer English language programs to K12 students adult learners and corporate staff across Vietnam\",\"With LittleLives helps preschools run more efficiently in a paperless way\",\"Ruangguru is a website that connects prospective students to find the right teacher candidates to add to the lessons outside of school or college or develop specific skills\",\"Codetoki is a gamified online learning platform for Computer Science IT and Computer Engineering students to learn coding through challenges\",\"Duable Chinese is an app that analyzes the users Chinese comprehension level and links them to articles that match their reading level\",\"Street Smart University SSU is the world\\u2019s first mobile platform to make world class personal development content affordable accessible and convenient for the masses to learn from\",\"PlayMoolah is a fun online platform for kids aged 6 to 12 to save manage and earn an allowance\",\"Kart is a mobile development company that produce new platform of education that helps parents teach their kids using combination of digital and physical engagement activity\",\"Wildby helps parents and children to answer those endless why why questions anywhere anytime\",\"EasyUnicom is Asias leading online destination for finding your dream university or college\",\"XSEED is a comprehensive academic solution for schools that is designed to raise the level of learning in classrooms and build confidence in children\",\"Veev is an education technology company which partners with students educators administrators and other professionals around the world to deliver engaging and customised learning solutions\",\"eduPOW is a online publishing platform that empowers everyone everywhere to learn what they love\",\"DocuBuzz develops collaboration solutions that leverage emerging mobile and cloud computing technologies\",\"Prepare the better luggage for life with many skills tips and physical consultancy\",\"iTrain Asia is a Mobile Development Training Certification Body that provides iOS Android and HTML5 certifications course materials and also trainings via our channel partners\",\"A social media and information portal for education industry that lets members connect to each other universities schools and other education related services around the world directly\",\"At Coding Shophouse we offer affordable read heavilysubsidised courses in practical handson coding and to ensure you have the necessary skills to pursue that alternate career path\",\"Quors\\u00e9 is an online training marketplace that connects individuals and businesses with experienced trainers and training providers\",\"Thu Quan Doanh Nhan is a nonprofit organization that provides future business leaders with a venue for reading study groups training of presentation skills teamwork business acumen and leadership through interaction\",\"Eduu community connect directly learners to suitable education opportunity centers  teachers\",\"forEdu is an adaptive and collaborative learning platform designed to motivate students and helps education centre manage paperwork effortlessly\",\"Kila is an educational mobile application about interactive storybooks for kids that runs on various kinds of mobile devices\",\"Classmoe is a video marketplace that provide long distance tutoring in tech education and k12 education\",\"iScholar was founded as a onestop online scholarship application platform that makes scholarship accessible to all students At iScholar we help to facilitate the communication matching and awarding of scholarship programmes between deserving students and sponsors ie corporations foundations institutions and individuals\",\"Connecting educations to people Providing formal education School  university informations to public and Admission system that help formal educations in Indonesia go online online applications system education profiles news reviews\",\"BUILDING STAFF TRAINING EDUCATION ENROLLMENT AND LABOR EXPORT\",\"Education online for elementary school children \",\"it is a website sharing tech  education  lifestyle info\",\"SmileTutor is the leading home tuition agency for parents and students looking for home tutors\",\"The cloud platform for your academic life\",\"Stem is a Community Education website in Vietnam\",\"Yodaa brings parents word of mouth online Find an experienced tutor in Singapore easily and reliably\",\"Ham hoc is learning community to connect young generations to knowledge fastest\",\"USpell is a smartphone application that helps you study practice and test your English pronouncing skill easily\",\"TheRightU is an online university admissions and higher education consultancy\",\"A company that is advocating flip and authentic learning for young and young at heart To achieve this we are creating 2 apps called lets flip and go score We are also building an online campus called score campus\",\"Smoocer is a mobile app that enhances your elearning by placing you in a small study group with people taking the same online course as you\",\"Here in GREDU we believe we can use technology to improve the educational environment to create a better future\",\"Askarasoft starts as a solution for education market We help non formal education to manage administration tasks such as scheduling finance class management and academic report using AskaraEdu Student Information System We have helped thousand of parents to view their children progress and activity during their study using Askaraedu\",\"Mejakita is a nonprofit organization that runs a free online educational platform for Indonesian students nationwide\",\"Educa Studio  Free Education Games  High Quality Casual Games\",\"Coursepad is a mobile learning platform that allows organisations to rapidly deploy social learning apps\",\"TheAnh Group l\\u00e0 m\\u1ed9t agency n\\u0103ng \\u0111\\u1ed9ng tr\\u1ebb trungCh\\u00fang t\\u00f4i th\\u00e0nh l\\u1eadp v\\u00e0o gi\\u1eefa n\\u0103m 2010 v\\u1edbi \\u0111\\u1ed9i ng\\u0169 nh\\u1eefng chuy\\u00ean vi\\u00ean \\u0111\\u1ea7y nhi\\u1ec7t huy\\u1ebft  c\\u00f3 ki\\u1ebfn th\\u1ee9c chuy\\u00ean m\\u00f4n v\\u00e0 kinh nghi\\u1ec7m chuy\\u00ean s\\u00e2u trong l\\u0129nh v\\u1ef1c thi\\u1ebft k\\u1ebf web ti\\u1ebfp th\\u1ecb v\\u00e0 qu\\u1ea3ng c\\u00e1o tr\\u1ef1c tuy\\u1ebfn\",\"Zcholar is an academic social network providing a community for scholars students and researchers from all around the world\",\"In Session seeks to encourage working adults to discover learn and pursue skills passions and interests outside of the 95 by offering a variety of choices at a low initial commitment\",\"Japanese Center\",\"Cozora is website to help individual speakers and organizations to host live cast\",\"Aladavn is a online education platform in Vietnam\",\"OMT is a dedicated Vietnamese elearning provider established on the basis of multiyear experience in management training and consulting of the Organizational Capacity Development Company OCD\",\"Codomo is an edtech startup that aims to nurture creativity through empathy technology and design We achieve this by conducting realworld oriented design and tech workshops for kids aged 4  18\",\"IndonesiaX offers free Massive Open Online Course MOOC from the best national university and company\",\"Eductory is a website to help parents to find an education including school extracurricular courses or private tutor for their children\",\"Youthmanual is a platform for university preparation and datadriven online career which is supported by People Science \\u00a9 technology to help students to plan and prepare their future\",\"A1 MYOB Courses Singapore offers training courses in Singapore\",\"RekanSejawatcom provides online tryout test\",\"Specializing in the field of consultancy and training Japanese\",\"Jogja Student is a education portal website in Yogyakarta\",\"The largest teacher community in Viet Nam\",\"SIES specializes in providing online training courses short and medium term in the areas of  information technology  Sell Marketing online  HR profession  Soft skills \",\"Grdient combines big data and technology to teach futureready skills and help people get jobs in startups\",\"Tinkertanker is a technology and education company by teachers who enjoy coding and coders who enjoy teaching We run Tinkercademy where we teach coding and electronics to students of all ages GuestDay an iPadbased guest registration service and various smaller tech projects Wait describe the company in one sentence Why did you give us so many characters to use then\",\"AllinOne marketplace for Language Learners\",\"Management Consulting Prep MCP is a global career prep platform with primary services of teaching students and experienced professionals to land a job in management consulting firms ie McKinsey BCG Bain etc\",\"Multiply is affordable short term 5 days or less classroom based courses to learn code from professional coders\",\"Digital Learning Hub \\u2013 the pioneer of onestop integrated learning solution\",\"Studentbook is an Internetbased digital platform that integrates various functions of education and learning to school digital Studentbook integrate academic information systems academic social networking and elearning in a single integrated system\",\"Creatella is an ambitious energetic startup aiming to penetrate untapped P2P marketplaces and make the world more open Started in Singapore with European roots and remote collaborators from 15 countries this highly international company aims to become a top tech startup in bustling South East Asia\",\"Valutac is a Enterpise consultant and fullservice MOOC solutions provider including planning implementation hosting theming support training and custom development including integration with existing efforts\",\"DreamBender is a social venture that creates an open sign language dictionary and learning application that provides interactive realtime sign language learning using Xbox Kinect as a motion sensor\",\"Utak atik otak is an Indonesian educative social media packaged in quiz form to enhance memory and knowledge of the users\",\"Syseneg Academy is in the business of providing certification program in the specialised field of project management and related discipline\",\"Study Hard Play Hard SHPH is a program empowering underprivileged youths through subsidized education and skills training\",\"Sekolah Pintar is providing students to improve their ability about online business and how it works\",\"BestTop Career Consulting is a marketplace that connects job seekers with working professionals to provide customized career advice resume critique interview prep and more\",\"Nativfy helps language learners perfect their language by connecting them to native speakers anytime anywhere\",\"Tomonno is an effective and efficient tools to monitor students\\u2019 daily activities\",\"Portal for talent of children tips and guidances for talent development coverage of childrens talent activities profiles of children and people who success because of their talent\",\"Prot\\u00e9g\\u00e9 is a learning platform that aims to connect aspiring learners with inspiring teachers while delivering unique workshops that cater to the goals and objectives of both individuals and companies\",\"Atiral is a Social Networking Collaborative Learning Platform to provide SMART  Sharing Multidisciplinary Autonomous Reflective and Technologyenabled learning experience and universal access to highquality learning opportunity to everyone\",\"Learnemy is an online marketplace where you can take private and group classes from people in your community\",\"All information about Education\",\"Learning English is simple in everywhere\",\"A list of promising Vietnamese startups\",\"KelasKita is startup company in Social Learning we create feature for public to easy learn collaboration and make social for learning you can create class private or public class create quiz test and collaboration in class\",\"Nurturing the Next Generation of Leaders in Technology Experience the Coding Lab Difference with our AwardWinning MITInspired Curriculum For Ages 416\",\"Empirico Labs is a Learning and Development Enterprise with the vision of revolutionizing the learning space\",\"NextIn Indonesia is a startup IT company with a mission to solve social issues and to accelerate all of education aspects around the world\",\"BRANDKER  Global Entrepreneurs Community BRANDKER is the first digital platform in the world which provides Business Network Connector Business Coaching Educator and a Platform to cultivate and invest in new startups business ideas by entrepreneurs from all regions Incubator We are currently based in Malaysia Singapore and China Be part of our global community BeBRANDKER\",\"StudentConnect is a service for prospective students to find and engage actual students at schools they want to get to know better before applying\",\"100 Project is a crowdfunding platform for classrooms in need We empower teachers to provide the best learning experience for their kids\",\"At Tinkercademy we teach coding electronics making messmaking and more\",\"excellenceasia is a smarter way to find training for every business Our mission is to help corporates and individuals improving their competencies by helping them to choose the right training courses and provide tools for enhancing learning experience\",\"Social Application for College We connecting Students and Lecture from the other College in one Application\",\"Speaqus is a platform that helps you find the most appropriate speakers in Indonesia\",\"Making Sense is an award winning chemistry tution centre in Singapore\",\"Tanpabatas provides online personal coaching program that assists anyone who are overwhelmed with life distraction to increase productivity  bring fulfillment\",\"Tlunjuk is an education tech startup that provides an open class module for students\",\"Kezaar is a social marketplace for classes and workshops in Singapore\",\"Akira Education is a website providing Japanese and English online course\",\"GURUKAMPUScom is an innovative website which connects college students who are interested to become a mentor for student who are looking for a private teacher\",\"Hocmaivn is Vietnam\\u2019s leading education portal with free and premium lessons study guides information on universities and admission exams etc\",\"Consultancy study Japanese Center\",\"Lingkaran is educational community for creatives and providing a new culture of creative and entrepreneurial education\",\"Antoree is a supportive community of English learners and English tutors helping each other through English lessons conducted online or offline\",\"We provide an online education platform caters for adult learners focusing on personal development and business career advancement for SEA market\",\"Classtree is all you need for parent teacher communication\",\"QJournal supports academic transaction in Indonesia by providing global coverage for national journals to international index nd high quality international papers to national universities\",\"KiddyPass is a dedicated marketplace to discover skill learning for kids\",\"GiapSchool is the first online education website in Vietnam MOOC that allows everyone to learn independently and creatively\",\"CognaLearn is an education company devoted to applying cognitive science to help people learn better and faster\",\"Sinaule is a gamified elearning website to keep learning fun\",\"LIPROF LEADING INSTITUTE FOR PROFESSIONALS is a learning platform for professional certifications specialized in PMI certifications\",\"Simply Future eLearning\",\"Integra eTraining is the first online training elearning provider in Indonesia\",\"Create Lab works with educators from Oxford MIT  Singapore\\u2019s top universities to inspire children to create with technology and prepare them to become 21st Century Leaders\",\"Under development\",\"Pedia is an online training system in Vietnam\",\"Gavetionscom is a digital media which contain latest technology gadgets guides and games reviews\",\"Study in Jogja is a community and media for young people which focuses on giving education and lifestyle information of young peope in Indonesia\",\"IamThirstycomsg is Singapores largest portal for training courses\",\"Growth Hacking Asia is a service training and consulting company that helps Asian startups grow into success stories by executing growth hacking activities for them equipping them with growth hacking skills and connecting them with mentors\",\"Gnowledge is a freetouse education platform that benefits educators students and parents\",\"A Vietnam\\u2019s leading source of scholarships information with varied levels different disciplines in many developed countries in the world\",\"Bahasocom is a platform and social media to learn foreign languages online and interactively\",\"Univariety is the largest and fastest growing company in India which sets up outplacement systems in high schools\",\"Schoolbus supplies massive open online courses 20\",\"Egame provide educational services online game in Vietnam\",\"Schoola is a website that wants to connect psychology with technology\",\"Telebort is an edutech startup founded in Universiti Sains Malaysia\",\"Training Japanese Japanese Study Trade Promotion Bien  Interpretation\",\"Reactor is a Education Technology in Youth Entrepreneurial Education\",\"Specialist teaching English TOEIC IELTS English skills\",\"TagCourse is an education platform developed to help students choosing the right course and universitycollege We are also developing to become the largest student website in Malaysia\",\"Wardaya College provides math and science online learning resources in the Indonesian language\",\"A System Integration Company specialise in Educational Technology We work as the coordinator between Educational Publishers Educational Expert and Technological Companies to engage schools and provide pedagogical learning approach and technological solutions tailored to school\\u2019s requirements\",\"We are the future of math learning gamebased learning will become the most wellreceived and efficient method of learning in the future\",\"The Maths Centre is an e learning website with an exam focus on pre university levels \",\"Topica Edtech Group is a leading online education provider in South East Asia with Topica Native Topica Uni Edumall\",\"A platform for students of all ages and freelance teachers looking to teach online\",\"SIAP Online provides a total solution integrated application services online school for education in Indonesia\",\"Copywriting Inc writes quality pieces in the most efficient professional and timely manner Our writing service agency offers good value written by experts of various fields Knowledgeable in SEO copywriting we can assist you to save time while we do all the hard work producing topnotch content for your websites or webpages\",\"KuliahKita is a learning platform for Indonesian students which targets from high school level students and above Its shaped like an online course to help people study together in asynchronous way\",\"We believe in transforming youngsters into winners through experiential and project based learning\",\"The Rote Less Travelled develops and provides supplementary educational curriculum in Mathematics and Science at the Secondary and Junior College levels in Singapore\",\"Saungkode is a web learning platform focused for learning about programming offered in Indonesia language which is available online and free of charge to learning programming from zero to advanced\",\"QH Online trains and educate PHP developer and the one who love it\",\"Creative Technical Life Financial Parenting Business Skill in one place\",\"Monsoon Academy is the only authorized and official SAP partner in Indonesia for the delivery of the SAP eacademy with campuses in Jakarta Bandung Surabaya and Jogjakarta\",\"Support Marketing for Entrepreneur\",\"Digital Senior is created for students by students It is a place for students to express themselves and share their insights with other university students so as to inspire one another Everything about universities can be found inside\",\"Superkids is a fun edutainment bilingual online media for Indonesian children\",\"TurnPoint is a destination education startup that provides intensive learning opportunities for entrepreneurs career shifters and global citizens who are looking for a more meaningful way of working and living\",\"Worlds first elearning and personal branding social network\",\"Makers Institute is an educational institution that combines online and offline studies to explore computer science programming and software development\",\"EasyRead is an application that helps young adults and professionals learn new languages while reading content that is of interest to them at their specific difficulty level\",\"Bangsa Cerdas is an online learning and bootcamp training platform based in Indonesia\",\"Zggzag Career is the assistance in creating proofreading and finetuning of CV and anything else related to academic or career path\",\"Ashalat is a guidance prayers application start from intention to salaam are presented in audio form Audio pronunciation in apps are spaced so users can hear and follow the audio while practicing prayers Ashalat is a product of AMPlified\",\"Mindvalley builds companies that revolutionise education and allow people to be extraordinary through innovation in learning and personal growth\",\"A web  mobile application focusing on knowledge retention and enhancement of corporate learners by providing short burst of engaging learning experience\",\"Focus on connecting Vietnamese students worldwide and leveraging their student life through our online channels settledown services and events\",\"Spiral is the fastest way for teachers to carry out formative assessments and encourage student progress\",\"DeltaViet works with qualified teachers experts and business people to create high quality online courses on diverse subjects\",\"IFERD is a private nonprofit organization that brings together Vietnamese and international scholars who focus on educational creativity innovation and entrepreneurship\",\"Readish is a free platform to view and create courses from bookmarks View other users courses for preschool elementary high school college resources\",\"Training centers and development gifted of children\",\"A university course comparison portal built by founders who are obsessed with organising global higher education information and making it convenient and relevant to the world\",\"Examcom is aiming to bring the MOOC concept to primary and secondary school tuition with tutor supported online lessons and practice exams to give children an advantage in realworld entrance and streaming exams\",\"School Plus Parkway Parade Tampines Central Ang Mo Kio The only education centre in Singapore that harnesses technology for personalised learning\",\"Gurukitecom is an online platform that connects students to private tutors based in Pontianak Indonesia\",\"Manufacturer and distributor of technologybased education products\",\"Smart Education Now is a cloudbased platform that enables personalized teaching and learning\",\"VisionarySchoolmen is at the forefront of Educational Information Technology From building the best Educational platform possible to creating incredible content in order to bring about a quantum leap in education\",\"Sukawucom is a dynamic edtech startup company that was formed to provide a onestop solution for people of all ages in exploring their passion and talent to realise their maximum potential with the first online portal and marketplace in Indonesia that connects learners with course providers in nonformal education along with other innovative programs to improve the quality of human resources\",\"Jagocodingcom is No 1 programming tutorial social network site in Indonesia\",\"ManyTutorscom help tutors with marketing by exposing their services to a sizable audience\",\"A Home Tuition is an online platform for home tutoring services that helps create high quality relationships between parents students and tutors for an effective education experience\",\"TeacherBirdcom is an online training portal with highquality learning components combined with high definition videos which establishing a bridge between teacher and students\",\"Tutorico is a tutoring platform for IB students in Singapore\",\"Vista International Corporation PTVIC Indonesia is an education consultant in Indonesia which specializes in preparing students to study overseas\",\"TRAINING SPECIALISTS GRAPHIC DESIGN MEDIA \",\"VNIS Vietnam Vietnam Innovative Services is an international education solution provider working 247 to establish a wide bridge connecting international institutions and Vietnamese students\",\"izzilearn is one of the projects of Flamingo company  an elearning community that connect trainer from every where can teach everything\",\"iGo10 is a mobile app that helps you learn English online through video clips daily\",\"Online resources for local students\",\"Educational News Reviews and School Directory Portal\",\"SDI Academy provides personalized language vocational and computer skills training to migrant workers and refugees\",\"To provide parents children and educators access to worldclass children\\u2019s storybooks  comics under one subscription easily at their fingertips in Asia Pacific\",\"PT Asian Brain IMC is an online business learning in Indonesia\",\"Kienhocvn provides online study courses\",\"Sekolah Kertas aims to creating waste free families and village in Indonesia\",\"A leading publish and training company in Vietnam\",\"We empower people to learn and are revolutionizing education\",\"SnowSchool is an education support system that will give us a new alternative way to learn many things many subjects with other people\",\"Programming school for 21st century\",\"Information about Education in Vietnam\",\"Aimsis is an abbreviation of Academic Information Management System in Schools a SaaS for connecting Parent with Teachers while automating Teacher\\u2019s administrative task\",\"Rumah Sinau is a platform for space rent of living room or office for educational activities\",\"GotClass is one of Singapore largest education sites enabling parents to plan and narrow down to the most ideal class for their children\",\"Sibejoo is an online video based learning portal\",\"SekolahSG is a onestop online platform for young Indonesians who want to study in Singapore Start your journey with us\",\"Recite App provides Quran recitals validation service through mobile devices\",\"Studynow is an online learning website\",\"Labbaik is an audio guidance for Hajj and Umra which serves complete dua into audio and detail reading text\",\"Mathemate is like a Quora for students connecting students to all things math and aiming to be the easiest place to ask and check existing content from the web\",\"Learn 2 Code provides codingprogramming education from beginner to intermediate level\",\"Family Play is a developer of childrens educational apps from toddlers through to primary level education Family Play has a wide range of curriculum and content aimed at young children\",\"Atoha is an elearning platform for millions of learners to take interactive 1on1 coaching courses from certified trainers worldwide\",\"Getstarted is an online platform to learn about artificial intelligence data science and related technologies\",\"Exercises application and test bank for elementary junior high high school SBMPTN drivers license theory test IQ Test Psychological and various package exercises\",\"Tutormu is a web platform which aims to ease everyone to form a study group guided by a tutor\",\"Japanese Language Training Center\",\"Student personal assistant app powered by school and teachers\",\"Learn to build apps in 9 weeks in Kuala Lumpur Malaysia\",\"Dengerinid is an audio and video based learning platform that can be listened anywhere and anytime\",\"Sarjanacoid is a platform that support users to find university or program of study\",\"Specialist sharing site that allows viewing and downloading free of legal documents templates learning materials books papers documents\",\"Pedenesia is a training marketplace that helps employees to find and book training easier and training providers to sell more\",\"Toyo Studio develops virtual schools to provide educational solutions by building an offline virtual classroom and teacher in smartphone\",\"Bach Kim is the leading company in technology solution for education\",\"Funedoo is social media education which is used to learn play and socialize in a fun creative and positive way\",\"Startup Mengajar is a community movement that involves entrepreneur local developers startups freelances and digitaltech enthusiasts to contribute in increasing IT industry quality in Indonesia\",\"KonGo Publisher Studio focusing on educational books and apps\",\"Nooinq revolutionizes early childhood development and care and offers richer experiences for educators parents  schools to engage better\",\"KlassJoy is a mobility collaboration  data visualization for Kindergartens\",\"Codemi is web based learning management system that enable organization to manage online training program for employee and partners that could reduce cost measurable and deploy rapidly\",\"Flashcom Indonesia is a computer learning training and courses institution which implements student needs and flexible schedule method\",\"Fragmentor helps student to study abroad by finding the perfect mentor accommodation and homemade cooking\",\"Skooly is a collaboration platform for 21st century schools enabling real time messaging for schools teachers parents  students one click payments and happier educational journeys\",\"Code Gakko is a coding academy for students of all ages in Singapore\",\"SIKAD provide School Paperworks Automation and Real Time Report to Region Education Office\",\"TOPICA Education Group is a leading provider of highquality online university degrees in Vietnam pioneer in Elearning technology\",\"Stars Involvement is an application for parents to monitoring their children at school\",\"Learning Analytic Pte Ltd offers students colleges and universities a robust way to use data to assess their strengths and weaknesses and enhance their capabilities\",\"Bulletinboard is the first free mobile application in Indonesia to make teachers lives easier and parents more engaged\",\"Bisa Belajar is a company that holds a one stop learning center that contains Video Contents Exercises and Tryout and Learning Forum\",\"specialized language training establishments and Japanese culture for those trainees  apprentices students\",\"Exploring Singapore A family affair made enriching At TopoTogo were crafting beautiful Edutainment Apps And were starting with a collection of city guides for children  their parents\",\"Yacademy part of Ygroup Asia provides education in digital technologies and innovation\",\"Weevur is a free online cloudbased platform that aims to connect schools educators and learners globally\",\"eNNOTATE aims to help students learn better through collaboration while helping teachers teach better through the use of analytics\",\"Era Belajar is a place where you can learn together with friends\",\"Sekolah Koding is a online platform to learn programming using text and video in Bahasa\",\"Focus Learning Lab is a leading learning centre that focuses on the enrichment of our students through effective curriculum\",\"LOOPsg was developed as a onestop marketplace and learning hub for every kind of elearning imaginable\",\"TUTOROO is an online marketplace that helps students connect with qualified inperson language tutors near them\",\"EdgeBotix is a startup company dedicated to designing and delivering the educational robots called eBots all at a low cost eBots provide a simple yet effective platform for students to learn on eBots are easily modifiable to meet any requirements\",\"Wiztango develops post and preengagement solutions for instructorled classrooms and virtual training sessions\",\"Online learning English and offline learning center\",\"EBIV is a platform where people share about the schools language centers and quality reputation\",\"Yola Institute is a premier provider of educational services in Vietnam\",\"We are talent development organization dedicated to close the talent GAP in Indonesia We provide FREE informal education for students in High School College and Fresh Graduate to get technical and soft skill\",\"DTU Corp provides overseas education consultation medical tourism and overseas job referring services\",\"Penulisidcom is a service business that is focused on fostering talent authorship with the concept of social mission affordable and useful\",\"FlashAdvance helps language teachers keep their students engaged and motivated through fun mobile learning content\",\"An online learning platform that gives Indonesian students new ways of learning by providing them with fun yet effective educational material\",\"Supports approaches to coding that engage students in thinking creatively reasoning systematically and working collaboratively\",\"Neliti is an open access research database\",\"A complement therapy application for autism asperger ADD ADHD down syndrome mental retardation and slow learner with interactive technology\",\"Digidu Indonesia provides digital book application as a learning platform with interactive contents\",\"kiddie kist wwwkiddiekistcom is a subscription for busy parents who want to boost their childs creativity and intelligence\",\"ripplecreate is passionately committed to delivering the most wellrounded technology education experience of the future\",\"Learning Islam is now simple and easy with Qalamotion\",\"CodeSaya is a place to learn on how to code with easy and fun learning built by Indonesian coder with the help of the open source community\",\"LearnLyve is an online marketplace for live instructorled training programmes\",\"Progenie is an educational portal that connects parents and educators to bring out the best in every child\",\"LessonsGoWherecomsg LGW is an online marketplace to list discover and book local lessons\",\"Tomago Education is a modern University for Kids\",\"EduNation is the largest FREE primary and secondary school online resource in Malaysia\",\"BeRichvn is a leading investing and financial management company in Vietnam providing thousands of users with access to financial planning stock advisor stock community and financial management\",\"MyFreelys Academy is established as a \\u201cTraining and Development\\u201d platform promoting the best practice of Human Resource Management\",\"OneScholar is an Apps for Education Campus News College Events Internship News Admission Alerts\",\"EduShare is an education application platform\",\"Language School\",\"Application for Kids\",\"We are currently a tuition agency However we looking to move forward to provide a platform for all parents to come review the different tuition centres  agencies easy for people to compare We will then also move into childrenrelated services\",\"Student Job is a specialised job portal for student and recent graduates that provides information on parttime internship volunteer and fresh graduate jobs\",\"Skoolight builds SaaSbased school management system\",\"LingoQuest enables language schools to offer fun gamelike blended learning experience that engage with todays learners\",\"Communicaire is an artificial intelligence powered enterprise education company\",\"FutureLab helps students and ambitious young professionals network with a wide range of industry experts and provide a platform where they can learn and ask questions to help them figure out what they want to do for their future careers and how to take it to the next level\",\"KidzBOT is an app designed for busy parents who have kids under 5 years old living in urban areas to help their babies develop to their full potential\",\"Robusta specialist IT training and IT Governance depth and international authorized VMware  Microsoft  EMC  RedHat \",\"Minder built mobile application to learn foreign languages and vocabulary\",\"Hocvipcom is a teaching and learning social networking for free in Vietnam\",\"ilmuGo is a website to help employees quickly learn job skills\",\"TrackRecord Asia is a trading academy which provides training for retail and professional traders\",\"Circledoo is apeertopeer learning and networking platform\",\"Asdosid is a mobile platform for student and college to share and discuss about lecture activities\",\"Eduropacom is an international study information platform We are promoting higher education providing students with information and direct assistance in choosing study options and university\",\"Starteur helps you discover understand and develop your hidden entrepreneurial talents\",\"TechSociety is one of Asias first coding  entrepreneurship academies for PreCollege students in Singapore Hong Kong and Vietnam  and we are also building the Star Alliance of the education industry across the region\",\"EdTech Indonesia is the first online community platform in Education  Technology fields in Indonesia\",\"Tutormy is a learning community helping students and parents to find reliable educational resources\",\"DeckToys is a new classroom tool that allows K12 teachers to teach and engage students\",\"Online video lectures\",\"Ortwo School Management System and Ortwo Go is an integrated solution we build based on 2 years of research This project is started from a fact in our education sector in indonesia that in the process of school administration a lot of clutter and inefficiency happens whether inside school or outside school like how information send from school to parents  \",\"Learnival is a product of Purpleframe Technologies the best social learning platform out there\",\"We aim to launch the biggest training and learning platform for all budding entrepreneurs and students through training kits interviews and articles from established startups publications and events\",\"Zunivn is an online education project\"],\"company\":[\"Gnowbe\",\"DANAdidik\",\"HarukaEdu\",\"Nhance App\",\"Tueetor\",\"Teamie\",\"Kyna.vn\",\"SquLine\",\"NEXT Academy\",\"EduAdvisor\",\"Wizlearn Technology (ASKnLearn)\",\"Classruum\",\"Learnly\",\"ScholarDeck\",\"The Pragmatic Lab (Alpha Camp)\",\"My Aone Learning\",\"Studentpreneur\",\"Epigami\",\"RyMM Education\",\"Cialfo\",\"Rockit online\",\"LittleLives\",\"Ruangguru.com\",\"Codetoki\",\"Duable Chinese\",\"Street Smart University\",\"Play Moolah\",\"Kark Mobile Education\",\"Wildby\",\"EasyUni\",\"XSEED Education (iDiscoveri)\",\"Veev Interactive\",\"eduPOW\",\"DocuBuzz\",\"Hanhtrangsong\",\"iTrainAsia\",\"My Study World\",\"The Coding Shophouse\",\"Quors\\u00e9\",\"THU QUAN DOANH NHAN\",\"Eduu.vn\",\"forEdu.asia\",\"Kila\",\"Classmoe\",\"iScholar.my\",\"Edumor\",\"Giao Duc Viet., JSC\",\"Chamhoc.vn\",\"Nguyentathuu Wordpress\",\"Smileltutor\",\"eKita\",\"Stem (DTT)\",\"Yodaa\",\"Ham hoc\",\"Vandora\",\"TheRightU\",\"Corporate Training Partner Pte Ltd\",\"Smoocer\",\"GREDU\",\"Askarasoft\",\"Mejakita\",\"Educa Studio\",\"Coursepad\",\"The Anh Group\",\"Zcholar\",\"In Session\",\"Zen .,JSC\",\"Cozora\",\"Alada\",\"Online Management Training\",\"Codomo\",\"IndonesiaX\",\"Eductory\",\"Youthmanual\",\"A1MYOBCourse\",\"RekanSejawat.com\",\"MISAKI International Exchange Co., Ltd\",\"Jogja Student\",\"Violet.vn\",\"Smart Internet Education System (SIES)\",\"Grdient\",\"Tinkertanker\",\"Comfyard\",\"Management Consulting Prep\",\"Multiply\",\"PT Mitra Studia Persada\",\"Studentbook\",\"Creatella\",\"Valutac\",\"Dreambender\",\"UtakAtikOtak\",\"Syseneg Academy\",\"Study Hard Play Hard\",\"SekolahPINTAR\",\"BestTop Career Consulting Pte Ltd\",\"Nativfy\",\"Tomonno\",\"TemanTakita\",\"Protege SGP Pte Ltd\",\"Atiral\",\"Learnemy\",\"Moon.vn\",\"Guru education\",\"lglist.co\",\"KelasKita\",\"Coding Lab\",\"Empirico Labs\",\"NextIn Indonesia\",\"Brandker\",\"StudentConnect (Accepted Pte Ltd)\",\"100% Project\",\"Tinkercademy\",\"excellence.asia\",\"VIESCOLA\",\"SPEAQUS\",\"Making Sense\",\"Tanpabatas\",\"Tlunjuk\",\"Kezaar.com\",\"Akira Education\",\"GURUKAMPUS.com\",\"Hocmai.vn\",\"Samurai Education\",\"Lingkaran\",\"Antoree\",\"TSF Academy Pte Ltd\",\"Classtree\",\"Q-Journal\",\"KiddyPass\",\"GiapSchool\",\"CognaLearn\",\"Sinaule\",\"LIPROF Training and Consultancy\",\"Nanoprivate (Seo Panel)\",\"Integra eTraining\",\"Create Lab Pte Ltd\",\"Arkavidia\",\"Pedia\",\"Gavetions.com\",\"Study in Jogja\",\"IAmThirsty\",\"Growth Hacking Asia\",\"Gnowledge\",\"Nguon hoc bong\",\"Bahaso.com\",\"Univariety\",\"Schoolbus\",\"Egame\",\"Schoola\",\"Telebort Technologies Sdn Bhd\",\"Yuki Center\",\"Reactor\",\"Ngoaingu24h\",\"TagCourse\",\"Wardaya College\",\"Websis for Education\",\"Zap Zap Math\",\"The Maths Centre\",\"TOPICA Edtech Group\",\"E-LEARNING LAB\",\"SIAP online\",\"copywriting inc\",\"KuliahKita\",\"Innovating minds\",\"The Rote Less Travelled\",\"Saungkode\",\"QH Online\",\"Medidu\",\"Monsoon Academy\",\"Ednovate\",\"Digital Senior\",\"Superkids Indonesia\",\"TurnPoint\",\"UBRAND\",\"Makers Institute\",\"EasyRead\",\"Bangsa Cerdas\",\"Zigzag Career\",\"Ashalat\",\"Mindvalley\",\"TribeWizard\",\"Student Life Care\",\"Spiral Education Pte Ltd\",\"DeltaViet Education\",\"IFERD\",\"Readish\",\"Vietnam OTS Co., Ltd\",\"UniDigest.com\",\"Exam\",\"School Plus\",\"Gurukite.com\",\"PT Winnertech Lintas Nusa\",\"Smart Education Now\",\"VisionarySchoolmen\",\"Sukawu\",\"Jagocoding.com\",\"ManyTutors\",\"A+ Home Tuition\",\"TeacherBird\",\"Tutorico\",\"Vista Education\",\"VNskills\",\"VNIS Vietnam\",\"izzilearn\",\"Igo10\",\"Classroom Matrix\",\"EduMatters\",\"SDI Academy\",\"Me Books Asia\",\"PT. Asian Brain IMC\",\"Kienhoc.vn\",\"Sekolah Kertas\",\"TGM Corporation\",\"Smarter Me Pte. Ltd.\",\"SnowSchool\",\"Refactory\",\"Giaoduc.net.vn\",\"Aimsis\",\"Rumah Sinau\",\"GotClass\",\"Sibejoo\",\"SekolahSG\",\"Recite Lab\",\"StudyNow\",\"Labbaik\",\"mathemate.com\",\"Learn 2 Code\",\"Family Play\",\"Atoha\",\"Getstarted\",\"E-Tryout\",\"Tutormu\",\"Akiko Viet Nam\",\"Schooriken\",\"Code Division\",\"Dengerin.id\",\"Sarjana.co.id\",\"VNdoc\",\"Pedenesia\",\"Toyo Studio\",\"Bach Kim\",\"Funedoo\",\"Startup Mengajar\",\"Kon-Go Studio\",\"21st Century Learning Pte. Ltd.(nooinq.com)\",\"KlassJoy\",\"Codemi\",\"Flashcom Indonesia\",\"Fragmentor\",\"Skooly\",\"Code Gakko\",\"SIKAD\",\"Topica\",\"Stars Involvement\",\"Learning Analytic Pte. Ltd.\",\"Bulletinboard\",\"Bisa Belajar\",\"ITM Japanese Center\",\"TopoTogo\",\"Yacademy\",\"Weefur\",\"Ennotate\",\"Era Belajar\",\"Sekolah Koding\",\"Focus Learning Lab Pte Ltd\",\"Loop.sg\",\"Tutoroo\",\"Edgebotix Pte ltd\",\"Wiztango\",\"Elive International\",\"EBIV\",\"Yola Institute\",\"Improovi\",\"DTU Corp\",\"penulisid.com\",\"FlashAdvance\",\"Zenius Education\",\"EKTIZO\",\"Neliti\",\"Cakra\",\"Digidu Indonesia\",\"Kiddie Kist\",\"ripplecreate\",\"Qalamotion\",\"CodeSaya\",\"LearnLyve\",\"Progenie\",\"LessonsGoWhere.com.sg\",\"Tomago\",\"EduNation\",\"BeRich\",\"MyFreelys Academy\",\"OneScholar\",\"EduShare\",\"GoldenKey Language School\",\"Terrabook\",\"LiteTutors\",\"Student Job\",\"Skoolight\",\"LingoQuest\",\"Communicaire\",\"FutureLab\",\"KidzBOT\",\"Robusta Vietnam\",\"Minder\",\"Hocvip.com\",\"ilmuGo\",\"TrackRecord Asia\",\"Circledoo\",\"Asdos.id\",\"Eduropa\",\"Starteur\",\"TechSociety Group\",\"EdTech Indonesia\",\"Tutormy\",\"Deck.Toys\",\"tuittor.com\",\"PT. Langit Asia Fortune\",\"Learnival\",\"Ideate\",\"Zuni.vn\"],\"descriptions\":[\"Gnowbe is a disruptive mobile learning solution delivering bite-sized multimedia content to the smartphone.\",\"DANAdidik is a Peer-to-Peer Lending (P2PL) for the micro student loan in Indonesia. Anyone can now fund a student in Indonesia, get a return while helping them.\",\"HarukaEdu is education portal where users can participate in variety of formal and informal education online, such as online classes, online courses, and online certifications.\",\"Nhance is a mobile learning platform which transforms learning content into games and delivers interactive, bite\\u00ad\\u2010sized experiences to users\\u2019 on their smartphones.\",\"Tueetor is a free, online marketplace that connects learners and trainers.\",\"Teamie is a cloud-based social learning platform that drives collaboration, enhances educator productivity, and institution performance.\",\"Kyna.vn is a marketplace for graduates and professionals to deliver courses in various skills and test preparations.\",\"Squline is an online learning platform that connects students with professional native teachers to learn new languages.\",\"NEXT Academy has helped many entrepreneurs, coders, marketers, designers pursue their ambitions by empowering them with the skills, knowledge and network\",\"EduAdvisor is an education course comparison portal in Malaysia\",\"Wizlearn is an e-learning company that provides web based e-learning solutions, content and services\",\"Classruum.com is an innovative e-learning solution currently being introduced in schools and higher institutions in Malaysia.\",\"Learnly is a community marketplace for students and tutors to connect. Be it private tuition, group tuition, music lessons and more, tutors are a few taps away on the Learnly app.\",\"ScholarDeck is Malaysia's one-stop scholarships platform.\",\"A learning application teaching consumers to code and build software.\",\"My Aone Learning is an online marketplace for local classes in Malaysia and Singapore.\",\"Studentpreneur is a platform where people can learn about entrepreneurship.\",\"Epigami is an online platform for learning\",\"RyMM Education is an edtech company focusing on relationships between parent, teacher and fellow parents.\",\"Cialfo offers an innovative SaaS platform (available on web and mobile) for independent college counsellors, private organizations and high schools to streamline their overseas college application process. It increases the effectiveness by enabling efficient task management, managing communications with their students and parents; and an automated proprietary college shortlisting algorithm.\",\"We bring the first live learning platform to Vietnam. We currently offer English language programs to K-12 students, adult learners and corporate staff across Vietnam.\",\"With LittleLives, helps preschools run more efficiently in a paperless way!\",\"Ruangguru is a website that connects prospective students to find the right teacher candidates to add to the lessons outside of school or college or develop specific skills.\",\"Codetoki is a gamified online learning platform for Computer Science, IT and Computer Engineering students to learn coding through challenges.\",\"Duable Chinese is an app that analyzes the user's Chinese comprehension level and links them to articles that match their reading level.\",\"Street Smart University (SSU) is the world\\u2019s first mobile platform to make world class personal development content affordable, accessible and convenient for the masses to learn from.\",\"PlayMoolah is a fun online platform for kids aged 6 to 12 to save, manage, and earn an allowance.\",\"Kart is a mobile development company that produce new platform of education that helps parents teach their kids using combination of digital and physical engagement activity.\",\"Wildby helps parents and children to answer those endless why, why questions anywhere, anytime!\",\"EasyUni.com is Asia's leading online destination for finding your dream university or college.\",\"XSEED is a comprehensive academic solution for schools that is designed to raise the level of learning in classrooms and build confidence in children.\",\"Veev is an education technology company which partners with students, educators, administrators, and other professionals around the world to deliver engaging and customised learning solutions.\",\"eduPOW is a online publishing platform that empowers everyone everywhere to learn what they love.\",\"DocuBuzz develops collaboration solutions that leverage emerging mobile and cloud computing technologies.\",\"Prepare the better luggage for life with many skills, tips and physical consultancy\",\"iTrain Asia is a Mobile Development Training Certification Body that provides iOS, Android and HTML5 certifications, course materials and also trainings via our channel partners.\",\"A social media and information portal for education industry that lets members connect to each other, universities, schools and other education related services around the world directly.\",\"At Coding Shophouse, we offer affordable (read, heavily-subsidised) courses in practical hands-on coding and to ensure you have the necessary skills to pursue that alternate career path.\",\"Quors\\u00e9 is an online training marketplace that connects individuals and businesses with experienced trainers and training providers.\",\"Thu Quan Doanh Nhan is a nonprofit organization that provides future business leaders with a venue for reading, study groups, training of presentation skills, teamwork, business acumen and leadership through interaction.\",\"Eduu community connect directly learners to suitable education opportunity (centers & teachers)\",\"forEdu is an adaptive and collaborative learning platform designed to motivate students and helps education centre manage paperwork effortlessly.\",\"Kila is an educational mobile application about interactive storybooks for kids that runs on various kinds of mobile devices.\",\"Classmoe is a video marketplace that provide long distance tutoring in tech education and k-12 education.\",\"iScholar was founded as a one-stop online scholarship application platform that makes scholarship accessible to all students. At iScholar, we help to facilitate the communication, matching and awarding of scholarship programmes between deserving students and sponsors i.e. corporations, foundations, institutions and individuals.\",\"Connecting educations to people. Providing formal education (School & university) informations to public, and Admission system that help formal educations in Indonesia go online (online applications system, education profiles, news, reviews).\",\"BUILDING STAFF TRAINING, EDUCATION ENROLLMENT AND LABOR EXPORT\",\"Education online for elementary school children .\",\"it is a website sharing tech - education - lifestyle info\",\"SmileTutor is the leading home tuition agency for parents and students looking for home tutors.\",\"The cloud platform for your academic life.\",\"Stem is a Community Education website in Vietnam\",\"Yodaa brings parents' word of mouth online. Find an experienced tutor in Singapore easily, and reliably.\",\"Ham hoc is learning community to connect young generations to knowledge fastest.\",\"USpell is a smartphone application that helps you study, practice and test your English pronouncing skill easily.\",\"TheRightU is an online university admissions and higher education consultancy\",\"A company that is advocating flip and authentic learning for young and young at heart. To achieve this we are creating 2 apps called let's flip and go score. We are also building an online campus called score campus.\",\"Smoocer is a mobile app that enhances your e-learning by placing you in a small study group with people taking the same online course as you\",\"Here in GREDU we believe we can use technology to improve the educational environment to create a better future.\",\"Askarasoft starts as a solution for education market. We help non formal education to manage administration tasks such as scheduling, finance, class management, and academic report using AskaraEdu Student Information System. We have helped thousand of parents to view their children progress and activity during their study using Askaraedu.\",\"Mejakita is a non-profit organization that runs a free, online educational platform for Indonesian students nationwide.\",\"Educa Studio - Free Education Games & High Quality Casual Games\",\"Coursepad is a mobile learning platform that allows organisations to rapidly deploy social learning apps.\",\"TheAnh Group l\\u00e0 m\\u1ed9t agency n\\u0103ng \\u0111\\u1ed9ng, tr\\u1ebb trung.Ch\\u00fang t\\u00f4i th\\u00e0nh l\\u1eadp v\\u00e0o gi\\u1eefa n\\u0103m 2010, v\\u1edbi \\u0111\\u1ed9i ng\\u0169 nh\\u1eefng chuy\\u00ean vi\\u00ean \\u0111\\u1ea7y nhi\\u1ec7t huy\\u1ebft - c\\u00f3 ki\\u1ebfn th\\u1ee9c, chuy\\u00ean m\\u00f4n v\\u00e0 kinh nghi\\u1ec7m chuy\\u00ean s\\u00e2u trong l\\u0129nh v\\u1ef1c thi\\u1ebft k\\u1ebf web, ti\\u1ebfp th\\u1ecb v\\u00e0 qu\\u1ea3ng c\\u00e1o tr\\u1ef1c tuy\\u1ebfn\",\"Zcholar is an academic social network providing a community for scholars, students, and researchers from all around the world.\",\"In Session seeks to encourage working adults to discover, learn and pursue skills, passions and interests outside of the 9-5, by offering a variety of choices at a low initial commitment.\",\"Japanese Center\",\"Cozora is website to help individual speakers and organizations to host live cast.\",\"Alada.vn is a online education platform in Vietnam.\",\"OMT is a dedicated Vietnamese e-learning provider established on the basis of multi-year experience in management training and consulting of the Organizational Capacity Development Company (OCD)\",\"Codomo is an edtech startup that aims to nurture creativity through empathy, technology and design. We achieve this by conducting real-world oriented design and tech workshops for kids aged 4 - 18.\",\"IndonesiaX offers free Massive Open Online Course (MOOC) from the best national university and company\",\"Eductory is a website to help parents to find an education (including school, extracurricular, courses, or private tutor) for their children.\",\"Youthmanual is a platform for university preparation and data-driven online career which is supported by People Science \\u00a9 technology to help students to plan and prepare their future.\",\"A1 MYOB Courses Singapore offers training courses in Singapore.\",\"RekanSejawat.com provides online tryout test.\",\"Specializing in the field of consultancy and training Japanese.\",\"Jogja Student is a education portal website in Yogyakarta\",\"The largest teacher community in Viet Nam.\",\"SIES specializes in providing online training courses short and medium term in the areas of : information technology ; Sell; Marketing online ; HR profession ; Soft skills ...\",\"Grdient combines big data and technology to teach future-ready skills and help people get jobs in startups.\",\"Tinkertanker is a technology and education company by teachers who enjoy coding, and coders who enjoy teaching. We run Tinkercademy, where we teach coding and electronics to students of all ages; GuestDay, an iPad-based guest registration service; and various smaller tech projects. Wait, \\\"describe the company in one sentence\\\"? Why did you give us so many characters to use then\",\"All-in-One marketplace for Language Learners!\",\"Management Consulting Prep (MCP) is a global career prep platform with primary services of teaching students and experienced professionals to land a job in management consulting firms, i.e. McKinsey, BCG, Bain, etc.\",\"Multiply is affordable, short term (5 days or less) classroom based courses to learn code from professional coders.\",\"Digital Learning Hub \\u2013 the pioneer of one-stop integrated learning solution.\",\"Studentbook is an Internet-based digital platform that integrates various functions of education and learning to school digital. Studentbook integrate academic information systems, academic social networking, and e-learning in a single integrated system.\",\"Creatella is an ambitious, energetic startup aiming to penetrate untapped P2P marketplaces and make the world more open. Started in Singapore with European roots and remote collaborators from 15+ countries, this highly international company aims to become a top tech startup in bustling South East Asia.\",\"Valutac is a Enterpise consultant and full-service MOOC solutions provider including planning, implementation, hosting, theming, support, training, and custom development including integration with existing efforts.\",\"DreamBender is a social venture that creates an open sign language dictionary and learning application that provides interactive, real-time sign language learning using Xbox Kinect as a motion sensor.\",\"Utak atik otak is an Indonesian educative social media packaged in quiz form to enhance memory and knowledge of the users\",\"Syseneg Academy is in the business of providing certification program in the specialised field of project management and related discipline.\",\"Study Hard Play Hard (SHPH) is a program empowering underprivileged youths through subsidized education and skills training.\",\"Sekolah Pintar is providing students to improve their ability about online business and how it works.\",\"BestTop Career Consulting is a marketplace that connects job seekers with working professionals to provide customized career advice, resume critique, interview prep, and more.\",\"Nativfy helps language learners perfect their language by connecting them to native speakers anytime, anywhere\",\"Tomonno is an effective and efficient tools to monitor students\\u2019 daily activities\",\"Portal for talent of children; tips and guidances for talent development; coverage of children's talent activities; profiles of children and people who success because of their talent.\",\"Prot\\u00e9g\\u00e9 is a learning platform that aims to connect aspiring learners with inspiring teachers while delivering unique workshops that cater to the goals and objectives of both individuals and companies.\",\"Atiral is a Social Networking Collaborative Learning Platform to provide SMART ( Sharing, Multidisciplinary, Autonomous, Reflective and Technology-enabled) learning experience and universal access to high-quality learning opportunity to everyone.\",\"Learnemy is an online marketplace where you can take private and group classes from people in your community.\",\"All information about Education\",\"Learning English is simple in everywhere\",\"A list of promising Vietnamese startups\",\"KelasKita is startup company in Social Learning, we create feature for public to easy learn, collaboration and make social for learning. you can create class private or public class, create quiz, test and collaboration in class.\",\"Nurturing the Next Generation of Leaders in Technology. Experience the Coding Lab Difference with our Award-Winning MIT-Inspired Curriculum. For Ages 4-16.\",\"Empirico Labs is a Learning and Development Enterprise with the vision of revolutionizing the learning space.\",\"NextIn Indonesia is a startup IT company with a mission to solve social issues and to accelerate all of education aspects around the world.\",\"BRANDKER - Global Entrepreneurs Community BRANDKER is the first digital platform in the world which provides Business Network (Connector), Business Coaching (Educator) and a Platform to cultivate and invest in new startups, business ideas by entrepreneurs from all regions (Incubator). We are currently based in Malaysia, Singapore and China. Be part of our global community, #BeBRANDKER!\",\"StudentConnect is a service for prospective students to find and engage actual students at schools they want to get to know better before applying.\",\"100% Project is a crowdfunding platform for classrooms in need. We empower teachers to provide the best learning experience for their kids.\",\"At Tinkercademy, we teach coding, electronics, making, mess-making, and more.\",\"excellence.asia is a smarter way to find training for every business. Our mission is to help corporates and individuals improving their competencies by helping them to choose the right training courses and provide tools for enhancing learning experience\",\"Social Application for College. We connecting Students and Lecture from the other College in one Application.\",\"Speaqus is a platform that helps you find the most appropriate speakers in Indonesia\",\"\\\"Making Sense is an award winning chemistry tution centre in Singapore.\\\"\",\"Tanpabatas provides online personal coaching program that assists anyone who are overwhelmed with life distraction to increase productivity & bring fulfillment.\",\"Tlunjuk is an education tech startup that provides an open class module for students.\",\"Kezaar is a social marketplace for classes and workshops in Singapore.\",\"Akira Education is a website providing Japanese and English online course\",\"GURUKAMPUS.com is an innovative website which connects college students who are interested to become a mentor for student who are looking for a private teacher.\",\"Hocmai.vn is Vietnam\\u2019s leading education portal, with free and premium lessons, study guides, information on universities and admission exams etc..\",\"Consultancy study, Japanese Center\",\"Lingkaran is educational community for creatives and providing a new culture of creative and entrepreneurial education.\",\"Antoree is a supportive community of English learners and English tutors helping each other through English lessons (conducted online or offline).\",\"We provide an online education platform caters for adult learners focusing on personal development and business career advancement for SEA market.\",\"Classtree is all you need for parent teacher communication\",\"Q-Journal supports academic transaction in Indonesia by providing global coverage for national journals to international index nd high quality international papers to national universities.\",\"KiddyPass is a dedicated marketplace to discover skill learning for kids.\",\"GiapSchool is the first online education website in Vietnam (MOOC) that allows everyone to learn independently and creatively.\",\"CognaLearn is an education company devoted to applying cognitive science to help people learn better and faster.\",\"Sinaule is a gamified e-learning website to keep learning fun\",\"LIPROF (LEADING INSTITUTE FOR PROFESSIONALS) is a learning platform for professional certifications, specialized in PMI certifications.\",\"Simply, Future, eLearning\",\"Integra eTraining is the first online training (e-learning) provider in Indonesia.\",\"Create Lab works with educators from Oxford, MIT & Singapore\\u2019s top universities to inspire children to create with technology and prepare them to become 21st Century Leaders.\",\"Under development....\",\"Pedia is an online training system in Vietnam.\",\"Gavetions.com is a digital media which contain latest technology, gadgets, guides, and games reviews.\",\"Study in Jogja is a community and media for young people which focuses on giving education and lifestyle information of young peope in Indonesia.\",\"IamThirsty.com.sg is Singapore's largest portal for training courses.\",\"Growth Hacking Asia is a service, training and consulting company, that helps Asian startups grow into success stories by executing growth hacking activities for them, equipping them with growth hacking skills and connecting them with mentors.\",\"Gnowledge is a free-to-use education platform that benefits educators, students and parents.\",\"A Vietnam\\u2019s leading source of scholarships information with varied levels, different disciplines in many developed countries in the world.\",\"Bahaso.com is a platform and social media to learn foreign languages online and interactively.\",\"Univariety is the largest and fastest growing company in India which sets up outplacement systems in high schools\",\"Schoolbus supplies massive open online courses 2.0\",\"Egame provide educational services online game in Vietnam.\",\"Schoola is a website that wants to connect psychology with technology.\",\"Telebort is an edu-tech startup founded in Universiti Sains Malaysia.\",\"Training Japanese, Japanese Study, Trade Promotion, Bien - Interpretation.\",\"Reactor is a Education Technology in Youth Entrepreneurial Education.\",\"Specialist teaching English, TOEIC, IELTS, English skills.\",\"TagCourse is an education platform developed to help students choosing the right course and university/college. We are also developing to become the largest student website in Malaysia.\",\"Wardaya College provides math and science online learning resources in the Indonesian language.\",\"A System Integration Company specialise in Educational Technology. We work as the coordinator between Educational Publishers, Educational Expert and Technological Companies to engage schools and provide pedagogical learning approach and technological solutions tailored to school\\u2019s requirements.\",\"We are the future of math learning, game-based learning will become the most well-received and efficient method of learning in the future.\",\"The Maths Centre is an e learning website with an exam focus on pre university levels .\",\"Topica Edtech Group is a leading online education provider in South East Asia with Topica Native, Topica Uni, Edumall.\",\"A platform for students of all ages and freelance teachers looking to teach online.\",\"SIAP Online provides a total solution integrated application services online school for education in Indonesia.\",\"Copywriting Inc writes quality pieces in the most efficient, professional and timely manner. Our writing service agency offers good value, written by experts of various fields. Knowledgeable in S.E.O, copy-writing we can assist you to save time while we do all the hard work producing top-notch content for your websites or webpages.\",\"KuliahKita is a learning platform for Indonesian students which targets from high school level students and above. It's shaped like an online course to help people study together in asynchronous way.\",\"We believe in transforming youngsters into winners through experiential and project based learning.\",\"The Rote Less Travelled develops and provides supplementary educational curriculum in Mathematics and Science at the Secondary and Junior College levels in Singapore.\",\"Saungkode is a web learning platform focused for learning about programming offered in Indonesia language which is available online and free of charge to learning programming from zero to advanced.\",\"QH Online trains and educate PHP developer and the one who love it\",\"Creative, Technical, Life, Financial, Parenting, Business Skill in one place.\",\"Monsoon Academy is the only authorized and official SAP partner in Indonesia for the delivery of the SAP e-academy with campuses in Jakarta, Bandung, Surabaya and Jogjakarta.\",\"Support Marketing for Entrepreneur.\",\"Digital Senior is created for students, by students. It is a place for students to express themselves and share their insights with other university students, so as to inspire one another. Everything about universities can be found inside.\",\"Superkids is a fun edutainment bilingual online media for Indonesian children.\",\"TurnPoint is a destination education startup that provides intensive learning opportunities for entrepreneurs, career shifters and global citizens who are looking for a more meaningful way of working and living.\",\"World's first e-learning and personal branding social network.\",\"Makers Institute is an educational institution that combines online and offline studies to explore computer science, programming, and software development.\",\"EasyRead is an application that helps young adults and professionals learn new languages while reading content that is of interest to them at their specific difficulty level.\",\"Bangsa Cerdas is an online learning and bootcamp training platform based in Indonesia.\",\"Zggzag Career is the assistance in creating, proofreading and fine-tuning of CV and anything else related to academic or career path.\",\"Ashalat is a guidance prayers application, start from intention to salaam are presented in audio form. Audio pronunciation in apps are spaced, so users can hear and follow the audio while practicing prayers. Ashalat is a product of AMPlified.\",\"Mindvalley builds companies that revolutionise education and allow people to be extraordinary through innovation in learning and personal growth.\",\"A web & mobile application focusing on knowledge retention and enhancement of corporate learners; by providing short burst of engaging learning experience.\",\"Focus on connecting Vietnamese students worldwide and leveraging their student life through our online channels, settle-down services and events.\",\"Spiral is the fastest way for teachers to carry out formative assessments and encourage student progress.\",\"DeltaViet works with qualified teachers, experts and business people to create high quality online courses on diverse subjects.\",\"IFERD is a private, non-profit organization that brings together Vietnamese and international scholars who focus on educational creativity, innovation and entrepreneurship.\",\"Readish is a free platform to view and create courses from bookmarks. View other users' courses for pre-school, elementary, high school, college resources.\",\"Training centers and development gifted of children.\",\"A university course comparison portal built by founders who are obsessed with organising global higher education information and making it convenient and relevant to the world.\",\"Exam.com is aiming to bring the MOOC concept to primary and secondary school tuition, with tutor supported online lessons and practice exams to give children an advantage in real-world entrance and streaming exams.\",\"School Plus Parkway Parade, Tampines Central, Ang Mo Kio. The only education centre in Singapore that harnesses technology for personalised learning.\",\"Gurukite.com is an online platform that connects students to private tutors based in Pontianak, Indonesia.\",\"Manufacturer and distributor of technology-based education products.\",\"Smart Education Now is a cloud-based platform that enables personalized teaching and learning.\",\"VisionarySchoolmen is at the forefront of Educational Information Technology. From building the best Educational platform possible, to creating incredible content in order to bring about a quantum leap in education.\",\"Sukawu.com is a dynamic edtech start-up company that was formed to provide a 'one-stop solution' for people of all ages in exploring their passion and talent to realise their maximum potential with the first online portal and marketplace in Indonesia that connects learners with course providers in non-formal education along with other innovative programs to improve the quality of human resources.\",\"Jagocoding.com is No. 1 programming tutorial social network site in Indonesia.\",\"ManyTutors.com help tutors with marketing by exposing their services to a sizable audience.\",\"A+ Home Tuition is an online platform for home tutoring services that helps create high quality relationships between parents, students and tutors for an effective education experience.\",\"TeacherBird.com is an online training portal with high-quality learning components combined with high definition videos which establishing a bridge between teacher and students.\",\"Tutorico is a tutoring platform for IB students in Singapore.\",\"Vista International Corporation (PT.VIC Indonesia) is an education consultant in Indonesia which specializes in preparing students to study overseas.\",\"TRAINING SPECIALISTS GRAPHIC DESIGN MEDIA .\",\"VNIS Vietnam (Vietnam Innovative Services) is an international education solution provider working 24/7 to establish a wide bridge connecting international institutions and Vietnamese students.\",\"izzilearn is one of the projects of Flamingo company - an e-learning community that connect trainer from every where can teach everything.\",\"iGo10 is a mobile app that helps you learn English online through video clips daily.\",\"Online resources for local students.\",\"Educational News, Reviews and School Directory Portal\",\"SDI Academy provides personalized language, vocational, and computer skills training to migrant workers and refugees.\",\"\\\"To provide parents, children, and educators access to world-class children\\u2019s storybooks & comics under one subscription easily at their fingertips in Asia Pacific.\\\"\",\"PT. Asian Brain IMC is an online business learning in Indonesia\",\"Kienhoc.vn provides online study courses\",\"Sekolah Kertas aims to creating waste free families and village in Indonesia\",\"A leading publish and training company in Vietnam\",\"We empower people to learn and are revolutionizing education.\",\"SnowSchool is an education support system that will give us a new alternative way to learn many things, many subjects, with other people.\",\"Programming school for 21st century\",\"Information about Education in Vietnam\",\"Aimsis is an abbreviation of Academic Information Management System in Schools, a SaaS for connecting Parent with Teachers, while automating Teacher\\u2019s administrative task.\",\"Rumah Sinau is a platform for space rent of living room or office for educational activities.\",\"GotClass is one of Singapore largest education sites, enabling parents to plan and narrow down to the most ideal class for their children.\",\"Sibejoo is an online video based learning portal.\",\"SekolahSG is a one-stop online platform for young Indonesians who want to study in Singapore. Start your journey with us.\",\"Recite App provides Quran recitals validation service through mobile devices.\",\"Studynow is an online learning website\",\"Labbaik is an audio guidance for Hajj and Umra which serves complete du'a into audio and detail reading text.\",\"Mathemate is like a Quora for students, connecting students to all things math and aiming to be the easiest place to ask and check existing content from the web.\",\"Learn 2 Code provides coding/programming education from beginner to intermediate level.\",\"Family Play is a developer of children's educational apps, from toddlers through to primary level education, Family Play has a wide range of curriculum and content aimed at young children\",\"Atoha is an e-learning platform for millions of learners to take interactive 1-on-1 coaching courses from certified trainers worldwide\",\"Getstarted is an online platform to learn about artificial intelligence, data science, and related technologies.\",\"Exercises application and test bank for elementary, junior high, high school, SBMPTN, driver's license theory test, IQ Test, Psychological and various package exercises.\",\"Tutormu is a web platform which aims to ease everyone to form a study group guided by a tutor.\",\"Japanese Language Training Center\",\"Student personal assistant app powered by school and teachers.\",\"Learn to build apps in 9 weeks in Kuala Lumpur, Malaysia.\",\"Dengerin.id is an audio and video based learning platform that can be listened anywhere and anytime.\",\"Sarjana.co.id is a platform that support users to find university or program of study.\",\"Specialist sharing site that allows viewing and downloading free of legal documents, templates, learning materials, books, papers, documents\",\"Pedenesia is a training marketplace that helps employees to find and book training easier and training providers to sell more\",\"Toyo Studio develops virtual schools to provide educational solutions by building an offline virtual classroom and teacher in smartphone.\",\"Bach Kim is the leading company in technology solution for education.\",\"Funedoo is social media education which is used to learn, play and socialize in a fun, creative and positive way.\",\"Startup Mengajar is a community movement that involves entrepreneur, local developers, startups, freelances, and digital/tech enthusiasts to contribute in increasing IT industry quality in Indonesia.\",\"Kon-Go Publisher Studio focusing on educational books and apps.\",\"Nooinq revolutionizes early childhood development and care, and offers richer experiences for educators, parents & schools to engage better!\",\"KlassJoy is a mobility collaboration & data visualization for Kindergartens\",\"Codemi is web based learning management system that enable organization to manage online training program for employee and partners that could reduce cost, measurable and deploy rapidly.\",\"Flashcom Indonesia is a computer learning training and courses institution which implements \\\"student needs\\\" and \\\"flexible schedule\\\" method.\",\"Fragmentor helps student to study abroad by finding the perfect mentor, accommodation and homemade cooking.\",\"Skooly is a collaboration platform for 21st century schools enabling real time messaging for schools, teachers, parents & students, one click payments and happier educational journeys.\",\"Code Gakko is a coding academy for students of all ages in Singapore.\",\"SIKAD provide School Paperworks Automation and Real Time Report to Region Education Office.\",\"TOPICA Education Group is a leading provider of high-quality online university degrees in Vietnam, pioneer in E-learning technology.\",\"Stars Involvement is an application for parents to monitoring their children at school.\",\"Learning Analytic Pte. Ltd. offers students, colleges and universities a robust way to use data to assess their strengths and weaknesses and enhance their capabilities.\",\"Bulletinboard is the first free mobile application in Indonesia to make teacher's lives easier, and parents more engaged\",\"Bisa Belajar is a company that holds a one stop learning center that contains Video Contents, Exercises and Tryout, and Learning Forum.\",\"specialized language training establishments and Japanese culture for those trainees , apprentices, students.\",\"Exploring Singapore: A family affair made enriching. At TopoTogo, we're crafting beautiful Edutainment Apps. And we're starting with a collection of city guides for children & their parents.\",\"Yacademy, part of Ygroup Asia, provides education in digital technologies and innovation.\",\"Weevur is a free online, cloud-based platform that aims to connect schools, educators, and learners globally.\",\"eNNOTATE aims to help students learn better through collaboration while helping teachers teach better through the use of analytics.\",\"Era Belajar is a place where you can learn together with friends.\",\"Sekolah Koding is a online platform to learn programming using text and video in Bahasa.\",\"Focus Learning Lab is a leading learning centre that focuses on the enrichment of our students through effective curriculum.\",\"LOOP.sg was developed as a one-stop marketplace and learning hub for every kind of e-learning imaginable.\",\"TUTOROO is an online marketplace that helps students connect with qualified in-person language tutors near them.\",\"EdgeBotix is a start-up company dedicated to designing and delivering the educational robots called eBots, all at a low cost. eBots provide a simple yet effective platform for students to learn on. eBots are easily modifiable to meet any requirements\",\"Wiztango develops post- and pre-engagement solutions for instructor-led classrooms and virtual training sessions.\",\"Online learning English and offline learning center\",\"EBIV is a platform where people share about the schools, language centers and quality reputation.\",\"Yola Institute is a premier provider of educational services in Vietnam.\",\"We are talent development organization dedicated to close the talent GAP in Indonesia. We provide FREE informal education for students in High School, College, and Fresh Graduate to get technical and soft skill.\",\"DTU Corp provides overseas education consultation, medical tourism, and overseas job referring services.\",\"Penulisid.com is a service business that is focused on fostering talent authorship with the concept of social mission, affordable, and useful.\",\"FlashAdvance helps language teachers keep their students engaged and motivated through fun mobile learning content.\",\"An online learning platform that gives Indonesian students new ways of learning by providing them with fun yet effective educational material.\",\"Supports approaches to coding that engage students in thinking creatively, reasoning systematically, and working collaboratively.\",\"Neliti is an open access research database.\",\"A complement therapy application for autism, asperger, ADD, ADHD, down syndrome, mental retardation and slow learner with interactive technology.\",\"Digidu Indonesia provides digital book application as a learning platform with interactive contents.\",\"kiddie kist {www.kiddiekist.com} is a subscription for busy parents who want to boost their child's creativity and intelligence.\",\"ripplecreate is passionately committed to delivering the most well-rounded technology education experience of the future\",\"Learning Islam is now simple and easy with Qalamotion.\",\"CodeSaya is a place to learn on how to code, with easy and fun learning built by Indonesian coder with the help of the open source community.\",\"LearnLyve is an online marketplace for live instructor-led training programmes.\",\"Progenie is an educational portal that connects parents and educators to bring out the best in every child.\",\"LessonsGoWhere.com.sg (LGW) is an online marketplace to list, discover and book local lessons\",\"Tomago Education is a modern University for Kids\",\"EduNation is the largest FREE primary and secondary school online resource in Malaysia.\",\"BeRich.vn is a leading investing and financial management company in Vietnam, providing thousands of users with access to financial planning, stock advisor, stock community and financial management.\",\"MyFreelys Academy is established as a \\u201cTraining and Development\\u201d platform, promoting the best practice of Human Resource Management.\",\"OneScholar is an Apps for Education, Campus News, College Events, Internship News, Admission Alerts\",\"EduShare is an education application platform.\",\"Language School\",\"Application for Kids\",\"We are currently a tuition agency. However, we looking to move forward to provide a platform for all parents to come review the different tuition centres & agencies, easy for people to compare. We will then also move into children-related services.\",\"Student Job is a specialised job portal for student and recent graduates that provides information on part-time, internship, volunteer, and fresh graduate jobs.\",\"Skoolight builds SaaS-based school management system.\",\"LingoQuest enables language schools to offer fun, game-like blended learning experience that engage with today's learners.\",\"Communicaire is an artificial intelligence powered enterprise education company.\",\"FutureLab helps students and ambitious young professionals network with a wide range of industry experts and provide a platform where they can learn and ask questions to help them figure out what they want to do for their future careers and how to take it to the next level.\",\"KidzBOT is an app designed for busy parents who have kids under 5 years old living in urban areas to help their babies develop to their full potential\",\"Robusta specialist IT training and IT Governance depth and international authorized VMware , Microsoft , EMC , RedHat .\",\"Minder built mobile application to learn foreign languages and vocabulary.\",\"Hocvip.com is a teaching and learning social networking for free in Vietnam.\",\"ilmuGo is a website to help employees quickly learn job skills.\",\"TrackRecord Asia is a trading academy which provides training for retail and professional traders.\",\"Circledoo is apeer-to-peer learning and networking platform.\",\"Asdos.id is a mobile platform for student and college to share and discuss about lecture activities.\",\"Eduropa.com is an international study information platform. We are promoting higher education providing students with information and direct assistance in choosing study options and university.\",\"Starteur helps you discover, understand and develop your hidden entrepreneurial talents.\",\"TechSociety is one of Asia's first coding + entrepreneurship academies for Pre-College students in Singapore, Hong Kong, and Vietnam - and we are also building the Star Alliance of the education industry across the region.\",\"EdTech Indonesia is the first online community platform in Education & Technology fields in Indonesia.\",\"Tutormy is a learning community helping students and parents to find reliable educational resources.\",\"Deck.Toys is a new classroom tool that allows K-12 teachers to teach and engage students.\",\"Online video lectures.\",\"Ortwo School Management System and Ortwo Go is an integrated solution we build based on 2 years of research. This project is started from a fact in our education sector in indonesia that in the process of school administration a lot of clutter and inefficiency happens whether inside school or outside school like how information send from school to parents.  \",\"Learnival is a product of Purpleframe Technologies, the best social learning platform out there\",\"We aim to launch the biggest training and learning platform for all budding entrepreneurs and students through training kits, interviews and articles from established startups, publications and events.\",\"Zuni.vn is an online education project\"],\"fill_color\":[\"#cb4053\",\"#c3e14c\",\"#68af4e\",\"#cb4053\",\"#c3e14c\",\"#3f6d31\",\"#5fdfa8\",\"#e3be38\",\"#6d8dca\",\"#68af4e\",\"#cb4053\",\"#723bca\",\"#4e2d7c\",\"#c3e14c\",\"#cb4053\",\"#6d8dca\",\"#c84dc9\",\"#e3be38\",\"#723bca\",\"#723bca\",\"#e3be38\",\"#d44427\",\"#723bca\",\"#e3be38\",\"#3f6d31\",\"#6d8dca\",\"#e3be38\",\"#c84dc9\",\"#d34690\",\"#68af4e\",\"#d34690\",\"#d34690\",\"#c3e14c\",\"#cb4053\",\"#c84dc9\",\"#5fdfa8\",\"#68af4e\",\"#5fdfa8\",\"#6e6cd5\",\"#5fdfa8\",\"#c3e14c\",\"#e3be38\",\"#cb4053\",\"#6d8dca\",\"#c3e14c\",\"#68af4e\",\"#5fdfa8\",\"#d34690\",\"#3f6d31\",\"#723bca\",\"#c3e14c\",\"#4e2d7c\",\"#4e2d7c\",\"#69de53\",\"#4e2d7c\",\"#68af4e\",\"#69de53\",\"#68af4e\",\"#3f6d31\",\"#68af4e\",\"#e3be38\",\"#4e2d7c\",\"#3f6d31\",\"#7fcdd8\",\"#6d8dca\",\"#c84dc9\",\"#7fcdd8\",\"#6e6cd5\",\"#c3e14c\",\"#6e6cd5\",\"#6d8dca\",\"#6e6cd5\",\"#d34690\",\"#d44427\",\"#5fdfa8\",\"#7fcdd8\",\"#7fcdd8\",\"#68af4e\",\"#c3e14c\",\"#5fdfa8\",\"#d44427\",\"#723bca\",\"#6e6cd5\",\"#5fdfa8\",\"#5fdfa8\",\"#6e6cd5\",\"#c3e14c\",\"#6d8dca\",\"#6e6cd5\",\"#6d8dca\",\"#3f6d31\",\"#5fdfa8\",\"#6e6cd5\",\"#3f6d31\",\"#5fdfa8\",\"#e3be38\",\"#c84dc9\",\"#c84dc9\",\"#e3be38\",\"#c3e14c\",\"#4e2d7c\",\"#68af4e\",\"#c84dc9\",\"#6d8dca\",\"#6d8dca\",\"#3f6d31\",\"#e3be38\",\"#6d8dca\",\"#c3e14c\",\"#723bca\",\"#d44427\",\"#7fcdd8\",\"#5fdfa8\",\"#723bca\",\"#e3be38\",\"#7fcdd8\",\"#c3e14c\",\"#6d8dca\",\"#6d8dca\",\"#4e2d7c\",\"#723bca\",\"#4e2d7c\",\"#7fcdd8\",\"#69de53\",\"#4e2d7c\",\"#68af4e\",\"#723bca\",\"#6e6cd5\",\"#c84dc9\",\"#c3e14c\",\"#d44427\",\"#e3be38\",\"#5fdfa8\",\"#7fcdd8\",\"#c3e14c\",\"#d34690\",\"#c84dc9\",\"#68af4e\",\"#3f6d31\",\"#69de53\",\"#68af4e\",\"#c84dc9\",\"#e3be38\",\"#6d8dca\",\"#3f6d31\",\"#68af4e\",\"#6d8dca\",\"#3f6d31\",\"#4e2d7c\",\"#c84dc9\",\"#7fcdd8\",\"#d44427\",\"#5fdfa8\",\"#c84dc9\",\"#e3be38\",\"#d44427\",\"#d44427\",\"#6e6cd5\",\"#c3e14c\",\"#723bca\",\"#cb4053\",\"#7fcdd8\",\"#e3be38\",\"#d44427\",\"#69de53\",\"#e3be38\",\"#69de53\",\"#4e2d7c\",\"#69de53\",\"#6e6cd5\",\"#723bca\",\"#e3be38\",\"#6d8dca\",\"#c3e14c\",\"#cb4053\",\"#69de53\",\"#e3be38\",\"#d44427\",\"#3f6d31\",\"#d44427\",\"#cb4053\",\"#e3be38\",\"#c84dc9\",\"#723bca\",\"#6e6cd5\",\"#723bca\",\"#c84dc9\",\"#68af4e\",\"#4e2d7c\",\"#d44427\",\"#e3be38\",\"#6d8dca\",\"#3f6d31\",\"#69de53\",\"#68af4e\",\"#6d8dca\",\"#4e2d7c\",\"#723bca\",\"#723bca\",\"#c84dc9\",\"#7fcdd8\",\"#6e6cd5\",\"#6e6cd5\",\"#c3e14c\",\"#cb4053\",\"#723bca\",\"#69de53\",\"#d34690\",\"#d34690\",\"#5fdfa8\",\"#68af4e\",\"#4e2d7c\",\"#69de53\",\"#68af4e\",\"#69de53\",\"#cb4053\",\"#68af4e\",\"#c84dc9\",\"#c84dc9\",\"#6d8dca\",\"#68af4e\",\"#c3e14c\",\"#cb4053\",\"#e3be38\",\"#3f6d31\",\"#cb4053\",\"#69de53\",\"#69de53\",\"#c3e14c\",\"#d44427\",\"#7fcdd8\",\"#4e2d7c\",\"#7fcdd8\",\"#723bca\",\"#69de53\",\"#3f6d31\",\"#6e6cd5\",\"#69de53\",\"#6e6cd5\",\"#cb4053\",\"#d44427\",\"#69de53\",\"#6d8dca\",\"#69de53\",\"#d34690\",\"#7fcdd8\",\"#6e6cd5\",\"#d44427\",\"#723bca\",\"#723bca\",\"#723bca\",\"#7fcdd8\",\"#6e6cd5\",\"#d34690\",\"#69de53\",\"#d34690\",\"#d44427\",\"#cb4053\",\"#d34690\",\"#d44427\",\"#e3be38\",\"#723bca\",\"#4e2d7c\",\"#68af4e\",\"#e3be38\",\"#7fcdd8\",\"#e3be38\",\"#c84dc9\",\"#5fdfa8\",\"#d44427\",\"#723bca\",\"#723bca\",\"#c84dc9\",\"#7fcdd8\",\"#5fdfa8\",\"#e3be38\",\"#e3be38\",\"#6e6cd5\",\"#d34690\",\"#7fcdd8\",\"#cb4053\",\"#d44427\",\"#d44427\",\"#4e2d7c\",\"#4e2d7c\",\"#6e6cd5\",\"#d34690\",\"#69de53\",\"#4e2d7c\",\"#4e2d7c\",\"#6e6cd5\",\"#5fdfa8\",\"#7fcdd8\",\"#3f6d31\",\"#e3be38\",\"#cb4053\",\"#4e2d7c\",\"#5fdfa8\",\"#6e6cd5\",\"#e3be38\",\"#d44427\",\"#69de53\",\"#c84dc9\",\"#6e6cd5\",\"#cb4053\",\"#3f6d31\",\"#4e2d7c\",\"#5fdfa8\",\"#3f6d31\",\"#723bca\",\"#68af4e\",\"#c84dc9\",\"#6d8dca\",\"#c3e14c\",\"#723bca\",\"#c84dc9\",\"#723bca\",\"#d34690\",\"#3f6d31\",\"#e3be38\",\"#68af4e\"],\"funding\":[\"Latest Funding: Seed / $1,700,000 / May '17\",\"Latest Funding: Seed / $50,000 / May '17\",\"Latest Funding: Series B / $2,200,000 / Nov '16\",\"Latest Funding: Seed / $300,000 / Aug '16\",\"Latest Funding: Undisclosed / $1,480,000 / Aug '16\",\"Latest Funding: Bridge / $1,100,000 / Jul '16\",\"Latest Funding: Seed / Undisclosed / Apr '16\",\"Latest Funding: Bridge / Undisclosed / Apr '16\",\"Latest Funding: Seed / $300,000 / Jan '16\",\"Latest Funding: Seed / Undisclosed / Nov '15\",\"Latest Funding: Acquired / $14,000,000 / Oct '15\",\"Latest Funding: Acquired / $600,000 / Aug '15\",\"Latest Funding: Grant / $50,000 / Aug '15\",\"Latest Funding: Seed / $13,500 / May '15\",\"Latest Funding: Acquired / Undisclosed / Apr '15\",\"Latest Funding: Grant / $27,000 / Mar '15\",\"Latest Funding: Seed / Undisclosed / Feb '15\",\"Latest Funding: Seed / Undisclosed / Dec '14\",\"Latest Funding: Seed / $19,650 / Nov '14\",\"Latest Funding: Bridge / Undisclosed / Aug '16\",\"Latest Funding: Seed / $500,000 / Sep '14\",\"Latest Funding: Seed / Undisclosed / Sep '14\",\"Latest Funding: Series B / Undisclosed / Jul '17\",\"Latest Funding: Seed / $19,650 / Jul '14\",\"Latest Funding: Seed / $17,700 / Feb '13\",\"Latest Funding: Others / $45,000 / Nov '12\",\"Latest Funding: Grant / $50,000 / Nov '12\",\"Latest Funding: Seed / Undisclosed / Apr '12\",\"Latest Funding: Seed / $12,000 / Feb '12\",\"Latest Funding: Series B / Undisclosed / Dec '15\",\"Latest Funding: Series A / $10,000,000 / Sep '10\",\"nan\",\"nan\",\"nan\",\"nan\",\"nan\",\"nan\",\"nan\",\"nan\",\"nan\",\"nan\",\"nan\",\"nan\",\"nan\",\"nan\",\"nan\",\"nan\",\"nan\",\"nan\",\"nan\",\"nan\",\"nan\",\"nan\",\"nan\",\"nan\",\"nan\",\"nan\",\"nan\",\"nan\",\"nan\",\"nan\",\"nan\",\"nan\",\"nan\",\"nan\",\"nan\",\"nan\",\"nan\",\"nan\",\"nan\",\"nan\",\"nan\",\"nan\",\"nan\",\"nan\",\"nan\",\"nan\",\"nan\",\"nan\",\"nan\",\"nan\",\"nan\",\"nan\",\"nan\",\"nan\",\"nan\",\"nan\",\"nan\",\"nan\",\"nan\",\"nan\",\"nan\",\"nan\",\"nan\",\"nan\",\"nan\",\"nan\",\"nan\",\"nan\",\"nan\",\"nan\",\"nan\",\"nan\",\"nan\",\"nan\",\"nan\",\"nan\",\"nan\",\"nan\",\"nan\",\"nan\",\"nan\",\"nan\",\"nan\",\"nan\",\"nan\",\"nan\",\"nan\",\"nan\",\"nan\",\"nan\",\"nan\",\"nan\",\"nan\",\"nan\",\"nan\",\"nan\",\"nan\",\"nan\",\"nan\",\"nan\",\"nan\",\"nan\",\"nan\",\"nan\",\"nan\",\"nan\",\"nan\",\"nan\",\"nan\",\"nan\",\"nan\",\"nan\",\"nan\",\"nan\",\"nan\",\"nan\",\"nan\",\"nan\",\"nan\",\"nan\",\"nan\",\"nan\",\"nan\",\"nan\",\"nan\",\"nan\",\"nan\",\"nan\",\"nan\",\"nan\",\"nan\",\"nan\",\"nan\",\"nan\",\"nan\",\"nan\",\"nan\",\"nan\",\"nan\",\"nan\",\"nan\",\"nan\",\"nan\",\"nan\",\"nan\",\"nan\",\"nan\",\"nan\",\"nan\",\"nan\",\"nan\",\"nan\",\"nan\",\"nan\",\"nan\",\"nan\",\"nan\",\"nan\",\"nan\",\"nan\",\"nan\",\"nan\",\"nan\",\"nan\",\"nan\",\"nan\",\"nan\",\"nan\",\"nan\",\"nan\",\"nan\",\"nan\",\"nan\",\"nan\",\"nan\",\"nan\",\"nan\",\"nan\",\"nan\",\"nan\",\"nan\",\"nan\",\"nan\",\"nan\",\"nan\",\"nan\",\"nan\",\"nan\",\"nan\",\"nan\",\"nan\",\"nan\",\"nan\",\"nan\",\"nan\",\"nan\",\"nan\",\"nan\",\"nan\",\"nan\",\"nan\",\"nan\",\"nan\",\"nan\",\"nan\",\"nan\",\"nan\",\"nan\",\"nan\",\"nan\",\"nan\",\"nan\",\"nan\",\"nan\",\"nan\",\"nan\",\"nan\",\"nan\",\"nan\",\"nan\",\"nan\",\"nan\",\"nan\",\"nan\",\"nan\",\"nan\",\"nan\",\"nan\",\"nan\",\"nan\",\"nan\",\"nan\",\"nan\",\"nan\",\"nan\",\"nan\",\"nan\",\"nan\",\"nan\",\"nan\",\"nan\",\"nan\",\"nan\",\"nan\",\"nan\",\"nan\",\"nan\",\"nan\",\"nan\",\"nan\",\"nan\",\"nan\",\"nan\",\"nan\",\"nan\",\"nan\",\"nan\",\"nan\",\"nan\",\"nan\",\"nan\",\"nan\",\"nan\",\"nan\",\"nan\",\"nan\",\"nan\",\"nan\",\"nan\",\"nan\",\"nan\",\"nan\",\"nan\",\"nan\",\"nan\",\"nan\",\"nan\",\"nan\",\"nan\",\"nan\",\"nan\",\"nan\",\"nan\",\"nan\",\"nan\",\"nan\",\"nan\",\"nan\",\"nan\",\"nan\"],\"index\":[0,1,2,3,4,5,6,7,8,9,10,11,12,13,14,15,16,17,18,19,20,21,22,23,24,25,26,27,28,29,30,31,32,33,34,35,36,37,38,39,40,41,42,43,44,45,46,47,48,49,50,51,52,53,54,55,56,57,58,59,60,61,62,63,64,65,66,67,68,69,70,71,72,73,74,75,76,77,78,79,80,81,82,83,84,85,86,87,88,89,90,91,92,93,94,95,96,97,98,99,100,101,102,103,104,105,106,107,108,109,110,111,112,113,114,115,116,117,118,119,120,121,122,123,124,125,126,127,128,129,130,131,132,133,134,135,136,137,138,139,140,141,142,143,144,145,146,147,148,149,150,151,152,153,154,155,156,157,158,159,160,161,162,163,164,165,166,167,168,169,170,171,172,173,174,175,176,177,178,179,180,181,182,183,184,185,186,187,188,189,190,191,192,193,194,195,196,197,198,199,200,201,202,203,204,205,206,207,208,209,210,211,212,213,214,215,216,217,218,219,220,221,222,223,224,225,226,227,228,229,230,231,232,233,234,235,236,237,238,239,240,241,242,243,244,245,246,247,248,249,250,251,252,253,254,255,256,257,258,259,260,261,262,263,264,265,266,267,268,269,270,271,272,273,274,275,276,277,278,279,280,281,282,283,284,285,286,287,288,289,290,291,292,293,294,295,296,297,298,299,300,301,302,303,304,305,306,307,308,309,310,311,312,313,314,315,316,317,318,319,320],\"lda_topics\":[14,3,5,14,3,11,9,7,0,5,14,2,8,3,14,0,4,7,2,2,7,12,2,7,11,0,7,4,10,5,10,10,3,14,4,9,5,9,6,9,3,7,14,0,3,5,9,10,11,2,3,8,8,1,8,5,1,5,11,5,7,8,11,13,0,4,13,6,3,6,0,6,10,12,9,13,13,5,3,9,12,2,6,9,9,6,3,0,6,0,11,9,6,11,9,7,4,4,7,3,8,5,4,0,0,11,7,0,3,2,12,13,9,2,7,13,3,0,0,8,2,8,13,1,8,5,2,6,4,3,12,7,9,13,3,10,4,5,11,1,5,4,7,0,11,5,0,11,8,4,13,12,9,4,7,12,12,6,3,2,14,13,7,12,1,7,1,8,1,6,2,7,0,3,14,1,7,12,11,12,14,7,4,2,6,2,4,5,8,12,7,0,11,1,5,0,8,2,2,4,13,6,6,3,14,2,1,10,10,9,5,8,1,5,1,14,5,4,4,0,5,3,14,7,11,14,1,1,3,12,13,8,13,2,1,11,6,1,6,14,12,1,0,1,10,13,6,12,2,2,2,13,6,10,1,10,12,14,10,12,7,2,8,5,7,13,7,4,9,12,2,2,4,13,9,7,7,6,10,13,14,12,12,8,8,6,10,1,8,8,6,9,13,11,7,14,8,9,6,7,12,1,4,6,14,11,8,9,11,2,5,4,0,3,2,4,2,10,11,7,5],\"lda_x\":[-1.7966625370471403,-7.874240603252143,11.129992021945343,-1.2523515862302852,2.954803454403016,2.451669977636186,-5.770726987088533,3.3862648826855812,5.944974516841627,11.913668402801667,-2.6698105419319735,-8.733578893098171,-8.664068245916292,3.255248609437189,-1.499874163311951,7.75203866277228,2.0305002497417766,2.892355762347023,-12.437345037771442,-9.933322299008001,0.051037432398572655,-6.5959051031358005,-1.16429667375987,3.6844310649981784,5.455319819782048,5.747266986145571,3.311963505441643,1.9643830802550923,9.494145149477221,9.69218393387137,8.487332452857524,-3.506147544904769,4.245944632065306,-1.8722614704968652,2.332399509007128,-5.372866960804541,10.933810014714755,-5.906075653778674,-2.504050714993093,-5.31105028890599,3.0206017202835325,3.6176253522867827,-2.1442646040353135,7.963560713089195,3.8024236093717754,12.062139798497626,-5.591572536831981,9.460900880103141,3.226553432446545,-10.771847699136863,3.493571769390233,-7.638543301016942,-8.223711855951606,7.191276232259918,-6.855383858858836,11.283285037662594,7.488953642075683,-3.907018142594825,1.920036290816187,9.649117960754829,2.876130567907019,-6.756838877096841,-0.4708702110848465,-1.2121966413773417,7.089584629689858,1.870612443676887,-1.2218602198183086,-4.529070126831085,2.56480860618804,-4.3722472495873115,5.509029462415887,-5.115477637269855,9.299320835583487,-4.773372592291982,9.425380817485406,-5.373394117908619,-1.1409018945303304,9.72420383076695,-7.958349232703104,9.066617438236772,-5.933133977660715,-11.954236308168054,-5.039173936908565,-1.4254868215242278,-5.685830292044956,-3.314096913745668,8.611449727433307,6.7659186180957995,-4.798071368634397,6.969032667177196,3.1967037735649666,-1.288550656263317,-4.994387287337325,-5.0166656839396735,-5.81409056896764,3.9211238462057176,2.969434970316306,2.6729543548914414,-3.454039752563788,1.9351804966730848,-4.7799190310880695,11.237305649562147,1.9576376143023184,-1.6672220241115216,6.829122858354414,2.7610770553195847,3.4629472686262415,6.219578820333925,4.264884363501243,-12.180451646832903,-4.21915781835252,-1.156849124186631,-4.678787064681739,-10.140416903585757,1.3985473532657078,-1.1388759202588652,2.45675024224767,7.527759035430924,7.608482288297859,-4.211463280827389,-11.013139606350453,-4.087157697889731,4.05891829451202,8.12013824011721,-8.703177418139912,9.584197568874723,-10.594423240912631,-3.2625600146738543,1.1376071781295671,-5.019516923839606,-7.5705146993439705,2.5009826979319896,-5.848543370997816,-0.4563119955178557,2.4421176751813394,-2.7825995548816382,1.9595617372556693,10.050226969441079,2.97571065069601,8.36814736407058,10.050226969441079,0.6230702870315905,1.8441234053914026,7.573947054289873,3.12511178978049,10.715406073002178,8.09849207754443,-0.5950500002414929,-6.858347073004728,4.845187629418635,-0.883118386996356,-6.274272118630389,-5.35444610247207,-1.128714990387941,1.4050680285123274,-7.699345405833751,-6.528652417614415,-4.879364026892747,1.986123111853948,-11.109067313740539,-2.518982734470433,-2.0149193381316093,2.1708380148764226,-7.425234190992481,8.125800419517876,1.8424002235235195,7.8595774283191,-7.641140261073836,6.264220918161029,-4.901952006210556,-10.088874018937842,2.8995147507898418,6.199898029436381,4.086032186204003,-5.300001915047329,6.534456471057182,0.08566361146721387,-5.723485500726598,2.3973286880860134,-7.787691560516783,0.029605322352033985,-0.44438815699692674,0.4561593322289921,-8.578973804757098,-4.872132528249466,2.1812190816250867,-3.972763387892144,11.82531596431254,-8.336419404954558,-6.793847727848241,1.9978691312091197,7.1433151929605465,2.243881763713338,7.893212561781853,-0.6722121979288865,7.072619262246781,-8.617347592994498,-11.228195174949754,-8.87137611722316,-0.1559307606318482,3.3834955782744176,-4.179969987019016,-4.068982982023108,2.31414484073816,-8.48659247477428,-11.925335362914502,7.3456345232215385,-3.6570121909311215,9.152331571384051,0.36480906360591153,9.72420383076695,-6.833823115958507,-0.24004583791152312,10.92110394064417,7.654468650876477,-1.7697645393200359,11.25557161895547,2.9055637148432485,3.145157800316026,8.083311686472609,11.776305297154432,3.350654295197114,-1.8029490823840084,3.1614258871648384,2.726613140818031,0.42925556455979436,7.29392028278168,8.289422730302357,3.481221018987449,-5.214751037009482,-1.2141525200082985,-6.6967173013039565,-1.2227190190497328,-8.826278417267183,7.6968644466143985,2.9400668393365117,-2.3193511625302756,8.746175959280118,-4.6031826289709405,-1.440730224629739,-7.376593427990208,7.169269757985965,7.598986721038303,7.996724773156831,9.920579258709527,-0.18512904708629652,-4.353162974438188,-5.784069066695925,-11.810825142110389,-10.151949262350817,-11.648351289675285,-0.4563119955178557,-5.242422438691205,9.292844429721141,-10.356679561879034,0.5171840731191907,-7.045178091824661,0.2504975249787335,10.154379406687443,-5.954512880902637,2.7870506101599353,-11.224918951786252,-8.046716101067828,11.122164827466984,3.6516594124153916,-0.07302939471214653,1.793262192027788,1.3607000648194438,-6.410897558929853,-6.298898382359135,-8.700837949913977,-9.725466325475482,0.7844554179908778,-1.222203643935018,-5.031804056808243,1.7532080930154157,4.0241276058329785,-8.831903027126781,9.462753524128711,-0.8579404402366392,-0.054928253515813305,-7.639934369345105,-7.171636416704226,-4.174941447270368,-7.243381406303997,1.4432413891822897,8.945064433573664,5.928526448450148,-6.756571441871105,-10.20346687285871,-5.333939643577776,-5.254888915532307,-0.4563119955178557,-1.70092734505349,2.3306107638807347,-2.1094592984046665,-5.599487879920195,-5.170149658492877,-4.632427119990367,3.0441188152879204,-7.856413083304399,6.795732797565261,2.5891233140335026,-0.5985017594648077,-1.4035331855047641,1.9568709869852152,-6.615988817621509,-5.8747738659606155,2.7579306972273026,-10.39095780781929,11.94014942163117,5.35445446773409,7.164548204345333,3.803700128221819,-10.321442533275158,-0.2404624961431987,-11.373332797236628,10.151945283170607,2.7961569544942764,2.816397177896854,10.01987591936004],\"lda_y\":[12.116270603923837,-0.011675161957991448,7.124999059539314,10.171375587776932,1.2019576191357528,-13.746318395157813,-10.30623175446486,9.352868787764171,-4.386012232638076,7.026119566970499,11.16964066493935,0.5304462612655143,-6.116640353245414,1.789018140009061,11.206892004781867,-0.4163550465807049,-6.8521909409878665,8.843312403545735,-0.8895966864117609,0.5499601943582727,6.288496681979925,7.521877111930814,-6.132993224726668,9.94404682276592,-11.138279803771633,-1.6088889153799195,9.706538893452622,-6.912683358799756,1.8898691413278954,5.039246275032003,2.0675210484617916,6.018289611354051,1.3715807895762697,11.060460456948825,-5.710923262064054,-11.040329149857385,5.445240812074979,-11.313681595646825,2.772229609704279,-8.279914826044513,-0.4437422528765015,8.542287657391565,11.201675951147198,-1.8567328156264598,1.5053087531377896,7.237459536985387,-10.651169887695806,3.937935900163448,-12.64603591202956,-1.349107294375858,0.7637178452170336,-5.79884464187716,-5.909840400481055,-9.95134920645484,-6.028680780239156,6.791163261773839,-9.671335394970209,-4.781344765479507,-12.532894571910619,4.142934441061284,9.063510304122197,-5.230926018516215,8.395629996595199,-2.6913626475046204,-3.220531040262293,-7.605275300589009,-1.345671543812024,1.322796753115375,0.21707899870073855,2.9116515051504943,-3.1312672066766467,2.1188101271504642,3.300720923108612,6.538093567809658,8.05099027139345,-3.5778579025090735,-2.2718829358487977,6.10122458433734,0.040321592990886654,8.410915315036153,7.0788155590390165,1.2899214108898451,4.615518824287273,3.768621110400065,-11.580613103414825,2.6452740950239244,4.719251829755812,-3.120600819852707,3.0709428054410304,-2.286162677371049,-13.802676649084335,3.9734736285957855,2.391167661777854,-8.013107371552994,-11.596884372239609,9.51401287648144,-7.445108112852415,-6.22133586383849,7.342925629506867,1.0045510553485004,-5.109589549610529,6.383936129077979,-6.402558550525294,1.4744785345097888,-4.307355360528629,-14.280000601322335,9.180530756133702,-3.36874800025938,0.6076632791260652,-0.7223019289688217,7.14305145474674,-1.9582531879231317,-10.924343329934459,0.37205242596724936,8.682104765665246,-2.432178050884495,1.197726170098801,-3.3126727683638646,-3.5670893856135195,-4.5003233013758726,-1.478658140542463,-5.161220049242918,4.425582632663292,-10.316507838915983,-6.1450125788808325,7.992579874306998,-1.2949099491942415,2.5208238943166523,-5.065885113067296,-5.31423471980392,9.08367062371469,9.903036123320557,-10.922721222515158,2.777786471141345,1.6017526588179454,5.433585536852741,-6.403597814511404,7.582600379848636,-12.862494331412744,-7.867930764718119,7.582600379848636,-6.65167489962229,5.5169053060550075,-2.6146067254512584,-13.621670739266175,6.318528440954131,-1.6480324495322747,7.696668691936724,-5.755261104261091,-4.621487681884488,-1.5913660483057241,7.594298119068906,-9.918982455226743,-5.531602247288046,8.110756995608345,6.106356099059386,9.11221424543186,1.0625999557826675,0.4936204361583119,-0.7911842813047955,10.59501755552098,-1.1968517963472864,5.488854942699499,8.542615283509633,-10.479821979375822,8.920909341065746,-8.469782627220374,-5.820149421472443,-9.90311131921837,0.34970413733013445,-0.9180671323148779,6.779973119500378,-1.5199264307846485,0.9648940348262091,9.681405787929096,-8.722851894006176,6.4146692699275505,6.6803914840698075,-14.22245496816338,9.113404760778359,7.996084257857999,5.281969958140897,-6.576686424387207,-1.1610948587275125,0.44512053483473796,4.84590886234806,5.725588393974163,6.682438280613083,-6.405196301979846,7.903089648544248,7.510338471045902,-3.918729743681007,-13.096529254678366,-9.951537402084842,-5.402950626280939,-3.857834294440293,-6.385174678818829,0.2953992917521362,2.2137278666574924,-6.38561451557686,4.710824503533012,1.9961990152076752,2.023749151667385,-0.4850130230439913,-2.3593527404756123,-0.6537151095448275,-8.867896210337829,6.6343040862440095,1.0573328023517337,4.635446101627674,6.101224584337341,-4.583159419330662,1.3544514656015585,6.493014879609162,-7.626576556437503,9.021270797779698,6.373274214082107,-5.458837039707845,-7.415192261807122,-3.418100564570242,5.935156380507633,0.5814385845626717,12.007875535590847,9.507341079136705,-14.462938762320357,9.039762155922984,-9.091346645085965,-10.365175091872175,1.1348974772143996,8.19515000034159,-2.5909920860367843,-5.0525708922404595,-1.3460177477795536,-0.3486874720831962,-9.450398435120011,-12.733764677036357,1.2057929815879773,-8.809092849717134,2.0134012421607843,11.33045336284226,7.820714002092117,-10.249801424663126,-6.374544760450935,-9.873838777885755,1.501301610055754,0.6709695543373321,2.251067974831742,6.650149623069931,0.938557289060538,0.45712494384685187,0.7811210098076726,2.777786471141345,1.9119501928286695,1.3407915669551986,2.0958972074478703,2.7519784031966035,8.196722349518309,4.728676416454089,1.4253683727235238,7.996665141394706,6.700773287303396,-0.3790729655434292,-6.113238862616415,5.833797604623986,7.568726556503382,0.2799087220609722,6.9218337553648865,-6.638080387796232,-10.506842180590604,8.646135710008101,0.36524537241662436,1.8096125163020096,-5.8446981182192905,-0.16321544270134766,-9.427943030463243,8.85761329241817,8.927972071905993,2.2691224313023,1.682622896347469,-0.8022311608888476,6.381151582169538,7.30947855785901,7.936494077177784,-4.774098651757376,-4.391478412877425,1.7635632633073537,2.22845515838168,-10.596569496986596,-5.22850072773792,-2.0047231186596846,2.7580876333864826,-8.563574128714636,2.777786471141345,8.908026168229146,7.77907098356449,10.676064270001909,-3.9046294147558522,-11.06042993952939,2.5977456028794434,6.733273985357256,8.814083289070002,-7.119852806180698,-5.917208382805652,5.207557321703389,10.58798719178938,-12.378410500374667,-6.819350196527581,-11.10232509426178,-14.078197933371207,-0.024550892125661666,5.824555008653372,-8.304153928476216,-2.7370497544336034,1.2930772700377928,1.8543500776940218,-6.603981788854059,-0.3574432719306853,1.4863111989033353,-13.788560415831215,7.95764003886334,4.737997107960688],\"line_color\":[\"#cb4053\",\"#c3e14c\",\"#68af4e\",\"#cb4053\",\"#c3e14c\",\"#3f6d31\",\"#5fdfa8\",\"#e3be38\",\"#6d8dca\",\"#68af4e\",\"#cb4053\",\"#723bca\",\"#4e2d7c\",\"#c3e14c\",\"#cb4053\",\"#6d8dca\",\"#c84dc9\",\"#e3be38\",\"#723bca\",\"#723bca\",\"#e3be38\",\"#d44427\",\"#723bca\",\"#e3be38\",\"#3f6d31\",\"#6d8dca\",\"#e3be38\",\"#c84dc9\",\"#d34690\",\"#68af4e\",\"#d34690\",\"#d34690\",\"#c3e14c\",\"#cb4053\",\"#c84dc9\",\"#5fdfa8\",\"#68af4e\",\"#5fdfa8\",\"#6e6cd5\",\"#5fdfa8\",\"#c3e14c\",\"#e3be38\",\"#cb4053\",\"#6d8dca\",\"#c3e14c\",\"#68af4e\",\"#5fdfa8\",\"#d34690\",\"#3f6d31\",\"#723bca\",\"#c3e14c\",\"#4e2d7c\",\"#4e2d7c\",\"#69de53\",\"#4e2d7c\",\"#68af4e\",\"#69de53\",\"#68af4e\",\"#3f6d31\",\"#68af4e\",\"#e3be38\",\"#4e2d7c\",\"#3f6d31\",\"#7fcdd8\",\"#6d8dca\",\"#c84dc9\",\"#7fcdd8\",\"#6e6cd5\",\"#c3e14c\",\"#6e6cd5\",\"#6d8dca\",\"#6e6cd5\",\"#d34690\",\"#d44427\",\"#5fdfa8\",\"#7fcdd8\",\"#7fcdd8\",\"#68af4e\",\"#c3e14c\",\"#5fdfa8\",\"#d44427\",\"#723bca\",\"#6e6cd5\",\"#5fdfa8\",\"#5fdfa8\",\"#6e6cd5\",\"#c3e14c\",\"#6d8dca\",\"#6e6cd5\",\"#6d8dca\",\"#3f6d31\",\"#5fdfa8\",\"#6e6cd5\",\"#3f6d31\",\"#5fdfa8\",\"#e3be38\",\"#c84dc9\",\"#c84dc9\",\"#e3be38\",\"#c3e14c\",\"#4e2d7c\",\"#68af4e\",\"#c84dc9\",\"#6d8dca\",\"#6d8dca\",\"#3f6d31\",\"#e3be38\",\"#6d8dca\",\"#c3e14c\",\"#723bca\",\"#d44427\",\"#7fcdd8\",\"#5fdfa8\",\"#723bca\",\"#e3be38\",\"#7fcdd8\",\"#c3e14c\",\"#6d8dca\",\"#6d8dca\",\"#4e2d7c\",\"#723bca\",\"#4e2d7c\",\"#7fcdd8\",\"#69de53\",\"#4e2d7c\",\"#68af4e\",\"#723bca\",\"#6e6cd5\",\"#c84dc9\",\"#c3e14c\",\"#d44427\",\"#e3be38\",\"#5fdfa8\",\"#7fcdd8\",\"#c3e14c\",\"#d34690\",\"#c84dc9\",\"#68af4e\",\"#3f6d31\",\"#69de53\",\"#68af4e\",\"#c84dc9\",\"#e3be38\",\"#6d8dca\",\"#3f6d31\",\"#68af4e\",\"#6d8dca\",\"#3f6d31\",\"#4e2d7c\",\"#c84dc9\",\"#7fcdd8\",\"#d44427\",\"#5fdfa8\",\"#c84dc9\",\"#e3be38\",\"#d44427\",\"#d44427\",\"#6e6cd5\",\"#c3e14c\",\"#723bca\",\"#cb4053\",\"#7fcdd8\",\"#e3be38\",\"#d44427\",\"#69de53\",\"#e3be38\",\"#69de53\",\"#4e2d7c\",\"#69de53\",\"#6e6cd5\",\"#723bca\",\"#e3be38\",\"#6d8dca\",\"#c3e14c\",\"#cb4053\",\"#69de53\",\"#e3be38\",\"#d44427\",\"#3f6d31\",\"#d44427\",\"#cb4053\",\"#e3be38\",\"#c84dc9\",\"#723bca\",\"#6e6cd5\",\"#723bca\",\"#c84dc9\",\"#68af4e\",\"#4e2d7c\",\"#d44427\",\"#e3be38\",\"#6d8dca\",\"#3f6d31\",\"#69de53\",\"#68af4e\",\"#6d8dca\",\"#4e2d7c\",\"#723bca\",\"#723bca\",\"#c84dc9\",\"#7fcdd8\",\"#6e6cd5\",\"#6e6cd5\",\"#c3e14c\",\"#cb4053\",\"#723bca\",\"#69de53\",\"#d34690\",\"#d34690\",\"#5fdfa8\",\"#68af4e\",\"#4e2d7c\",\"#69de53\",\"#68af4e\",\"#69de53\",\"#cb4053\",\"#68af4e\",\"#c84dc9\",\"#c84dc9\",\"#6d8dca\",\"#68af4e\",\"#c3e14c\",\"#cb4053\",\"#e3be38\",\"#3f6d31\",\"#cb4053\",\"#69de53\",\"#69de53\",\"#c3e14c\",\"#d44427\",\"#7fcdd8\",\"#4e2d7c\",\"#7fcdd8\",\"#723bca\",\"#69de53\",\"#3f6d31\",\"#6e6cd5\",\"#69de53\",\"#6e6cd5\",\"#cb4053\",\"#d44427\",\"#69de53\",\"#6d8dca\",\"#69de53\",\"#d34690\",\"#7fcdd8\",\"#6e6cd5\",\"#d44427\",\"#723bca\",\"#723bca\",\"#723bca\",\"#7fcdd8\",\"#6e6cd5\",\"#d34690\",\"#69de53\",\"#d34690\",\"#d44427\",\"#cb4053\",\"#d34690\",\"#d44427\",\"#e3be38\",\"#723bca\",\"#4e2d7c\",\"#68af4e\",\"#e3be38\",\"#7fcdd8\",\"#e3be38\",\"#c84dc9\",\"#5fdfa8\",\"#d44427\",\"#723bca\",\"#723bca\",\"#c84dc9\",\"#7fcdd8\",\"#5fdfa8\",\"#e3be38\",\"#e3be38\",\"#6e6cd5\",\"#d34690\",\"#7fcdd8\",\"#cb4053\",\"#d44427\",\"#d44427\",\"#4e2d7c\",\"#4e2d7c\",\"#6e6cd5\",\"#d34690\",\"#69de53\",\"#4e2d7c\",\"#4e2d7c\",\"#6e6cd5\",\"#5fdfa8\",\"#7fcdd8\",\"#3f6d31\",\"#e3be38\",\"#cb4053\",\"#4e2d7c\",\"#5fdfa8\",\"#6e6cd5\",\"#e3be38\",\"#d44427\",\"#69de53\",\"#c84dc9\",\"#6e6cd5\",\"#cb4053\",\"#3f6d31\",\"#4e2d7c\",\"#5fdfa8\",\"#3f6d31\",\"#723bca\",\"#68af4e\",\"#c84dc9\",\"#6d8dca\",\"#c3e14c\",\"#723bca\",\"#c84dc9\",\"#723bca\",\"#d34690\",\"#3f6d31\",\"#e3be38\",\"#68af4e\"],\"tags\":[\"Industries: Education Tech, Enterprise Application\",\"Industries: Education Tech, Crowdfunding\",\"Industries: Education Tech, Adaptive Learning\",\"Industries: Education Tech, Educational Games\",\"Industries: Education Tech, Tutor Services\",\"Industries: Education Tech, Learning Management\",\"Industries: Education Tech, Study Tools\",\"Industries: Education Tech, Language Learning\",\"Industries: Education Tech, Education Tech, Adaptive Learning\",\"Industries: Education Tech, Reviews & Recommendations\",\"Industries: Education Tech\",\"Industries: Education Tech, Adaptive Learning\",\"Industries: Education Tech, Marketplaces\",\"Industries: Education Tech, Search\",\"Industries: Education Tech\",\"Industries: Education Tech, Fitness\",\"Industries: Communities, Education Tech\",\"Industries: Education Tech, Tutor Services\",\"Industries: Education Tech, Learning Management\",\"Industries: Education Tech, Administration Tools\",\"Industries: Education Tech, Language Learning\",\"Industries: Education Tech, SaaS\",\"Industries: Education Tech, Tutor Services\",\"Industries: Education Tech, Tech Learning\",\"Industries: Education Tech, Language Learning\",\"Industries: Education Tech\",\"Industries: Education Tech, Personal Finance\",\"Industries: Education Tech, Learning Management\",\"Industries: Education Tech, Educational Games\",\"Industries: Education Tech, Search\",\"Industries: Education Tech, K-12 Education\",\"Industries: Education Tech\",\"Industries: Education Tech\",\"Industries: Collaboration, Education Tech\",\"Industries: Education Tech, Social Media Marketing\",\"Industries: Internet Technology, Education Tech\",\"Industries: Social Networking, Education Tech\",\"Industries: Education Tech\",\"Industries: Education Tech\",\"Industries: Non Profit, Education Tech\",\"Industries: Education Tech, Social Networking\",\"Industries: Education Tech\",\"Industries: Education Tech\",\"Industries: Education Tech, K-12 Education\",\"Industries: Education Tech\",\"Industries: Education Tech\",\"Industries: Education Tech\",\"Industries: Education Tech\",\"Industries: Lifestyle Businesses, Education Tech\",\"Industries: Education Tech\",\"Industries: Education Tech, SaaS\",\"Industries: Education Tech\",\"Industries: Education Tech\",\"Industries: Education Tech, Communities\",\"Industries: Education Tech\",\"Industries: Education Tech\",\"Industries: Education Tech, K-12 Education\",\"Industries: Education Tech\",\"Industries: Education Tech, Tech Learning\",\"Industries: Education Tech, Retail\",\"Industries: Education Tech\",\"Industries: Education Tech, Casual Games\",\"Industries: Education Tech\",\"Industries: Education Tech, Software\",\"Industries: Education Tech, Social Networking\",\"Industries: Education Tech, Marketplaces\",\"Industries: Services, Education Tech\",\"Industries: Education Tech\",\"Industries: Education Tech\",\"Industries: Education Tech\",\"Industries: Education Tech, Educational Games\",\"Industries: Education Tech\",\"Industries: Education Tech, Portals\",\"Industries: Education Tech, Services\",\"Industries: Education Tech\",\"Industries: Education Tech\",\"Industries: Services, Education Tech\",\"Industries: Education Tech, Digital Media\",\"Industries: Education Tech, E-Books\",\"Industries: Services, Education Tech\",\"Industries: Education Tech, Big Data\",\"Industries: Education Tech, Software\",\"Industries: Education Tech, Marketplaces\",\"Industries: Education Tech, E-Books\",\"Industries: Education Tech\",\"Industries: Education Tech\",\"Industries: Education Tech\",\"Industries: Education Tech, Peer Economy\",\"Industries: Web Development, Education Tech\",\"Industries: Education Tech\",\"Industries: Education Tech, Social Media Platforms\",\"Industries: Education Tech\",\"Industries: Education Tech\",\"Industries: Education Tech\",\"Industries: Education Tech, Professional Networking\",\"Industries: Web, Education Tech\",\"Industries: Education Tech, Social Games\",\"Industries: Education Tech, Portals\",\"Industries: Education Tech\",\"Industries: Services, Education Tech\",\"Industries: Education Tech, Marketplaces\",\"Industries: Education Tech\",\"Industries: Education Tech\",\"Industries: Education Tech, Crowdfunding\",\"Industries: Humanitarian, Education Tech\",\"Industries: Education Tech\",\"Industries: Education Tech\",\"Industries: Web Development, Education Tech\",\"Industries: Brand Marketing, Education Tech\",\"Industries: Education Tech\",\"Industries: Education Tech, Crowdfunding\",\"Industries: K-12 Education, Education Tech\",\"Industries: Education Tech, Marketplaces\",\"Industries: Education Tech, Social Networking\",\"Industries: Education Tech\",\"Industries: Education Tech\",\"Industries: Education Tech\",\"Industries: Education Tech\",\"Industries: Education Tech\",\"Industries: Education Tech\",\"Industries: Education Tech, Portals\",\"Industries: Education Tech, Consumers\",\"Industries: Services, Education Tech\",\"Industries: Education Tech\",\"Industries: Education Tech\",\"Industries: Education Tech\",\"Industries: Services, Education Tech\",\"Industries: Education Tech\",\"Industries: Education Tech\",\"Industries: Education Tech\",\"Industries: Education Tech\",\"Industries: Education Tech, Gamification\",\"Industries: Education Tech, Development Platforms\",\"Industries: Education Tech\",\"Industries: Education Tech\",\"Industries: Education Tech\",\"Industries: Education Tech\",\"Industries: Education Tech, E-Commerce Platforms\",\"Industries: Digital Media, Education Tech\",\"Industries: Education Tech, Social Networking\",\"Industries: Education Tech, Portals\",\"Industries: Internet Marketing, Education Tech\",\"Industries: Education Tech\",\"Industries: Education Tech\",\"Industries: Education Tech, Social Media\",\"Industries: Education Tech, Portals\",\"Industries: Education Tech\",\"Industries: Education Tech, Games\",\"Industries: Services, Education Tech\",\"Industries: Education Tech\",\"Industries: Education Tech\",\"Industries: Education Tech\",\"Industries: Services, Education Tech\",\"Industries: Advertising, Education Tech\",\"Industries: Education Tech, K-12 Education\",\"Industries: Education Tech\",\"Industries: Education Tech, Educational Games\",\"Industries: Education Tech, Subscription Commerce\",\"Industries: Education Tech\",\"Industries: Education Tech\",\"Industries: Education Tech, Communities\",\"Industries: Services, Education Tech\",\"Industries: Education Tech\",\"Industries: Education Tech\",\"Industries: Education Tech\",\"Industries: Education Tech, Developer Tools\",\"Industries: Education Tech, Developer Tools\",\"Industries: Education Tech\",\"Industries: Education Tech\",\"Industries: Internet Marketing, Education Tech\",\"Industries: Education Tech\",\"Industries: Education Tech, Digital Media\",\"Industries: Education Tech, E-Commerce Platforms\",\"Industries: Education Tech, Social Networking\",\"Industries: Education Tech\",\"Industries: Education Tech\",\"Industries: Education Tech, K-12 Education\",\"Industries: Services, Education Tech\",\"Industries: Software, Education Tech\",\"Industries: Education Tech\",\"Industries: Learning Management, Education Tech\",\"Industries: Education Tech, Communities\",\"Industries: Education Tech, Software\",\"Industries: Education Tech, Social Media\",\"Industries: Education Tech\",\"Industries: Education Tech\",\"Industries: Education Tech\",\"Industries: Comparison, Education Tech\",\"Industries: Educational Games, Education Tech\",\"Industries: K-12 Education, Education Tech\",\"Industries: Education Tech\",\"Industries: Education Tech\",\"Industries: Education Tech\",\"Industries: Education Tech, Big Data\",\"Industries: Education Tech, Marketplaces\",\"Industries: Web Development, Education Tech\",\"Industries: Education Tech\",\"Industries: Education Tech\",\"Industries: Education Tech, SaaS\",\"Industries: Education Tech\",\"Industries: Education Tech\",\"Industries: Designers, Education Tech\",\"Industries: Services, Education Tech\",\"Industries: Education Tech\",\"Industries: Education Tech\",\"Industries: Education Tech\",\"Industries: Education Tech, Social Media Platforms\",\"Industries: Education Tech\",\"Industries: Education Tech, Audiobooks\",\"Industries: Lifestyle Businesses, Education Tech\",\"Industries: Education Tech\",\"Industries: Education Tech, Environmental Innovation\",\"Industries: Education Tech, E-Books\",\"Industries: E-Commerce Platforms, Education Tech\",\"Industries: Education Tech\",\"Industries: Education Tech\",\"Industries: Education Tech, News\",\"Industries: Education Tech, SaaS\",\"Industries: Education Tech\",\"Industries: Education Tech\",\"Industries: Education Tech\",\"Industries: Education Tech\",\"Industries: Education Tech\",\"Industries: Education Tech\",\"Industries: Software, Education Tech\",\"Industries: Education Tech\",\"Industries: Education Tech\",\"Industries: Education Tech\",\"Industries: Education Tech\",\"Industries: Education Tech\",\"Industries: Education Tech\",\"Industries: Education Tech\",\"Industries: Education Tech\",\"Industries: Education Tech, Productivity Software\",\"Industries: Education Tech\",\"Industries: Education Tech\",\"Industries: Education Tech, Portals\",\"Industries: Services, Education Tech\",\"Industries: Education Tech, Marketplaces\",\"Industries: Education Tech\",\"Industries: Education Tech\",\"Industries: Education Tech, Social Media\",\"Industries: Web Development, Education Tech\",\"Industries: Education Tech, 3D\",\"Industries: Education Tech\",\"Industries: Education Tech, Enterprise Application\",\"Industries: Education Tech, SaaS\",\"Industries: Education Tech\",\"Industries: Education Tech\",\"Industries: Education Tech, Finance Technology\",\"Industries: Education Tech\",\"Industries: SaaS, Education Tech\",\"Industries: Education Tech\",\"Industries: Social Media Monitoring, Education Tech\",\"Industries: Education Tech\",\"Industries: Education Tech, Mobile Commerce\",\"Industries: Education Tech\",\"Industries: Services, Education Tech\",\"Industries: Education Tech, Travel & Tourism\",\"Industries: Education Tech\",\"Industries: Education Tech\",\"Industries: Education Tech, Predictive Analytics\",\"Industries: Education Tech\",\"Industries: Web, Education Tech\",\"Industries: Education Tech\",\"Industries: Education Tech\",\"Industries: Education Tech\",\"Industries: 3D Technology, Education Tech\",\"Industries: Education Tech\",\"Industries: Services, Education Tech\",\"Industries: Reviews & Recommendations, Education Tech\",\"Industries: Education Tech, E-Commerce Platforms\",\"Industries: Human Resource, Education Tech\",\"Industries: Education Tech\",\"Industries: Education Tech, Creative\",\"Industries: Education Tech, K-12 Education\",\"Industries: Education Tech, K-12 Education\",\"Industries: Education Tech\",\"Industries: Life Sciences, Education Tech\",\"Industries: Education Tech, Health Care\",\"Industries: Education Tech\",\"Industries: Curated Web, Education Tech\",\"Industries: Next Gen School, Education Tech\",\"Industries: Education Tech, Portals\",\"Industries: Education Tech\",\"Industries: Education Tech, Marketplaces\",\"Industries: Internet Technology, Education Tech\",\"Industries: Education Tech, E-Books\",\"Industries: Education Tech\",\"Industries: Education Tech\",\"Industries: Personal Finance, Education Tech\",\"Industries: Education Tech\",\"Industries: Education Tech\",\"Industries: Education Tech\",\"Industries: Education Tech\",\"Industries: Education Tech, E-Books\",\"Industries: Education Tech\",\"Industries: Local Search, Education Tech, Classifieds, Portals\",\"Industries: SaaS, Education Tech\",\"Industries: Education Tech\",\"Industries: Artificial Intelligence, Education Tech\",\"Industries: Education Tech\",\"Industries: Education Tech\",\"Industries: IT & Cybersecurity, Education Tech\",\"Industries: Education Tech\",\"Industries: Education Tech\",\"Industries: Education Tech\",\"Industries: Education Tech, Personal Finance\",\"Industries: Social Networking, Education Tech\",\"Industries: Social Media Platforms, Education Tech\",\"Industries: Education Tech, Portals\",\"Industries: Education Tech, Human Resource\",\"Industries: Education Tech, K-12 Education\",\"Industries: Education Tech, Communities\",\"Industries: Education Tech\",\"Industries: Education Tech, K-12 Education\",\"Industries: Education Tech\",\"Industries: Education Tech\",\"Industries: Education Tech\",\"Industries: Education Tech\",\"Industries: Education Tech\"]}},\"id\":\"61267aea-d3b1-47c7-8350-c3f48ffd6dbf\",\"type\":\"ColumnDataSource\"},{\"attributes\":{\"plot\":{\"id\":\"adbbfb83-cf68-4200-bd40-230e325e535d\",\"subtype\":\"Figure\",\"type\":\"Plot\"}},\"id\":\"1e3a63f2-01b3-4b4e-bd84-59b741439f41\",\"type\":\"WheelZoomTool\"},{\"attributes\":{\"bottom_units\":\"screen\",\"fill_alpha\":{\"value\":0.5},\"fill_color\":{\"value\":\"lightgrey\"},\"left_units\":\"screen\",\"level\":\"overlay\",\"line_alpha\":{\"value\":1.0},\"line_color\":{\"value\":\"black\"},\"line_dash\":[4,4],\"line_width\":{\"value\":2},\"plot\":null,\"render_mode\":\"css\",\"right_units\":\"screen\",\"top_units\":\"screen\"},\"id\":\"18f8722a-755d-4f53-a037-20fae69bb67f\",\"type\":\"BoxAnnotation\"},{\"attributes\":{\"callback\":null},\"id\":\"f2349c97-c136-4f82-842c-4f9a9c6662e4\",\"type\":\"DataRange1d\"},{\"attributes\":{\"callback\":null,\"plot\":{\"id\":\"adbbfb83-cf68-4200-bd40-230e325e535d\",\"subtype\":\"Figure\",\"type\":\"Plot\"},\"tooltips\":[[\"funding\",\"@funding\"],[\"name\",\"@company\"],[\"description\",\"@descriptions\"]]},\"id\":\"4e840d8f-ecd9-4cfa-8658-ccbddf8f5dab\",\"type\":\"HoverTool\"},{\"attributes\":{\"fill_color\":{\"field\":\"fill_color\"},\"line_color\":{\"field\":\"line_color\"},\"x\":{\"field\":\"lda_x\"},\"y\":{\"field\":\"lda_y\"}},\"id\":\"0c98501b-cd17-427f-bf07-7f1491f23431\",\"type\":\"Circle\"}],\"root_ids\":[\"adbbfb83-cf68-4200-bd40-230e325e535d\"]},\"title\":\"Bokeh Application\",\"version\":\"0.12.2\"}};\n",
       "            var render_items = [{\"docid\":\"8da66029-d2d6-4262-8eb6-26db0edbf40e\",\"elementid\":\"2bea3119-e6a0-4b8a-8498-dcf61b2f959f\",\"modelid\":\"adbbfb83-cf68-4200-bd40-230e325e535d\"}];\n",
       "            \n",
       "            Bokeh.embed.embed_items(docs_json, render_items);\n",
       "        });\n",
       "      },\n",
       "      function(Bokeh) {\n",
       "      }\n",
       "    ];\n",
       "  \n",
       "    function run_inline_js() {\n",
       "      \n",
       "      if ((window.Bokeh !== undefined) || (force === \"1\")) {\n",
       "        for (var i = 0; i < inline_js.length; i++) {\n",
       "          inline_js[i](window.Bokeh);\n",
       "        }if (force === \"1\") {\n",
       "          display_loaded();\n",
       "        }} else if (Date.now() < window._bokeh_timeout) {\n",
       "        setTimeout(run_inline_js, 100);\n",
       "      } else if (!window._bokeh_failed_load) {\n",
       "        console.log(\"Bokeh: BokehJS failed to load within specified timeout.\");\n",
       "        window._bokeh_failed_load = true;\n",
       "      } else if (!force) {\n",
       "        var cell = $(\"#2bea3119-e6a0-4b8a-8498-dcf61b2f959f\").parents('.cell').data().cell;\n",
       "        cell.output_area.append_execute_result(NB_LOAD_WARNING)\n",
       "      }\n",
       "  \n",
       "    }\n",
       "  \n",
       "    if (window._bokeh_is_loading === 0) {\n",
       "      console.log(\"Bokeh: BokehJS loaded, going straight to plotting\");\n",
       "      run_inline_js();\n",
       "    } else {\n",
       "      load_libs(js_urls, function() {\n",
       "        console.log(\"Bokeh: BokehJS plotting callback run at\", now());\n",
       "        run_inline_js();\n",
       "      });\n",
       "    }\n",
       "  }(this));\n",
       "</script>"
      ]
     },
     "metadata": {},
     "output_type": "display_data"
    }
   ],
   "source": [
    "datasource = ColumnDataSource(df_in)\n",
    "plot_lda.scatter(source=datasource, x='lda_x', y='lda_y', color=colormap[df_in['lda_topics']])\n",
    "\n",
    "hover = plot_lda.select(dict(type=HoverTool))\n",
    "hover.tooltips={\"name\": \"@company\", \"description\": \"@descriptions\", \"funding\":\"@funding\"}\n",
    "show(plot_lda)"
   ]
  },
  {
   "cell_type": "code",
   "execution_count": 207,
   "metadata": {
    "collapsed": true,
    "extensions": {
     "jupyter_dashboards": {
      "version": 1,
      "views": {
       "grid_default": {
        "hidden": true
       },
       "report_default": {
        "hidden": true
       }
      }
     }
    }
   },
   "outputs": [],
   "source": [
    "df_in.to_csv('tia_edtech_clusters.csv')"
   ]
  }
 ],
 "metadata": {
  "anaconda-cloud": {},
  "extensions": {
   "jupyter_dashboards": {
    "activeView": "report_default",
    "version": 1,
    "views": {
     "grid_default": {
      "cellMargin": 10,
      "defaultCellHeight": 20,
      "maxColumns": 12,
      "name": "grid",
      "type": "grid"
     },
     "report_default": {
      "name": "report",
      "type": "report"
     }
    }
   }
  },
  "kernelspec": {
   "display_name": "Python [conda root]",
   "language": "python",
   "name": "conda-root-py"
  },
  "language_info": {
   "codemirror_mode": {
    "name": "ipython",
    "version": 2
   },
   "file_extension": ".py",
   "mimetype": "text/x-python",
   "name": "python",
   "nbconvert_exporter": "python",
   "pygments_lexer": "ipython2",
   "version": "2.7.12"
  },
  "widgets": {
   "application/vnd.jupyter.widget-state+json": {
    "state": {},
    "version_major": 1,
    "version_minor": 0
   }
  }
 },
 "nbformat": 4,
 "nbformat_minor": 2
}
