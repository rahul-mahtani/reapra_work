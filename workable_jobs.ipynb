{
 "cells": [
  {
   "cell_type": "markdown",
   "metadata": {},
   "source": [
    "## The usual ..."
   ]
  },
  {
   "cell_type": "code",
   "execution_count": 1,
   "metadata": {
    "collapsed": true
   },
   "outputs": [],
   "source": [
    "import numpy as np\n",
    "import pandas as pd\n",
    "import matplotlib.pyplot as plt\n",
    "import seaborn as sns\n",
    "% matplotlib inline"
   ]
  },
  {
   "cell_type": "markdown",
   "metadata": {},
   "source": [
    "## Load data ..."
   ]
  },
  {
   "cell_type": "code",
   "execution_count": 2,
   "metadata": {},
   "outputs": [
    {
     "data": {
      "text/html": [
       "<div>\n",
       "<table border=\"1\" class=\"dataframe\">\n",
       "  <thead>\n",
       "    <tr style=\"text-align: right;\">\n",
       "      <th></th>\n",
       "      <th>﻿Name</th>\n",
       "      <th>Job title</th>\n",
       "      <th>Creation time</th>\n",
       "      <th>Stage</th>\n",
       "      <th>Job post date</th>\n",
       "      <th>Time to fill</th>\n",
       "      <th>Time to hire</th>\n",
       "      <th>Current Pipeline</th>\n",
       "    </tr>\n",
       "  </thead>\n",
       "  <tbody>\n",
       "    <tr>\n",
       "      <th>0</th>\n",
       "      <td>Aisha Padriga</td>\n",
       "      <td>Aviation Strategist ( Airport/Airline )</td>\n",
       "      <td>2017-07-24T16:50:17+08:00</td>\n",
       "      <td>Applied</td>\n",
       "      <td>NaN</td>\n",
       "      <td>NaN</td>\n",
       "      <td>NaN</td>\n",
       "      <td>1.0</td>\n",
       "    </tr>\n",
       "    <tr>\n",
       "      <th>1</th>\n",
       "      <td>Giang Ly Bang</td>\n",
       "      <td>Managing Director</td>\n",
       "      <td>2017-07-24T16:22:03+08:00</td>\n",
       "      <td>Applied</td>\n",
       "      <td>NaN</td>\n",
       "      <td>NaN</td>\n",
       "      <td>NaN</td>\n",
       "      <td>1.0</td>\n",
       "    </tr>\n",
       "    <tr>\n",
       "      <th>2</th>\n",
       "      <td>RABI JAYAKUMAR</td>\n",
       "      <td>Managing Director</td>\n",
       "      <td>2017-07-24T14:36:27+08:00</td>\n",
       "      <td>Applied</td>\n",
       "      <td>NaN</td>\n",
       "      <td>NaN</td>\n",
       "      <td>NaN</td>\n",
       "      <td>1.0</td>\n",
       "    </tr>\n",
       "    <tr>\n",
       "      <th>3</th>\n",
       "      <td>LeeMing Choong</td>\n",
       "      <td>Chief Research Officer</td>\n",
       "      <td>2017-07-24T14:29:47+08:00</td>\n",
       "      <td>Applied</td>\n",
       "      <td>NaN</td>\n",
       "      <td>NaN</td>\n",
       "      <td>NaN</td>\n",
       "      <td>1.0</td>\n",
       "    </tr>\n",
       "    <tr>\n",
       "      <th>4</th>\n",
       "      <td>Ceegee Venugopalan</td>\n",
       "      <td>Aviation Strategist ( Airport/Airline )</td>\n",
       "      <td>2017-07-24T06:15:57+08:00</td>\n",
       "      <td>Applied</td>\n",
       "      <td>NaN</td>\n",
       "      <td>NaN</td>\n",
       "      <td>NaN</td>\n",
       "      <td>1.0</td>\n",
       "    </tr>\n",
       "  </tbody>\n",
       "</table>\n",
       "</div>"
      ],
      "text/plain": [
       "                ﻿Name                                Job title  \\\n",
       "0       Aisha Padriga  Aviation Strategist ( Airport/Airline )   \n",
       "1       Giang Ly Bang                        Managing Director   \n",
       "2      RABI JAYAKUMAR                        Managing Director   \n",
       "3      LeeMing Choong                   Chief Research Officer   \n",
       "4  Ceegee Venugopalan  Aviation Strategist ( Airport/Airline )   \n",
       "\n",
       "               Creation time    Stage Job post date  Time to fill  \\\n",
       "0  2017-07-24T16:50:17+08:00  Applied           NaN           NaN   \n",
       "1  2017-07-24T16:22:03+08:00  Applied           NaN           NaN   \n",
       "2  2017-07-24T14:36:27+08:00  Applied           NaN           NaN   \n",
       "3  2017-07-24T14:29:47+08:00  Applied           NaN           NaN   \n",
       "4  2017-07-24T06:15:57+08:00  Applied           NaN           NaN   \n",
       "\n",
       "   Time to hire  Current Pipeline  \n",
       "0           NaN               1.0  \n",
       "1           NaN               1.0  \n",
       "2           NaN               1.0  \n",
       "3           NaN               1.0  \n",
       "4           NaN               1.0  "
      ]
     },
     "execution_count": 2,
     "metadata": {},
     "output_type": "execute_result"
    }
   ],
   "source": [
    "df = pd.read_csv('workable_data.csv')\n",
    "df.head()"
   ]
  },
  {
   "cell_type": "code",
   "execution_count": 3,
   "metadata": {},
   "outputs": [
    {
     "name": "stdout",
     "output_type": "stream",
     "text": [
      "﻿Name                object\n",
      "Job title            object\n",
      "Creation time        object\n",
      "Stage                object\n",
      "Job post date        object\n",
      "Time to fill        float64\n",
      "Time to hire        float64\n",
      "Current Pipeline    float64\n",
      "dtype: object\n"
     ]
    }
   ],
   "source": [
    "print df.dtypes"
   ]
  },
  {
   "cell_type": "markdown",
   "metadata": {},
   "source": [
    "### Format timings"
   ]
  },
  {
   "cell_type": "code",
   "execution_count": 4,
   "metadata": {},
   "outputs": [
    {
     "data": {
      "text/html": [
       "<div>\n",
       "<table border=\"1\" class=\"dataframe\">\n",
       "  <thead>\n",
       "    <tr style=\"text-align: right;\">\n",
       "      <th></th>\n",
       "      <th>﻿Name</th>\n",
       "      <th>Job title</th>\n",
       "      <th>Creation time</th>\n",
       "      <th>Stage</th>\n",
       "      <th>Job post date</th>\n",
       "      <th>Time to fill</th>\n",
       "      <th>Time to hire</th>\n",
       "      <th>Current Pipeline</th>\n",
       "    </tr>\n",
       "  </thead>\n",
       "  <tbody>\n",
       "    <tr>\n",
       "      <th>0</th>\n",
       "      <td>Aisha Padriga</td>\n",
       "      <td>Aviation Strategist ( Airport/Airline )</td>\n",
       "      <td>2017-07-24 08:50:17</td>\n",
       "      <td>Applied</td>\n",
       "      <td>NaT</td>\n",
       "      <td>NaN</td>\n",
       "      <td>NaN</td>\n",
       "      <td>1.0</td>\n",
       "    </tr>\n",
       "    <tr>\n",
       "      <th>1</th>\n",
       "      <td>Giang Ly Bang</td>\n",
       "      <td>Managing Director</td>\n",
       "      <td>2017-07-24 08:22:03</td>\n",
       "      <td>Applied</td>\n",
       "      <td>NaT</td>\n",
       "      <td>NaN</td>\n",
       "      <td>NaN</td>\n",
       "      <td>1.0</td>\n",
       "    </tr>\n",
       "    <tr>\n",
       "      <th>2</th>\n",
       "      <td>RABI JAYAKUMAR</td>\n",
       "      <td>Managing Director</td>\n",
       "      <td>2017-07-24 06:36:27</td>\n",
       "      <td>Applied</td>\n",
       "      <td>NaT</td>\n",
       "      <td>NaN</td>\n",
       "      <td>NaN</td>\n",
       "      <td>1.0</td>\n",
       "    </tr>\n",
       "    <tr>\n",
       "      <th>3</th>\n",
       "      <td>LeeMing Choong</td>\n",
       "      <td>Chief Research Officer</td>\n",
       "      <td>2017-07-24 06:29:47</td>\n",
       "      <td>Applied</td>\n",
       "      <td>NaT</td>\n",
       "      <td>NaN</td>\n",
       "      <td>NaN</td>\n",
       "      <td>1.0</td>\n",
       "    </tr>\n",
       "    <tr>\n",
       "      <th>4</th>\n",
       "      <td>Ceegee Venugopalan</td>\n",
       "      <td>Aviation Strategist ( Airport/Airline )</td>\n",
       "      <td>2017-07-23 22:15:57</td>\n",
       "      <td>Applied</td>\n",
       "      <td>NaT</td>\n",
       "      <td>NaN</td>\n",
       "      <td>NaN</td>\n",
       "      <td>1.0</td>\n",
       "    </tr>\n",
       "  </tbody>\n",
       "</table>\n",
       "</div>"
      ],
      "text/plain": [
       "                ﻿Name                                Job title  \\\n",
       "0       Aisha Padriga  Aviation Strategist ( Airport/Airline )   \n",
       "1       Giang Ly Bang                        Managing Director   \n",
       "2      RABI JAYAKUMAR                        Managing Director   \n",
       "3      LeeMing Choong                   Chief Research Officer   \n",
       "4  Ceegee Venugopalan  Aviation Strategist ( Airport/Airline )   \n",
       "\n",
       "        Creation time    Stage Job post date  Time to fill  Time to hire  \\\n",
       "0 2017-07-24 08:50:17  Applied           NaT           NaN           NaN   \n",
       "1 2017-07-24 08:22:03  Applied           NaT           NaN           NaN   \n",
       "2 2017-07-24 06:36:27  Applied           NaT           NaN           NaN   \n",
       "3 2017-07-24 06:29:47  Applied           NaT           NaN           NaN   \n",
       "4 2017-07-23 22:15:57  Applied           NaT           NaN           NaN   \n",
       "\n",
       "   Current Pipeline  \n",
       "0               1.0  \n",
       "1               1.0  \n",
       "2               1.0  \n",
       "3               1.0  \n",
       "4               1.0  "
      ]
     },
     "execution_count": 4,
     "metadata": {},
     "output_type": "execute_result"
    }
   ],
   "source": [
    "df['Creation time'] = pd.to_datetime(df['Creation time'])\n",
    "df['Job post date'] = pd.to_datetime(df['Job post date'])\n",
    "df.head()"
   ]
  },
  {
   "cell_type": "markdown",
   "metadata": {},
   "source": [
    "### Drop names and format strings"
   ]
  },
  {
   "cell_type": "code",
   "execution_count": 5,
   "metadata": {},
   "outputs": [
    {
     "data": {
      "text/html": [
       "<div>\n",
       "<table border=\"1\" class=\"dataframe\">\n",
       "  <thead>\n",
       "    <tr style=\"text-align: right;\">\n",
       "      <th></th>\n",
       "      <th>Job title</th>\n",
       "      <th>Creation time</th>\n",
       "      <th>Stage</th>\n",
       "      <th>Job post date</th>\n",
       "      <th>Time to fill</th>\n",
       "      <th>Time to hire</th>\n",
       "      <th>Current Pipeline</th>\n",
       "    </tr>\n",
       "  </thead>\n",
       "  <tbody>\n",
       "    <tr>\n",
       "      <th>0</th>\n",
       "      <td>Aviation Strategist ( Airport/Airline )</td>\n",
       "      <td>2017-07-24 08:50:17</td>\n",
       "      <td>Applied</td>\n",
       "      <td>NaT</td>\n",
       "      <td>NaN</td>\n",
       "      <td>NaN</td>\n",
       "      <td>1.0</td>\n",
       "    </tr>\n",
       "    <tr>\n",
       "      <th>1</th>\n",
       "      <td>Managing Director</td>\n",
       "      <td>2017-07-24 08:22:03</td>\n",
       "      <td>Applied</td>\n",
       "      <td>NaT</td>\n",
       "      <td>NaN</td>\n",
       "      <td>NaN</td>\n",
       "      <td>1.0</td>\n",
       "    </tr>\n",
       "    <tr>\n",
       "      <th>2</th>\n",
       "      <td>Managing Director</td>\n",
       "      <td>2017-07-24 06:36:27</td>\n",
       "      <td>Applied</td>\n",
       "      <td>NaT</td>\n",
       "      <td>NaN</td>\n",
       "      <td>NaN</td>\n",
       "      <td>1.0</td>\n",
       "    </tr>\n",
       "    <tr>\n",
       "      <th>3</th>\n",
       "      <td>Chief Research Officer</td>\n",
       "      <td>2017-07-24 06:29:47</td>\n",
       "      <td>Applied</td>\n",
       "      <td>NaT</td>\n",
       "      <td>NaN</td>\n",
       "      <td>NaN</td>\n",
       "      <td>1.0</td>\n",
       "    </tr>\n",
       "    <tr>\n",
       "      <th>4</th>\n",
       "      <td>Aviation Strategist ( Airport/Airline )</td>\n",
       "      <td>2017-07-23 22:15:57</td>\n",
       "      <td>Applied</td>\n",
       "      <td>NaT</td>\n",
       "      <td>NaN</td>\n",
       "      <td>NaN</td>\n",
       "      <td>1.0</td>\n",
       "    </tr>\n",
       "  </tbody>\n",
       "</table>\n",
       "</div>"
      ],
      "text/plain": [
       "                                 Job title       Creation time    Stage  \\\n",
       "0  Aviation Strategist ( Airport/Airline ) 2017-07-24 08:50:17  Applied   \n",
       "1                        Managing Director 2017-07-24 08:22:03  Applied   \n",
       "2                        Managing Director 2017-07-24 06:36:27  Applied   \n",
       "3                   Chief Research Officer 2017-07-24 06:29:47  Applied   \n",
       "4  Aviation Strategist ( Airport/Airline ) 2017-07-23 22:15:57  Applied   \n",
       "\n",
       "  Job post date  Time to fill  Time to hire  Current Pipeline  \n",
       "0           NaT           NaN           NaN               1.0  \n",
       "1           NaT           NaN           NaN               1.0  \n",
       "2           NaT           NaN           NaN               1.0  \n",
       "3           NaT           NaN           NaN               1.0  \n",
       "4           NaT           NaN           NaN               1.0  "
      ]
     },
     "execution_count": 5,
     "metadata": {},
     "output_type": "execute_result"
    }
   ],
   "source": [
    "df['Stage'] = df['Stage'].astype(str)\n",
    "df['Job title'] = df['Job title'].astype(str)\n",
    "df = df[df.columns[1:]]\n",
    "df.head()"
   ]
  },
  {
   "cell_type": "code",
   "execution_count": 6,
   "metadata": {},
   "outputs": [
    {
     "data": {
      "text/plain": [
       "Job title                   object\n",
       "Creation time       datetime64[ns]\n",
       "Stage                       object\n",
       "Job post date       datetime64[ns]\n",
       "Time to fill               float64\n",
       "Time to hire               float64\n",
       "Current Pipeline           float64\n",
       "dtype: object"
      ]
     },
     "execution_count": 6,
     "metadata": {},
     "output_type": "execute_result"
    }
   ],
   "source": [
    "df.dtypes"
   ]
  },
  {
   "cell_type": "markdown",
   "metadata": {},
   "source": [
    "## Plotting time ..."
   ]
  },
  {
   "cell_type": "code",
   "execution_count": 7,
   "metadata": {},
   "outputs": [
    {
     "data": {
      "text/plain": [
       "Job title                                                     Stage          \n",
       "ASPIRIA E-commerce & Sales Full Time (Malaysia OR Singapore)  Applied             46\n",
       "ASPIRIA Engineer                                              Applied              5\n",
       "Admin Intern                                                  1st Interview        2\n",
       "                                                              Applied             53\n",
       "                                                              Offer                2\n",
       "Advertising Sales Director                                    Applied             19\n",
       "Aviation Entrepreneur                                         1st Interview       15\n",
       "                                                              2nd Interview        3\n",
       "                                                              Applied            273\n",
       "                                                              Final interview      2\n",
       "                                                              Hired                3\n",
       "                                                              Phone Screen         3\n",
       "                                                              Sourced             31\n",
       "Aviation Strategist ( Airport/Airline )                       1st Interview        3\n",
       "                                                              Applied             41\n",
       "Beauty Information Portal Manager                             Applied              2\n",
       "                                                              Hired                1\n",
       "Business Development Intern                                   Applied             31\n",
       "                                                              Phone Screen         1\n",
       "Business Development Internship                               1st Interview        3\n",
       "dtype: int64"
      ]
     },
     "execution_count": 7,
     "metadata": {},
     "output_type": "execute_result"
    }
   ],
   "source": [
    "job_stages = df.groupby(['Job title', 'Stage']).size()\n",
    "job_stages.head(20)"
   ]
  },
  {
   "cell_type": "code",
   "execution_count": 8,
   "metadata": {},
   "outputs": [
    {
     "data": {
      "text/plain": [
       "Job title                          Stage            Time to hire  Job post date      \n",
       "Aviation Entrepreneur              1st Interview    101.0         2017-02-08 08:42:14     15\n",
       "                                   2nd Interview    101.0         2017-02-08 08:42:14      3\n",
       "                                   Applied          101.0         2017-02-08 08:42:14    273\n",
       "                                   Final interview  101.0         2017-02-08 08:42:14      2\n",
       "                                   Hired            101.0         2017-02-08 08:42:14      3\n",
       "                                   Phone Screen     101.0         2017-02-08 08:42:14      3\n",
       "                                   Sourced          101.0         2017-02-08 08:42:14     31\n",
       "Beauty Information Portal Manager  Applied          53.0          2016-04-22 09:37:27      2\n",
       "                                   Hired            53.0          2016-04-22 09:37:27      1\n",
       "Business Development Internship    1st Interview    82.0          2016-03-24 05:48:13      3\n",
       "                                   2nd Interview    82.0          2016-03-24 05:48:13      1\n",
       "                                   Applied          82.0          2016-03-24 05:48:13     57\n",
       "                                   Final interview  82.0          2016-03-24 05:48:13      2\n",
       "                                   Hired            82.0          2016-03-24 05:48:13      3\n",
       "                                   Offer            82.0          2016-03-24 05:48:13      2\n",
       "                                   Phone Screen     82.0          2016-03-24 05:48:13     16\n",
       "                                   Sourced          82.0          2016-03-24 05:48:13      1\n",
       "CEO Entrepreneur Media Channel     1st Interview    189.0         2016-03-15 08:56:44     14\n",
       "                                   2nd Interview    189.0         2016-03-15 08:56:44      3\n",
       "                                   Final interview  189.0         2016-03-15 08:56:44      2\n",
       "dtype: int64"
      ]
     },
     "execution_count": 8,
     "metadata": {},
     "output_type": "execute_result"
    }
   ],
   "source": [
    "multi_index = df.groupby(['Job title', 'Stage', 'Time to hire', 'Job post date']).size()\n",
    "multi_index.head(20)"
   ]
  },
  {
   "cell_type": "code",
   "execution_count": 9,
   "metadata": {},
   "outputs": [
    {
     "data": {
      "text/html": [
       "<div>\n",
       "<table border=\"1\" class=\"dataframe\">\n",
       "  <thead>\n",
       "    <tr style=\"text-align: right;\">\n",
       "      <th>Stage</th>\n",
       "      <th>1st Interview</th>\n",
       "      <th>2nd Interview</th>\n",
       "      <th>Applied</th>\n",
       "      <th>Final interview</th>\n",
       "      <th>Hired</th>\n",
       "      <th>Offer</th>\n",
       "      <th>Phone Screen</th>\n",
       "      <th>Sourced</th>\n",
       "    </tr>\n",
       "    <tr>\n",
       "      <th>Job title</th>\n",
       "      <th></th>\n",
       "      <th></th>\n",
       "      <th></th>\n",
       "      <th></th>\n",
       "      <th></th>\n",
       "      <th></th>\n",
       "      <th></th>\n",
       "      <th></th>\n",
       "    </tr>\n",
       "  </thead>\n",
       "  <tbody>\n",
       "    <tr>\n",
       "      <th>ASPIRIA E-commerce &amp; Sales Full Time (Malaysia OR Singapore)</th>\n",
       "      <td>NaN</td>\n",
       "      <td>NaN</td>\n",
       "      <td>46.0</td>\n",
       "      <td>NaN</td>\n",
       "      <td>NaN</td>\n",
       "      <td>NaN</td>\n",
       "      <td>NaN</td>\n",
       "      <td>NaN</td>\n",
       "    </tr>\n",
       "    <tr>\n",
       "      <th>ASPIRIA Engineer</th>\n",
       "      <td>NaN</td>\n",
       "      <td>NaN</td>\n",
       "      <td>5.0</td>\n",
       "      <td>NaN</td>\n",
       "      <td>NaN</td>\n",
       "      <td>NaN</td>\n",
       "      <td>NaN</td>\n",
       "      <td>NaN</td>\n",
       "    </tr>\n",
       "    <tr>\n",
       "      <th>Admin Intern</th>\n",
       "      <td>2.0</td>\n",
       "      <td>NaN</td>\n",
       "      <td>53.0</td>\n",
       "      <td>NaN</td>\n",
       "      <td>NaN</td>\n",
       "      <td>2.0</td>\n",
       "      <td>NaN</td>\n",
       "      <td>NaN</td>\n",
       "    </tr>\n",
       "    <tr>\n",
       "      <th>Advertising Sales Director</th>\n",
       "      <td>NaN</td>\n",
       "      <td>NaN</td>\n",
       "      <td>19.0</td>\n",
       "      <td>NaN</td>\n",
       "      <td>NaN</td>\n",
       "      <td>NaN</td>\n",
       "      <td>NaN</td>\n",
       "      <td>NaN</td>\n",
       "    </tr>\n",
       "    <tr>\n",
       "      <th>Aviation Entrepreneur</th>\n",
       "      <td>15.0</td>\n",
       "      <td>3.0</td>\n",
       "      <td>273.0</td>\n",
       "      <td>2.0</td>\n",
       "      <td>3.0</td>\n",
       "      <td>NaN</td>\n",
       "      <td>3.0</td>\n",
       "      <td>31.0</td>\n",
       "    </tr>\n",
       "  </tbody>\n",
       "</table>\n",
       "</div>"
      ],
      "text/plain": [
       "Stage                                               1st Interview  \\\n",
       "Job title                                                           \n",
       "ASPIRIA E-commerce & Sales Full Time (Malaysia ...            NaN   \n",
       "ASPIRIA Engineer                                              NaN   \n",
       "Admin Intern                                                  2.0   \n",
       "Advertising Sales Director                                    NaN   \n",
       "Aviation Entrepreneur                                        15.0   \n",
       "\n",
       "Stage                                               2nd Interview  Applied  \\\n",
       "Job title                                                                    \n",
       "ASPIRIA E-commerce & Sales Full Time (Malaysia ...            NaN     46.0   \n",
       "ASPIRIA Engineer                                              NaN      5.0   \n",
       "Admin Intern                                                  NaN     53.0   \n",
       "Advertising Sales Director                                    NaN     19.0   \n",
       "Aviation Entrepreneur                                         3.0    273.0   \n",
       "\n",
       "Stage                                               Final interview  Hired  \\\n",
       "Job title                                                                    \n",
       "ASPIRIA E-commerce & Sales Full Time (Malaysia ...              NaN    NaN   \n",
       "ASPIRIA Engineer                                                NaN    NaN   \n",
       "Admin Intern                                                    NaN    NaN   \n",
       "Advertising Sales Director                                      NaN    NaN   \n",
       "Aviation Entrepreneur                                           2.0    3.0   \n",
       "\n",
       "Stage                                               Offer  Phone Screen  \\\n",
       "Job title                                                                 \n",
       "ASPIRIA E-commerce & Sales Full Time (Malaysia ...    NaN           NaN   \n",
       "ASPIRIA Engineer                                      NaN           NaN   \n",
       "Admin Intern                                          2.0           NaN   \n",
       "Advertising Sales Director                            NaN           NaN   \n",
       "Aviation Entrepreneur                                 NaN           3.0   \n",
       "\n",
       "Stage                                               Sourced  \n",
       "Job title                                                    \n",
       "ASPIRIA E-commerce & Sales Full Time (Malaysia ...      NaN  \n",
       "ASPIRIA Engineer                                        NaN  \n",
       "Admin Intern                                            NaN  \n",
       "Advertising Sales Director                              NaN  \n",
       "Aviation Entrepreneur                                  31.0  "
      ]
     },
     "execution_count": 9,
     "metadata": {},
     "output_type": "execute_result"
    }
   ],
   "source": [
    "job_stages.unstack(level=1).head()"
   ]
  },
  {
   "cell_type": "code",
   "execution_count": 10,
   "metadata": {},
   "outputs": [],
   "source": [
    "job_table = job_stages.unstack(level=1)"
   ]
  },
  {
   "cell_type": "code",
   "execution_count": 11,
   "metadata": {},
   "outputs": [
    {
     "name": "stdout",
     "output_type": "stream",
     "text": [
      "['1st Interview', '2nd Interview', 'Applied', 'Final interview', 'Hired', 'Offer', 'Phone Screen', 'Sourced']\n",
      "['Sourced', 'Applied', 'Phone Screen', '1st Interview', '2nd Interview', 'Final interview', 'Offer', 'Hired']\n"
     ]
    },
    {
     "data": {
      "text/html": [
       "<div>\n",
       "<table border=\"1\" class=\"dataframe\">\n",
       "  <thead>\n",
       "    <tr style=\"text-align: right;\">\n",
       "      <th>Stage</th>\n",
       "      <th>Sourced</th>\n",
       "      <th>Applied</th>\n",
       "      <th>Phone Screen</th>\n",
       "      <th>1st Interview</th>\n",
       "      <th>2nd Interview</th>\n",
       "      <th>Final interview</th>\n",
       "      <th>Offer</th>\n",
       "      <th>Hired</th>\n",
       "    </tr>\n",
       "    <tr>\n",
       "      <th>Job title</th>\n",
       "      <th></th>\n",
       "      <th></th>\n",
       "      <th></th>\n",
       "      <th></th>\n",
       "      <th></th>\n",
       "      <th></th>\n",
       "      <th></th>\n",
       "      <th></th>\n",
       "    </tr>\n",
       "  </thead>\n",
       "  <tbody>\n",
       "    <tr>\n",
       "      <th>ASPIRIA E-commerce &amp; Sales Full Time (Malaysia OR Singapore)</th>\n",
       "      <td>NaN</td>\n",
       "      <td>46.0</td>\n",
       "      <td>NaN</td>\n",
       "      <td>NaN</td>\n",
       "      <td>NaN</td>\n",
       "      <td>NaN</td>\n",
       "      <td>NaN</td>\n",
       "      <td>NaN</td>\n",
       "    </tr>\n",
       "    <tr>\n",
       "      <th>ASPIRIA Engineer</th>\n",
       "      <td>NaN</td>\n",
       "      <td>5.0</td>\n",
       "      <td>NaN</td>\n",
       "      <td>NaN</td>\n",
       "      <td>NaN</td>\n",
       "      <td>NaN</td>\n",
       "      <td>NaN</td>\n",
       "      <td>NaN</td>\n",
       "    </tr>\n",
       "    <tr>\n",
       "      <th>Admin Intern</th>\n",
       "      <td>NaN</td>\n",
       "      <td>53.0</td>\n",
       "      <td>NaN</td>\n",
       "      <td>2.0</td>\n",
       "      <td>NaN</td>\n",
       "      <td>NaN</td>\n",
       "      <td>2.0</td>\n",
       "      <td>NaN</td>\n",
       "    </tr>\n",
       "    <tr>\n",
       "      <th>Advertising Sales Director</th>\n",
       "      <td>NaN</td>\n",
       "      <td>19.0</td>\n",
       "      <td>NaN</td>\n",
       "      <td>NaN</td>\n",
       "      <td>NaN</td>\n",
       "      <td>NaN</td>\n",
       "      <td>NaN</td>\n",
       "      <td>NaN</td>\n",
       "    </tr>\n",
       "    <tr>\n",
       "      <th>Aviation Entrepreneur</th>\n",
       "      <td>31.0</td>\n",
       "      <td>273.0</td>\n",
       "      <td>3.0</td>\n",
       "      <td>15.0</td>\n",
       "      <td>3.0</td>\n",
       "      <td>2.0</td>\n",
       "      <td>NaN</td>\n",
       "      <td>3.0</td>\n",
       "    </tr>\n",
       "  </tbody>\n",
       "</table>\n",
       "</div>"
      ],
      "text/plain": [
       "Stage                                               Sourced  Applied  \\\n",
       "Job title                                                              \n",
       "ASPIRIA E-commerce & Sales Full Time (Malaysia ...      NaN     46.0   \n",
       "ASPIRIA Engineer                                        NaN      5.0   \n",
       "Admin Intern                                            NaN     53.0   \n",
       "Advertising Sales Director                              NaN     19.0   \n",
       "Aviation Entrepreneur                                  31.0    273.0   \n",
       "\n",
       "Stage                                               Phone Screen  \\\n",
       "Job title                                                          \n",
       "ASPIRIA E-commerce & Sales Full Time (Malaysia ...           NaN   \n",
       "ASPIRIA Engineer                                             NaN   \n",
       "Admin Intern                                                 NaN   \n",
       "Advertising Sales Director                                   NaN   \n",
       "Aviation Entrepreneur                                        3.0   \n",
       "\n",
       "Stage                                               1st Interview  \\\n",
       "Job title                                                           \n",
       "ASPIRIA E-commerce & Sales Full Time (Malaysia ...            NaN   \n",
       "ASPIRIA Engineer                                              NaN   \n",
       "Admin Intern                                                  2.0   \n",
       "Advertising Sales Director                                    NaN   \n",
       "Aviation Entrepreneur                                        15.0   \n",
       "\n",
       "Stage                                               2nd Interview  \\\n",
       "Job title                                                           \n",
       "ASPIRIA E-commerce & Sales Full Time (Malaysia ...            NaN   \n",
       "ASPIRIA Engineer                                              NaN   \n",
       "Admin Intern                                                  NaN   \n",
       "Advertising Sales Director                                    NaN   \n",
       "Aviation Entrepreneur                                         3.0   \n",
       "\n",
       "Stage                                               Final interview  Offer  \\\n",
       "Job title                                                                    \n",
       "ASPIRIA E-commerce & Sales Full Time (Malaysia ...              NaN    NaN   \n",
       "ASPIRIA Engineer                                                NaN    NaN   \n",
       "Admin Intern                                                    NaN    2.0   \n",
       "Advertising Sales Director                                      NaN    NaN   \n",
       "Aviation Entrepreneur                                           2.0    NaN   \n",
       "\n",
       "Stage                                               Hired  \n",
       "Job title                                                  \n",
       "ASPIRIA E-commerce & Sales Full Time (Malaysia ...    NaN  \n",
       "ASPIRIA Engineer                                      NaN  \n",
       "Admin Intern                                          NaN  \n",
       "Advertising Sales Director                            NaN  \n",
       "Aviation Entrepreneur                                 3.0  "
      ]
     },
     "execution_count": 11,
     "metadata": {},
     "output_type": "execute_result"
    }
   ],
   "source": [
    "stage_cols = job_table.columns.tolist()\n",
    "print stage_cols\n",
    "stage_order = [stage_cols[7], stage_cols[2], stage_cols[6], stage_cols[0], stage_cols[1], stage_cols[3], stage_cols[5], stage_cols[4]]\n",
    "print stage_order\n",
    "job_table = job_table[stage_order]\n",
    "job_table.head()"
   ]
  },
  {
   "cell_type": "code",
   "execution_count": 12,
   "metadata": {},
   "outputs": [
    {
     "data": {
      "text/html": [
       "<div>\n",
       "<table border=\"1\" class=\"dataframe\">\n",
       "  <thead>\n",
       "    <tr style=\"text-align: right;\">\n",
       "      <th>Stage</th>\n",
       "      <th>Sourced</th>\n",
       "      <th>Applied</th>\n",
       "      <th>Phone Screen</th>\n",
       "      <th>1st Interview</th>\n",
       "      <th>2nd Interview</th>\n",
       "      <th>Final interview</th>\n",
       "      <th>Offer</th>\n",
       "      <th>Hired</th>\n",
       "    </tr>\n",
       "    <tr>\n",
       "      <th>Job title</th>\n",
       "      <th></th>\n",
       "      <th></th>\n",
       "      <th></th>\n",
       "      <th></th>\n",
       "      <th></th>\n",
       "      <th></th>\n",
       "      <th></th>\n",
       "      <th></th>\n",
       "    </tr>\n",
       "  </thead>\n",
       "  <tbody>\n",
       "    <tr>\n",
       "      <th>ASPIRIA E-commerce &amp; Sales Full Time (Malaysia OR Singapore)</th>\n",
       "      <td>NaN</td>\n",
       "      <td>46.0</td>\n",
       "      <td>0.0</td>\n",
       "      <td>0.0</td>\n",
       "      <td>0.0</td>\n",
       "      <td>0.0</td>\n",
       "      <td>0.0</td>\n",
       "      <td>0.0</td>\n",
       "    </tr>\n",
       "    <tr>\n",
       "      <th>ASPIRIA Engineer</th>\n",
       "      <td>NaN</td>\n",
       "      <td>5.0</td>\n",
       "      <td>0.0</td>\n",
       "      <td>0.0</td>\n",
       "      <td>0.0</td>\n",
       "      <td>0.0</td>\n",
       "      <td>0.0</td>\n",
       "      <td>0.0</td>\n",
       "    </tr>\n",
       "    <tr>\n",
       "      <th>Admin Intern</th>\n",
       "      <td>NaN</td>\n",
       "      <td>57.0</td>\n",
       "      <td>4.0</td>\n",
       "      <td>4.0</td>\n",
       "      <td>2.0</td>\n",
       "      <td>2.0</td>\n",
       "      <td>2.0</td>\n",
       "      <td>0.0</td>\n",
       "    </tr>\n",
       "    <tr>\n",
       "      <th>Advertising Sales Director</th>\n",
       "      <td>NaN</td>\n",
       "      <td>19.0</td>\n",
       "      <td>0.0</td>\n",
       "      <td>0.0</td>\n",
       "      <td>0.0</td>\n",
       "      <td>0.0</td>\n",
       "      <td>0.0</td>\n",
       "      <td>0.0</td>\n",
       "    </tr>\n",
       "    <tr>\n",
       "      <th>Aviation Entrepreneur</th>\n",
       "      <td>31.0</td>\n",
       "      <td>299.0</td>\n",
       "      <td>26.0</td>\n",
       "      <td>23.0</td>\n",
       "      <td>8.0</td>\n",
       "      <td>5.0</td>\n",
       "      <td>3.0</td>\n",
       "      <td>3.0</td>\n",
       "    </tr>\n",
       "  </tbody>\n",
       "</table>\n",
       "</div>"
      ],
      "text/plain": [
       "Stage                                               Sourced  Applied  \\\n",
       "Job title                                                              \n",
       "ASPIRIA E-commerce & Sales Full Time (Malaysia ...      NaN     46.0   \n",
       "ASPIRIA Engineer                                        NaN      5.0   \n",
       "Admin Intern                                            NaN     57.0   \n",
       "Advertising Sales Director                              NaN     19.0   \n",
       "Aviation Entrepreneur                                  31.0    299.0   \n",
       "\n",
       "Stage                                               Phone Screen  \\\n",
       "Job title                                                          \n",
       "ASPIRIA E-commerce & Sales Full Time (Malaysia ...           0.0   \n",
       "ASPIRIA Engineer                                             0.0   \n",
       "Admin Intern                                                 4.0   \n",
       "Advertising Sales Director                                   0.0   \n",
       "Aviation Entrepreneur                                       26.0   \n",
       "\n",
       "Stage                                               1st Interview  \\\n",
       "Job title                                                           \n",
       "ASPIRIA E-commerce & Sales Full Time (Malaysia ...            0.0   \n",
       "ASPIRIA Engineer                                              0.0   \n",
       "Admin Intern                                                  4.0   \n",
       "Advertising Sales Director                                    0.0   \n",
       "Aviation Entrepreneur                                        23.0   \n",
       "\n",
       "Stage                                               2nd Interview  \\\n",
       "Job title                                                           \n",
       "ASPIRIA E-commerce & Sales Full Time (Malaysia ...            0.0   \n",
       "ASPIRIA Engineer                                              0.0   \n",
       "Admin Intern                                                  2.0   \n",
       "Advertising Sales Director                                    0.0   \n",
       "Aviation Entrepreneur                                         8.0   \n",
       "\n",
       "Stage                                               Final interview  Offer  \\\n",
       "Job title                                                                    \n",
       "ASPIRIA E-commerce & Sales Full Time (Malaysia ...              0.0    0.0   \n",
       "ASPIRIA Engineer                                                0.0    0.0   \n",
       "Admin Intern                                                    2.0    2.0   \n",
       "Advertising Sales Director                                      0.0    0.0   \n",
       "Aviation Entrepreneur                                           5.0    3.0   \n",
       "\n",
       "Stage                                               Hired  \n",
       "Job title                                                  \n",
       "ASPIRIA E-commerce & Sales Full Time (Malaysia ...    0.0  \n",
       "ASPIRIA Engineer                                      0.0  \n",
       "Admin Intern                                          0.0  \n",
       "Advertising Sales Director                            0.0  \n",
       "Aviation Entrepreneur                                 3.0  "
      ]
     },
     "execution_count": 12,
     "metadata": {},
     "output_type": "execute_result"
    }
   ],
   "source": [
    "job_table2 = job_table.copy()\n",
    "\n",
    "for i, v in enumerate(job_table.columns[1:]):\n",
    "    job_table2[v] = job_table2[job_table2.columns[i+1:]].sum(axis=1)\n",
    "\n",
    "job_table2.head()\n"
   ]
  },
  {
   "cell_type": "code",
   "execution_count": 13,
   "metadata": {},
   "outputs": [
    {
     "data": {
      "text/html": [
       "<div>\n",
       "<table border=\"1\" class=\"dataframe\">\n",
       "  <thead>\n",
       "    <tr style=\"text-align: right;\">\n",
       "      <th>Stage</th>\n",
       "      <th>Sourced</th>\n",
       "      <th>Applied</th>\n",
       "      <th>Phone Screen</th>\n",
       "      <th>1st Interview</th>\n",
       "      <th>2nd Interview</th>\n",
       "      <th>Final interview</th>\n",
       "      <th>Offer</th>\n",
       "      <th>Hired</th>\n",
       "    </tr>\n",
       "    <tr>\n",
       "      <th>Job title</th>\n",
       "      <th></th>\n",
       "      <th></th>\n",
       "      <th></th>\n",
       "      <th></th>\n",
       "      <th></th>\n",
       "      <th></th>\n",
       "      <th></th>\n",
       "      <th></th>\n",
       "    </tr>\n",
       "  </thead>\n",
       "  <tbody>\n",
       "    <tr>\n",
       "      <th>ASPIRIA E-commerce &amp; Sales Full Time (Malaysia OR Singapore)</th>\n",
       "      <td>NaN</td>\n",
       "      <td>NaN</td>\n",
       "      <td>0.000000</td>\n",
       "      <td>NaN</td>\n",
       "      <td>NaN</td>\n",
       "      <td>NaN</td>\n",
       "      <td>NaN</td>\n",
       "      <td>NaN</td>\n",
       "    </tr>\n",
       "    <tr>\n",
       "      <th>ASPIRIA Engineer</th>\n",
       "      <td>NaN</td>\n",
       "      <td>NaN</td>\n",
       "      <td>0.000000</td>\n",
       "      <td>NaN</td>\n",
       "      <td>NaN</td>\n",
       "      <td>NaN</td>\n",
       "      <td>NaN</td>\n",
       "      <td>NaN</td>\n",
       "    </tr>\n",
       "    <tr>\n",
       "      <th>Admin Intern</th>\n",
       "      <td>NaN</td>\n",
       "      <td>NaN</td>\n",
       "      <td>7.017544</td>\n",
       "      <td>100.000000</td>\n",
       "      <td>50.000000</td>\n",
       "      <td>100.0</td>\n",
       "      <td>100.0</td>\n",
       "      <td>0.0</td>\n",
       "    </tr>\n",
       "    <tr>\n",
       "      <th>Advertising Sales Director</th>\n",
       "      <td>NaN</td>\n",
       "      <td>NaN</td>\n",
       "      <td>0.000000</td>\n",
       "      <td>NaN</td>\n",
       "      <td>NaN</td>\n",
       "      <td>NaN</td>\n",
       "      <td>NaN</td>\n",
       "      <td>NaN</td>\n",
       "    </tr>\n",
       "    <tr>\n",
       "      <th>Aviation Entrepreneur</th>\n",
       "      <td>31.0</td>\n",
       "      <td>964.516129</td>\n",
       "      <td>8.695652</td>\n",
       "      <td>88.461538</td>\n",
       "      <td>34.782609</td>\n",
       "      <td>62.5</td>\n",
       "      <td>60.0</td>\n",
       "      <td>100.0</td>\n",
       "    </tr>\n",
       "  </tbody>\n",
       "</table>\n",
       "</div>"
      ],
      "text/plain": [
       "Stage                                               Sourced     Applied  \\\n",
       "Job title                                                                 \n",
       "ASPIRIA E-commerce & Sales Full Time (Malaysia ...      NaN         NaN   \n",
       "ASPIRIA Engineer                                        NaN         NaN   \n",
       "Admin Intern                                            NaN         NaN   \n",
       "Advertising Sales Director                              NaN         NaN   \n",
       "Aviation Entrepreneur                                  31.0  964.516129   \n",
       "\n",
       "Stage                                               Phone Screen  \\\n",
       "Job title                                                          \n",
       "ASPIRIA E-commerce & Sales Full Time (Malaysia ...      0.000000   \n",
       "ASPIRIA Engineer                                        0.000000   \n",
       "Admin Intern                                            7.017544   \n",
       "Advertising Sales Director                              0.000000   \n",
       "Aviation Entrepreneur                                   8.695652   \n",
       "\n",
       "Stage                                               1st Interview  \\\n",
       "Job title                                                           \n",
       "ASPIRIA E-commerce & Sales Full Time (Malaysia ...            NaN   \n",
       "ASPIRIA Engineer                                              NaN   \n",
       "Admin Intern                                           100.000000   \n",
       "Advertising Sales Director                                    NaN   \n",
       "Aviation Entrepreneur                                   88.461538   \n",
       "\n",
       "Stage                                               2nd Interview  \\\n",
       "Job title                                                           \n",
       "ASPIRIA E-commerce & Sales Full Time (Malaysia ...            NaN   \n",
       "ASPIRIA Engineer                                              NaN   \n",
       "Admin Intern                                            50.000000   \n",
       "Advertising Sales Director                                    NaN   \n",
       "Aviation Entrepreneur                                   34.782609   \n",
       "\n",
       "Stage                                               Final interview  Offer  \\\n",
       "Job title                                                                    \n",
       "ASPIRIA E-commerce & Sales Full Time (Malaysia ...              NaN    NaN   \n",
       "ASPIRIA Engineer                                                NaN    NaN   \n",
       "Admin Intern                                                  100.0  100.0   \n",
       "Advertising Sales Director                                      NaN    NaN   \n",
       "Aviation Entrepreneur                                          62.5   60.0   \n",
       "\n",
       "Stage                                               Hired  \n",
       "Job title                                                  \n",
       "ASPIRIA E-commerce & Sales Full Time (Malaysia ...    NaN  \n",
       "ASPIRIA Engineer                                      NaN  \n",
       "Admin Intern                                          0.0  \n",
       "Advertising Sales Director                            NaN  \n",
       "Aviation Entrepreneur                               100.0  "
      ]
     },
     "execution_count": 13,
     "metadata": {},
     "output_type": "execute_result"
    }
   ],
   "source": [
    "conversion_rates = job_table2.copy()\n",
    "temp = 'Hired'\n",
    "\n",
    "for v in reversed(conversion_rates.columns.tolist()[:-1]):\n",
    "    conversion_rates[temp] /= conversion_rates[v]\n",
    "    conversion_rates[temp] *= 100.0\n",
    "    temp = v\n",
    "\n",
    "conversion_rates.head()"
   ]
  },
  {
   "cell_type": "code",
   "execution_count": 14,
   "metadata": {},
   "outputs": [
    {
     "data": {
      "text/plain": [
       "<matplotlib.axes._subplots.AxesSubplot at 0x11520f310>"
      ]
     },
     "execution_count": 14,
     "metadata": {},
     "output_type": "execute_result"
    },
    {
     "data": {
      "image/png": "[encoded data removed]",
      "text/plain": [
       "<matplotlib.figure.Figure at 0x103dff190>"
      ]
     },
     "metadata": {},
     "output_type": "display_data"
    }
   ],
   "source": [
    "conversion_rates.loc[conversion_rates.index[20],:].plot.bar()"
   ]
  },
  {
   "cell_type": "code",
   "execution_count": 15,
   "metadata": {},
   "outputs": [
    {
     "data": {
      "text/plain": [
       "<matplotlib.text.Text at 0x115890f10>"
      ]
     },
     "execution_count": 15,
     "metadata": {},
     "output_type": "execute_result"
    },
    {
     "data": {
      "image/png": "[encoded data removed]",
      "text/plain": [
       "<matplotlib.figure.Figure at 0x1158619d0>"
      ]
     },
     "metadata": {},
     "output_type": "display_data"
    }
   ],
   "source": [
    "job_table.loc[job_table.index[12],:].plot.barh()\n",
    "plt.xlabel(job_table.index[12])"
   ]
  },
  {
   "cell_type": "code",
   "execution_count": 16,
   "metadata": {},
   "outputs": [
    {
     "name": "stdout",
     "output_type": "stream",
     "text": [
      "(3057, 7)\n"
     ]
    },
    {
     "data": {
      "text/html": [
       "<div>\n",
       "<table border=\"1\" class=\"dataframe\">\n",
       "  <thead>\n",
       "    <tr style=\"text-align: right;\">\n",
       "      <th></th>\n",
       "      <th>Job title</th>\n",
       "      <th>Creation time</th>\n",
       "      <th>Stage</th>\n",
       "      <th>Job post date</th>\n",
       "      <th>Time to fill</th>\n",
       "      <th>Time to hire</th>\n",
       "      <th>Current Pipeline</th>\n",
       "    </tr>\n",
       "  </thead>\n",
       "  <tbody>\n",
       "    <tr>\n",
       "      <th>16</th>\n",
       "      <td>Financial Controller</td>\n",
       "      <td>2017-07-22 10:02:21</td>\n",
       "      <td>Applied</td>\n",
       "      <td>2016-10-17 02:38:04</td>\n",
       "      <td>151.0</td>\n",
       "      <td>143.0</td>\n",
       "      <td>NaN</td>\n",
       "    </tr>\n",
       "    <tr>\n",
       "      <th>20</th>\n",
       "      <td>Financial Controller</td>\n",
       "      <td>2017-07-21 14:25:31</td>\n",
       "      <td>Applied</td>\n",
       "      <td>2016-10-17 02:38:04</td>\n",
       "      <td>151.0</td>\n",
       "      <td>143.0</td>\n",
       "      <td>NaN</td>\n",
       "    </tr>\n",
       "    <tr>\n",
       "      <th>34</th>\n",
       "      <td>Financial Controller</td>\n",
       "      <td>2017-07-20 05:05:39</td>\n",
       "      <td>Applied</td>\n",
       "      <td>2016-10-17 02:38:04</td>\n",
       "      <td>151.0</td>\n",
       "      <td>143.0</td>\n",
       "      <td>NaN</td>\n",
       "    </tr>\n",
       "    <tr>\n",
       "      <th>35</th>\n",
       "      <td>Early Talent Pool</td>\n",
       "      <td>2017-07-20 03:59:32</td>\n",
       "      <td>Applied</td>\n",
       "      <td>2016-10-03 03:59:18</td>\n",
       "      <td>240.0</td>\n",
       "      <td>54.0</td>\n",
       "      <td>1.0</td>\n",
       "    </tr>\n",
       "    <tr>\n",
       "      <th>41</th>\n",
       "      <td>Financial Controller</td>\n",
       "      <td>2017-07-19 15:09:26</td>\n",
       "      <td>Applied</td>\n",
       "      <td>2016-10-17 02:38:04</td>\n",
       "      <td>151.0</td>\n",
       "      <td>143.0</td>\n",
       "      <td>NaN</td>\n",
       "    </tr>\n",
       "  </tbody>\n",
       "</table>\n",
       "</div>"
      ],
      "text/plain": [
       "               Job title       Creation time    Stage       Job post date  \\\n",
       "16  Financial Controller 2017-07-22 10:02:21  Applied 2016-10-17 02:38:04   \n",
       "20  Financial Controller 2017-07-21 14:25:31  Applied 2016-10-17 02:38:04   \n",
       "34  Financial Controller 2017-07-20 05:05:39  Applied 2016-10-17 02:38:04   \n",
       "35     Early Talent Pool 2017-07-20 03:59:32  Applied 2016-10-03 03:59:18   \n",
       "41  Financial Controller 2017-07-19 15:09:26  Applied 2016-10-17 02:38:04   \n",
       "\n",
       "    Time to fill  Time to hire  Current Pipeline  \n",
       "16         151.0         143.0               NaN  \n",
       "20         151.0         143.0               NaN  \n",
       "34         151.0         143.0               NaN  \n",
       "35         240.0          54.0               1.0  \n",
       "41         151.0         143.0               NaN  "
      ]
     },
     "execution_count": 16,
     "metadata": {},
     "output_type": "execute_result"
    }
   ],
   "source": [
    "job_hires = df[df['Time to hire'].notnull()]\n",
    "print job_hires.shape\n",
    "job_hires.head()"
   ]
  },
  {
   "cell_type": "code",
   "execution_count": 17,
   "metadata": {},
   "outputs": [],
   "source": [
    "#job_hires.groupby(['Job title', 'Time to hire']).mean().head(20)\n",
    "jobs = job_hires['Job title'].unique()\n",
    "hires = []\n",
    "posts = []\n",
    "for job in jobs:\n",
    "    hire_time = job_hires[job_hires['Job title']==job]['Time to hire'].mean()\n",
    "    post_times = job_hires[job_hires['Job title']==job]['Job post date'].tolist()\n",
    "    post_time = post_times[0]\n",
    "    hires.append(hire_time)\n",
    "    posts.append(post_time)\n",
    "    #print hire_time\n",
    "    #print job\n",
    "    #print post_times\n",
    "    \n",
    "#sns.barplot(job_hires['Time to fill'], job_hires['Job title'])"
   ]
  },
  {
   "cell_type": "code",
   "execution_count": 18,
   "metadata": {},
   "outputs": [
    {
     "data": {
      "text/html": [
       "<div>\n",
       "<table border=\"1\" class=\"dataframe\">\n",
       "  <thead>\n",
       "    <tr style=\"text-align: right;\">\n",
       "      <th></th>\n",
       "      <th>Job</th>\n",
       "      <th>Post</th>\n",
       "      <th>Hire_time</th>\n",
       "    </tr>\n",
       "  </thead>\n",
       "  <tbody>\n",
       "    <tr>\n",
       "      <th>0</th>\n",
       "      <td>Financial Controller</td>\n",
       "      <td>2016-10-17 02:38:04</td>\n",
       "      <td>143.0</td>\n",
       "    </tr>\n",
       "    <tr>\n",
       "      <th>1</th>\n",
       "      <td>Early Talent Pool</td>\n",
       "      <td>2016-10-03 03:59:18</td>\n",
       "      <td>54.0</td>\n",
       "    </tr>\n",
       "    <tr>\n",
       "      <th>2</th>\n",
       "      <td>Corporate Strategy Associate (Japanese-speaking)</td>\n",
       "      <td>2016-10-16 17:03:29</td>\n",
       "      <td>112.0</td>\n",
       "    </tr>\n",
       "    <tr>\n",
       "      <th>3</th>\n",
       "      <td>Aviation Entrepreneur</td>\n",
       "      <td>2017-02-08 08:42:14</td>\n",
       "      <td>101.0</td>\n",
       "    </tr>\n",
       "    <tr>\n",
       "      <th>4</th>\n",
       "      <td>Investments Lead</td>\n",
       "      <td>2017-04-08 11:43:24</td>\n",
       "      <td>10.0</td>\n",
       "    </tr>\n",
       "  </tbody>\n",
       "</table>\n",
       "</div>"
      ],
      "text/plain": [
       "                                                Job                Post  \\\n",
       "0                              Financial Controller 2016-10-17 02:38:04   \n",
       "1                                 Early Talent Pool 2016-10-03 03:59:18   \n",
       "2  Corporate Strategy Associate (Japanese-speaking) 2016-10-16 17:03:29   \n",
       "3                             Aviation Entrepreneur 2017-02-08 08:42:14   \n",
       "4                                  Investments Lead 2017-04-08 11:43:24   \n",
       "\n",
       "   Hire_time  \n",
       "0      143.0  \n",
       "1       54.0  \n",
       "2      112.0  \n",
       "3      101.0  \n",
       "4       10.0  "
      ]
     },
     "execution_count": 18,
     "metadata": {},
     "output_type": "execute_result"
    }
   ],
   "source": [
    "jobs_df = pd.DataFrame()\n",
    "jobs_df['Job'] = jobs\n",
    "jobs_df['Post'] = list(posts)\n",
    "jobs_df['Hire_time'] = hires\n",
    "jobs_df.head()"
   ]
  },
  {
   "cell_type": "code",
   "execution_count": 19,
   "metadata": {},
   "outputs": [
    {
     "name": "stdout",
     "output_type": "stream",
     "text": [
      "5    74.0\n",
      "Name: Hire_time, dtype: float64\n"
     ]
    },
    {
     "data": {
      "image/png": "[encoded data removed]",
      "text/plain": [
       "<matplotlib.figure.Figure at 0x115b5bd10>"
      ]
     },
     "metadata": {},
     "output_type": "display_data"
    }
   ],
   "source": [
    "job_title = job_table.index[20]\n",
    "value = jobs_df[jobs_df['Job']==job_title]['Hire_time']\n",
    "print value\n",
    "\n",
    "newwidth = 0.1\n",
    "ax = sns.barplot([job_title, 'Mean Hire Time'], [value, jobs_df['Hire_time'].mean()])\n",
    "for bar in ax.patches:\n",
    "    x = bar.get_x()\n",
    "    width = bar.get_width()\n",
    "    centre = x+width/2\n",
    "    \n",
    "    bar.set_width(width)\n",
    "    bar.set_x(centre-newwidth/2.)\n",
    "    bar.set_width(newwidth)\n",
    "plt.ylabel('Hire time (days)')\n",
    "plt.show()\n"
   ]
  },
  {
   "cell_type": "code",
   "execution_count": 20,
   "metadata": {},
   "outputs": [
    {
     "data": {
      "text/html": [
       "<div>\n",
       "<table border=\"1\" class=\"dataframe\">\n",
       "  <thead>\n",
       "    <tr style=\"text-align: right;\">\n",
       "      <th></th>\n",
       "      <th>Hire_time</th>\n",
       "    </tr>\n",
       "    <tr>\n",
       "      <th>Post</th>\n",
       "      <th></th>\n",
       "    </tr>\n",
       "  </thead>\n",
       "  <tbody>\n",
       "    <tr>\n",
       "      <th>2016-02-29</th>\n",
       "      <td>87.00</td>\n",
       "    </tr>\n",
       "    <tr>\n",
       "      <th>2016-03-31</th>\n",
       "      <td>113.25</td>\n",
       "    </tr>\n",
       "    <tr>\n",
       "      <th>2016-04-30</th>\n",
       "      <td>33.50</td>\n",
       "    </tr>\n",
       "    <tr>\n",
       "      <th>2016-05-31</th>\n",
       "      <td>46.00</td>\n",
       "    </tr>\n",
       "    <tr>\n",
       "      <th>2016-06-30</th>\n",
       "      <td>120.00</td>\n",
       "    </tr>\n",
       "    <tr>\n",
       "      <th>2016-07-31</th>\n",
       "      <td>27.50</td>\n",
       "    </tr>\n",
       "    <tr>\n",
       "      <th>2016-08-31</th>\n",
       "      <td>34.00</td>\n",
       "    </tr>\n",
       "    <tr>\n",
       "      <th>2016-09-30</th>\n",
       "      <td>18.00</td>\n",
       "    </tr>\n",
       "    <tr>\n",
       "      <th>2016-10-31</th>\n",
       "      <td>93.25</td>\n",
       "    </tr>\n",
       "    <tr>\n",
       "      <th>2016-11-30</th>\n",
       "      <td>22.50</td>\n",
       "    </tr>\n",
       "    <tr>\n",
       "      <th>2016-12-31</th>\n",
       "      <td>25.50</td>\n",
       "    </tr>\n",
       "    <tr>\n",
       "      <th>2017-01-31</th>\n",
       "      <td>21.00</td>\n",
       "    </tr>\n",
       "    <tr>\n",
       "      <th>2017-02-28</th>\n",
       "      <td>54.00</td>\n",
       "    </tr>\n",
       "    <tr>\n",
       "      <th>2017-03-31</th>\n",
       "      <td>74.00</td>\n",
       "    </tr>\n",
       "    <tr>\n",
       "      <th>2017-04-30</th>\n",
       "      <td>10.00</td>\n",
       "    </tr>\n",
       "  </tbody>\n",
       "</table>\n",
       "</div>"
      ],
      "text/plain": [
       "            Hire_time\n",
       "Post                 \n",
       "2016-02-29      87.00\n",
       "2016-03-31     113.25\n",
       "2016-04-30      33.50\n",
       "2016-05-31      46.00\n",
       "2016-06-30     120.00\n",
       "2016-07-31      27.50\n",
       "2016-08-31      34.00\n",
       "2016-09-30      18.00\n",
       "2016-10-31      93.25\n",
       "2016-11-30      22.50\n",
       "2016-12-31      25.50\n",
       "2017-01-31      21.00\n",
       "2017-02-28      54.00\n",
       "2017-03-31      74.00\n",
       "2017-04-30      10.00"
      ]
     },
     "execution_count": 20,
     "metadata": {},
     "output_type": "execute_result"
    }
   ],
   "source": [
    "jobs_time = jobs_df.set_index(jobs_df['Post'])\n",
    "avg_hire_times = jobs_time.groupby(pd.TimeGrouper(freq='M')).mean()\n",
    "avg_hire_times"
   ]
  },
  {
   "cell_type": "code",
   "execution_count": 21,
   "metadata": {},
   "outputs": [
    {
     "data": {
      "text/plain": [
       "[<matplotlib.lines.Line2D at 0x115d48f10>]"
      ]
     },
     "execution_count": 21,
     "metadata": {},
     "output_type": "execute_result"
    },
    {
     "data": {
      "image/png": "[encoded data removed]",
      "text/plain": [
       "<matplotlib.figure.Figure at 0x115b9b490>"
      ]
     },
     "metadata": {},
     "output_type": "display_data"
    }
   ],
   "source": [
    "plt.plot(avg_hire_times['Hire_time'])"
   ]
  },
  {
   "cell_type": "code",
   "execution_count": 22,
   "metadata": {},
   "outputs": [],
   "source": [
    "def plot_dash(i):\n",
    "    print 'Jobs with hires: %d' % jobs_df.shape[0]\n",
    "    print 'Jobs in total: %d' % len(job_table.index)\n",
    "    print ''\n",
    "    job_title = job_table.index[i]\n",
    "    print 'Job: %s' % job_title\n",
    "    if job_title in jobs_df['Job'].tolist():\n",
    "        value = jobs_df[jobs_df['Job']==job_title]['Hire_time']\n",
    "        print 'Posted on:'\n",
    "        print jobs_df[jobs_df['Job']==job_title]['Post']\n",
    "    \n",
    "        newwidth = 0.2        \n",
    "        plt.figure(figsize=(24, 18))\n",
    "        plt.subplot(3, 1, 1)\n",
    "        job_table.loc[job_table.index[i],:].plot.barh()\n",
    "        plt.xlabel('Number of people')\n",
    "        \n",
    "        plt.subplot(3, 1, 2)\n",
    "        plt.ylabel('Hire time (days)')\n",
    "        ax = sns.barplot([job_title, 'Mean Hire Time'], [value, jobs_df['Hire_time'].mean()])\n",
    "        for bar in ax.patches:\n",
    "            x = bar.get_x()\n",
    "            width = bar.get_width()\n",
    "            centre = x+width/2\n",
    "    \n",
    "            bar.set_width(width)\n",
    "            bar.set_x(centre-newwidth/2.)\n",
    "            bar.set_width(newwidth)\n",
    "        \n",
    "        plt.subplot(3, 1, 3)\n",
    "        plt.ylabel('Hire time (days)')\n",
    "        plt.plot(avg_hire_times['Hire_time'])\n",
    "        \n",
    "        plt.show()\n",
    "    else:\n",
    "        plt.figure(figsize=(16, 12))\n",
    "        plt.subplot(2, 1, 1)\n",
    "        job_table.loc[job_table.index[i],:].plot.barh()\n",
    "        plt.xlabel('Number of people')\n",
    "        \n",
    "        plt.subplot(2, 1, 2)\n",
    "        plt.ylabel('Hire time (days)')\n",
    "        plt.plot(avg_hire_times['Hire_time'])\n",
    "        \n",
    "        plt.show()"
   ]
  },
  {
   "cell_type": "code",
   "execution_count": 23,
   "metadata": {},
   "outputs": [
    {
     "name": "stdout",
     "output_type": "stream",
     "text": [
      "Jobs with hires: 29\n",
      "Jobs in total: 68\n",
      "\n",
      "Job: Corporate Benefits Entrepreneur\n",
      "Posted on:\n",
      "5   2017-03-21 15:14:26\n",
      "Name: Post, dtype: datetime64[ns]\n"
     ]
    },
    {
     "data": {
      "image/png": "[encoded data removed]",
      "text/plain": [
       "<matplotlib.figure.Figure at 0x116042790>"
      ]
     },
     "metadata": {},
     "output_type": "display_data"
    }
   ],
   "source": [
    "plot_dash(20)"
   ]
  },
  {
   "cell_type": "code",
   "execution_count": 24,
   "metadata": {},
   "outputs": [],
   "source": [
    "from ipywidgets import widgets, interactive"
   ]
  },
  {
   "cell_type": "code",
   "execution_count": 25,
   "metadata": {
    "collapsed": true
   },
   "outputs": [],
   "source": [
    "menu = {}\n",
    "for i, v in enumerate(job_table.index):\n",
    "    menu[v] = i\n",
    "    \n",
    "job_widget = widgets.Dropdown(\n",
    "    options=menu,\n",
    "    value=20,\n",
    "    description='Job:',\n",
    ")"
   ]
  },
  {
   "cell_type": "code",
   "execution_count": 26,
   "metadata": {},
   "outputs": [
    {
     "name": "stdout",
     "output_type": "stream",
     "text": [
      "(4861, 7)\n"
     ]
    }
   ],
   "source": [
    "print df.shape\n",
    "current = len(df[df['Current Pipeline'].notnull()]['Job title'].unique())\n",
    "current_jobs = list(df[df['Current Pipeline'].notnull()]['Job title'].unique())"
   ]
  },
  {
   "cell_type": "code",
   "execution_count": 27,
   "metadata": {
    "collapsed": true
   },
   "outputs": [],
   "source": [
    "def plot_widget(job_index):\n",
    "    i = job_index\n",
    "    print 'Jobs with hires: %d' % jobs_df.shape[0]\n",
    "    print 'Jobs in current pipeline: %d' % current\n",
    "    print 'Jobs in total: %d' % len(job_table2.index)\n",
    "    print ''\n",
    "    job_title = job_table2.index[i]\n",
    "    print 'Job: %s' % job_title\n",
    "    if job_title in current_jobs:\n",
    "        print 'Still in current pipeline'\n",
    "    if job_title in jobs_df['Job'].tolist():\n",
    "        print 'Posted on:'\n",
    "        print jobs_df[jobs_df['Job']==job_title]['Post'].tolist()[0]\n",
    "    \n",
    "        newwidth = 0.2        \n",
    "        plt.figure(figsize=(24, 24))\n",
    "        plt.subplot(4, 1, 1)\n",
    "        job_table2.loc[job_table.index[i],:].plot.barh()\n",
    "        plt.xlabel('Number of people')\n",
    "        \n",
    "        plt.subplot(4, 1, 2)\n",
    "        plt.ylabel('Conversion (%)')\n",
    "        conversion_rates[conversion_rates.columns[2:]].loc[conversion_rates.index[i],:].plot.bar(rot=0)\n",
    "        \n",
    "        plt.subplot(4, 1, 3)\n",
    "        plt.ylabel('Hire time (days)')\n",
    "        ax = sns.barplot([job_title, 'Mean Hire Time'], [value, jobs_df['Hire_time'].mean()])\n",
    "        for bar in ax.patches:\n",
    "            x = bar.get_x()\n",
    "            width = bar.get_width()\n",
    "            centre = x+width/2\n",
    "    \n",
    "            bar.set_width(width)\n",
    "            bar.set_x(centre-newwidth/2.)\n",
    "            bar.set_width(newwidth)\n",
    "        \n",
    "        plt.subplot(4, 1, 4)\n",
    "        plt.ylabel('Hire time (days)')\n",
    "        plt.plot(avg_hire_times['Hire_time'])\n",
    "        \n",
    "        plt.show()\n",
    "    else:\n",
    "        plt.figure(figsize=(16, 16))\n",
    "        plt.subplot(3, 1, 1)\n",
    "        job_table.loc[job_table2.index[i],:].plot.barh()\n",
    "        plt.xlabel('Number of people')\n",
    "        \n",
    "        plt.subplot(3, 1, 2)\n",
    "        plt.ylabel('Conversion (%)')\n",
    "        conversion_rates[conversion_rates.columns[2:]].loc[conversion_rates.index[i],:].plot.bar(rot=0)\n",
    "        \n",
    "        plt.subplot(3, 1, 3)\n",
    "        plt.ylabel('Hire time (days)')\n",
    "        plt.plot(avg_hire_times['Hire_time'])\n",
    "        \n",
    "        plt.show()"
   ]
  },
  {
   "cell_type": "code",
   "execution_count": 28,
   "metadata": {
    "scrolled": false
   },
   "outputs": [
    {
     "data": {
      "application/vnd.jupyter.widget-view+json": {
       "model_id": "4c8e84f32d484733a160134a4b5f43b7"
      }
     },
     "metadata": {},
     "output_type": "display_data"
    }
   ],
   "source": [
    "interactive(plot_widget, job_index=job_widget)"
   ]
  }
 ],
 "metadata": {
  "anaconda-cloud": {},
  "kernelspec": {
   "display_name": "Python [conda root]",
   "language": "python",
   "name": "conda-root-py"
  },
  "language_info": {
   "codemirror_mode": {
    "name": "ipython",
    "version": 2
   },
   "file_extension": ".py",
   "mimetype": "text/x-python",
   "name": "python",
   "nbconvert_exporter": "python",
   "pygments_lexer": "ipython2",
   "version": "2.7.12"
  },
  "widgets": {
   "application/vnd.jupyter.widget-state+json": {
    "state": {
     "4c8e84f32d484733a160134a4b5f43b7": {
      "model_module": "jupyter-js-widgets",
      "model_module_version": "~2.1.4",
      "model_name": "VBoxModel",
      "state": {
       "_dom_classes": [
        "widget-interact"
       ],
       "_model_module_version": "~2.1.4",
       "_view_module_version": "~2.1.4",
       "children": [
        "IPY_MODEL_715992aa6925489daa3ff425fec4815e",
        "IPY_MODEL_c425b9f8daf74bb4a7c5c335cfd8f063"
       ],
       "layout": "IPY_MODEL_60b13e39ea194be9be8808bf3afdff31"
      }
     },
     "60b13e39ea194be9be8808bf3afdff31": {
      "model_module": "jupyter-js-widgets",
      "model_module_version": "~2.1.4",
      "model_name": "LayoutModel",
      "state": {
       "_model_module_version": "~2.1.4",
       "_view_module_version": "~2.1.4"
      }
     },
     "715992aa6925489daa3ff425fec4815e": {
      "model_module": "jupyter-js-widgets",
      "model_module_version": "~2.1.4",
      "model_name": "DropdownModel",
      "state": {
       "_model_module_version": "~2.1.4",
       "_options_labels": [
        "Data Science Intern",
        "Aviation Entrepreneur",
        "Chief Technology Officer (CTO)",
        "Managing Director",
        "Operations Lead",
        "Talent Acquisition Specialist for REAPRA PTE. LTD.",
        "PR & Marketing Lead",
        "Software engineers Malaysia - Aspiria",
        "Research Intern (Media)",
        "ASPIRIA E-commerce & Sales Full Time (Malaysia OR Singapore)",
        "Business Management Intern in HealthBank",
        "Financial Analyst for Coent - Singapore",
        "Community Intern",
        "Corporate Strategy Manager for DIGITAL ENDEAVOR PTE. LTD.",
        "Corporate Benefits Entrepreneur",
        "Hospitality Entrepreneur",
        "Advertising Sales Director",
        "Software Engineer Vietnam - Aspiria",
        "Financial Manager / Director for DIGITAL ENDEAVOR PTE. LTD.",
        "Media Platform Manager - Aspiria",
        "Design Internship - HealthBank",
        "Business Development Internship",
        "VP of Revenue (Singapore)",
        "Director of Supply Chain & IT",
        "Finance & Accounting Associate (Japanese-speaking)",
        "Chief Operating Officer",
        "Research Intern (ASPIRIA)",
        "Content Writer Lead",
        "Spark X Lab Research Intern",
        "HR Intern",
        "Portfolio Manager for COENT Venture Partners",
        "Legal Counsel - Singapore",
        "Corporate Strategy Associate (Japanese-speaking)",
        "Investments Lead",
        "Open position-Research Role",
        "HR Officer",
        "CEO Real Estate Business",
        "Sales Executive",
        "Vice President of Revenue and Business Development",
        "HR Assistant Internship",
        "HR Assistant Internship for REAPRA",
        "CEO Entrepreneur Media Channel",
        "Beauty Information Portal Manager",
        "Chief Research Officer",
        "Intern, Community & Content",
        "The Ideal Entrepreneur",
        "Open Introductions",
        "Equity Research Intern (Korean-speaking)",
        "Aviation Strategist ( Airport/Airline )",
        "Office Manager",
        "CEO/Co-Founder (E-commerce/retail)",
        "HR Generalist",
        "Research Intern",
        "Marketing & Research Intern - ASPIRIA",
        "Intern, Corporate Strategy and Partnership",
        "Chief Researcher",
        "Business Development Intern",
        "Financial Controller",
        "Intern, Video & Production",
        "CTO (Venturas)",
        "Legal Counsel 2 - Singapore",
        "UI/UX Intern",
        "Research Internship in Aspiria",
        "Early Talent Pool",
        "Admin Intern",
        "Marketing Evangelist",
        "ASPIRIA Engineer",
        "Marketing Intern"
       ],
       "_view_module_version": "~2.1.4",
       "description": "Job:",
       "layout": "IPY_MODEL_d79ea15cd6e046219d54b06000e50ac7",
       "value": "Corporate Benefits Entrepreneur"
      }
     },
     "b9052845f4d448c398ec2a3845c63699": {
      "model_module": "jupyter-js-widgets",
      "model_module_version": "~2.1.4",
      "model_name": "LayoutModel",
      "state": {
       "_model_module_version": "~2.1.4",
       "_view_module_version": "~2.1.4"
      }
     },
     "c425b9f8daf74bb4a7c5c335cfd8f063": {
      "model_module": "jupyter-js-widgets",
      "model_module_version": "~2.1.4",
      "model_name": "OutputModel",
      "state": {
       "_dom_classes": [],
       "_model_module": "jupyter-js-widgets",
       "_model_module_version": "~2.1.4",
       "_view_module": "jupyter-js-widgets",
       "_view_module_version": "~2.1.4",
       "layout": "IPY_MODEL_b9052845f4d448c398ec2a3845c63699",
       "msg_throttle": 1
      }
     },
     "d79ea15cd6e046219d54b06000e50ac7": {
      "model_module": "jupyter-js-widgets",
      "model_module_version": "~2.1.4",
      "model_name": "LayoutModel",
      "state": {
       "_model_module_version": "~2.1.4",
       "_view_module_version": "~2.1.4"
      }
     }
    },
    "version_major": 1,
    "version_minor": 0
   }
  }
 },
 "nbformat": 4,
 "nbformat_minor": 2
}
